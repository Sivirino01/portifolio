{
 "cells": [
  {
   "cell_type": "code",
   "execution_count": 37,
   "id": "c2e31972",
   "metadata": {},
   "outputs": [],
   "source": [
    "import pandas as pd\n",
    "import cv2"
   ]
  },
  {
   "cell_type": "code",
   "execution_count": 38,
   "id": "a7b78b40",
   "metadata": {},
   "outputs": [],
   "source": [
    "import os\n",
    "\n",
    "pasta = \"dataset_todo/\"\n",
    "\n",
    "def files_path04(path):\n",
    "    infos =[]\n",
    "    for p, _, files in os.walk(os.path.abspath(path)):\n",
    "        for file in files:\n",
    "            infos.append(os.path.join(p, file))\n",
    "    return infos\n",
    "\n",
    "dados = files_path04(pasta)"
   ]
  },
  {
   "cell_type": "code",
   "execution_count": 39,
   "id": "e870d24a",
   "metadata": {},
   "outputs": [],
   "source": [
    "tipo = [i.split(\"\\\\\")[-3] for i in dados]\n",
    "subgroup = [i.split(\"\\\\\")[-2] for i in dados]\n",
    "filename = [i.split(\"\\\\\")[-1] for i in dados]\n",
    "classe = [0 if x == \"benigno\" else 1 for x in tipo  ]"
   ]
  },
  {
   "cell_type": "code",
   "execution_count": 40,
   "id": "c2fc82bf",
   "metadata": {},
   "outputs": [],
   "source": [
    "df = pd.DataFrame()"
   ]
  },
  {
   "cell_type": "code",
   "execution_count": 41,
   "id": "f76236bb",
   "metadata": {},
   "outputs": [],
   "source": [
    "df['filename'] = filename\n",
    "df['subgroup'] = subgroup\n",
    "df['tipo'] = tipo\n",
    "df['classe'] = classe"
   ]
  },
  {
   "cell_type": "code",
   "execution_count": 42,
   "id": "1611bc5a",
   "metadata": {},
   "outputs": [
    {
     "data": {
      "text/html": [
       "<div>\n",
       "<style scoped>\n",
       "    .dataframe tbody tr th:only-of-type {\n",
       "        vertical-align: middle;\n",
       "    }\n",
       "\n",
       "    .dataframe tbody tr th {\n",
       "        vertical-align: top;\n",
       "    }\n",
       "\n",
       "    .dataframe thead th {\n",
       "        text-align: right;\n",
       "    }\n",
       "</style>\n",
       "<table border=\"1\" class=\"dataframe\">\n",
       "  <thead>\n",
       "    <tr style=\"text-align: right;\">\n",
       "      <th></th>\n",
       "      <th>filename</th>\n",
       "      <th>subgroup</th>\n",
       "      <th>tipo</th>\n",
       "      <th>classe</th>\n",
       "    </tr>\n",
       "  </thead>\n",
       "  <tbody>\n",
       "    <tr>\n",
       "      <th>0</th>\n",
       "      <td>benigno10.png</td>\n",
       "      <td>53453eb2e4b05911cd6db1378</td>\n",
       "      <td>benigno</td>\n",
       "      <td>0</td>\n",
       "    </tr>\n",
       "    <tr>\n",
       "      <th>1</th>\n",
       "      <td>benigno11.png</td>\n",
       "      <td>53453eb2e4b05911cd6db1378</td>\n",
       "      <td>benigno</td>\n",
       "      <td>0</td>\n",
       "    </tr>\n",
       "    <tr>\n",
       "      <th>2</th>\n",
       "      <td>benigno12.png</td>\n",
       "      <td>53453eb2e4b05911cd6db1378</td>\n",
       "      <td>benigno</td>\n",
       "      <td>0</td>\n",
       "    </tr>\n",
       "    <tr>\n",
       "      <th>3</th>\n",
       "      <td>benigno13.png</td>\n",
       "      <td>53453eb2e4b05911cd6db1378</td>\n",
       "      <td>benigno</td>\n",
       "      <td>0</td>\n",
       "    </tr>\n",
       "    <tr>\n",
       "      <th>4</th>\n",
       "      <td>benigno210.png</td>\n",
       "      <td>53453eb2e4b05911cd6db1379</td>\n",
       "      <td>benigno</td>\n",
       "      <td>0</td>\n",
       "    </tr>\n",
       "    <tr>\n",
       "      <th>...</th>\n",
       "      <td>...</td>\n",
       "      <td>...</td>\n",
       "      <td>...</td>\n",
       "      <td>...</td>\n",
       "    </tr>\n",
       "    <tr>\n",
       "      <th>5620</th>\n",
       "      <td>maligno3077.png</td>\n",
       "      <td>53454d61e4b05911cd6db51aNodule 005</td>\n",
       "      <td>maligno</td>\n",
       "      <td>1</td>\n",
       "    </tr>\n",
       "    <tr>\n",
       "      <th>5621</th>\n",
       "      <td>maligno3078.png</td>\n",
       "      <td>53454d61e4b05911cd6db51aNodule 005</td>\n",
       "      <td>maligno</td>\n",
       "      <td>1</td>\n",
       "    </tr>\n",
       "    <tr>\n",
       "      <th>5622</th>\n",
       "      <td>maligno3079.png</td>\n",
       "      <td>53454d61e4b05911cd6db51aNodule 005</td>\n",
       "      <td>maligno</td>\n",
       "      <td>1</td>\n",
       "    </tr>\n",
       "    <tr>\n",
       "      <th>5623</th>\n",
       "      <td>maligno3080.png</td>\n",
       "      <td>53454d72e4b05911cd6db51dNodule 002</td>\n",
       "      <td>maligno</td>\n",
       "      <td>1</td>\n",
       "    </tr>\n",
       "    <tr>\n",
       "      <th>5624</th>\n",
       "      <td>maligno3081.png</td>\n",
       "      <td>53454d72e4b05911cd6db51dNodule 002</td>\n",
       "      <td>maligno</td>\n",
       "      <td>1</td>\n",
       "    </tr>\n",
       "  </tbody>\n",
       "</table>\n",
       "<p>5625 rows × 4 columns</p>\n",
       "</div>"
      ],
      "text/plain": [
       "             filename                            subgroup     tipo  classe\n",
       "0       benigno10.png           53453eb2e4b05911cd6db1378  benigno       0\n",
       "1       benigno11.png           53453eb2e4b05911cd6db1378  benigno       0\n",
       "2       benigno12.png           53453eb2e4b05911cd6db1378  benigno       0\n",
       "3       benigno13.png           53453eb2e4b05911cd6db1378  benigno       0\n",
       "4      benigno210.png           53453eb2e4b05911cd6db1379  benigno       0\n",
       "...               ...                                 ...      ...     ...\n",
       "5620  maligno3077.png  53454d61e4b05911cd6db51aNodule 005  maligno       1\n",
       "5621  maligno3078.png  53454d61e4b05911cd6db51aNodule 005  maligno       1\n",
       "5622  maligno3079.png  53454d61e4b05911cd6db51aNodule 005  maligno       1\n",
       "5623  maligno3080.png  53454d72e4b05911cd6db51dNodule 002  maligno       1\n",
       "5624  maligno3081.png  53454d72e4b05911cd6db51dNodule 002  maligno       1\n",
       "\n",
       "[5625 rows x 4 columns]"
      ]
     },
     "execution_count": 42,
     "metadata": {},
     "output_type": "execute_result"
    }
   ],
   "source": [
    "df"
   ]
  },
  {
   "cell_type": "code",
   "execution_count": 43,
   "id": "ad044ad2",
   "metadata": {},
   "outputs": [],
   "source": [
    "import seaborn as sns"
   ]
  },
  {
   "cell_type": "code",
   "execution_count": 44,
   "id": "c31cdc09",
   "metadata": {},
   "outputs": [
    {
     "data": {
      "text/plain": [
       "<AxesSubplot:xlabel='tipo', ylabel='Count'>"
      ]
     },
     "execution_count": 44,
     "metadata": {},
     "output_type": "execute_result"
    },
    {
     "data": {
      "image/png": "[encoded data removed]",
      "text/plain": [
       "<Figure size 432x288 with 1 Axes>"
      ]
     },
     "metadata": {
      "needs_background": "light"
     },
     "output_type": "display_data"
    }
   ],
   "source": [
    "sns.histplot(df['tipo'])"
   ]
  },
  {
   "cell_type": "code",
   "execution_count": 45,
   "id": "22914c93",
   "metadata": {},
   "outputs": [
    {
     "data": {
      "text/plain": [
       "benigno    3115\n",
       "maligno    2510\n",
       "Name: tipo, dtype: int64"
      ]
     },
     "execution_count": 45,
     "metadata": {},
     "output_type": "execute_result"
    }
   ],
   "source": [
    "df['tipo'].value_counts()"
   ]
  },
  {
   "cell_type": "code",
   "execution_count": 46,
   "id": "40d82d6a",
   "metadata": {},
   "outputs": [],
   "source": [
    "benignos_sub = df[df['tipo']=='benigno']['subgroup'].unique()\n",
    "malignos_sub = df[df['tipo']=='maligno']['subgroup'].unique()"
   ]
  },
  {
   "cell_type": "code",
   "execution_count": 47,
   "id": "174cd0f2",
   "metadata": {},
   "outputs": [],
   "source": [
    "import random\n",
    "random.seed(42)"
   ]
  },
  {
   "cell_type": "code",
   "execution_count": 48,
   "id": "19bde1cd",
   "metadata": {},
   "outputs": [],
   "source": [
    "random.shuffle(benignos_sub)\n",
    "random.shuffle(malignos_sub)"
   ]
  },
  {
   "cell_type": "code",
   "execution_count": 49,
   "id": "2b71e16f",
   "metadata": {},
   "outputs": [],
   "source": [
    "\n",
    "def split(lista, folds):\n",
    "    index=[]\n",
    "    pivo = int(len(lista)/folds)\n",
    "    for i in range(folds+1):\n",
    "        index.append(lista[i*pivo:pivo*(i+1)])\n",
    "    return index\n",
    "\n",
    "folds = 6\n",
    "index_benignos = split(benignos_sub,folds)\n",
    "index_malignos = split(malignos_sub,folds)\n"
   ]
  },
  {
   "cell_type": "code",
   "execution_count": 50,
   "id": "dab0c060",
   "metadata": {},
   "outputs": [],
   "source": [
    "import tensorflow as tf\n",
    "from tensorflow import keras\n",
    "from tensorflow.keras import layers"
   ]
  },
  {
   "cell_type": "code",
   "execution_count": 51,
   "id": "6eac30d8",
   "metadata": {},
   "outputs": [],
   "source": [
    "width = 64\n",
    "height = 64\n",
    "IMAGE_SIZE = (width,height)\n",
    "num_densa = 1024\n",
    "channels = 3\n",
    "num_out = 1\n"
   ]
  },
  {
   "cell_type": "code",
   "execution_count": 52,
   "id": "721405ee",
   "metadata": {},
   "outputs": [],
   "source": [
    "import numpy as np"
   ]
  },
  {
   "cell_type": "code",
   "execution_count": 53,
   "id": "dd669dbd",
   "metadata": {},
   "outputs": [],
   "source": [
    "def NormalizeData(data):\n",
    "    return (data - np.min(data)) / (np.max(data) - np.min(data))"
   ]
  },
  {
   "cell_type": "code",
   "execution_count": 54,
   "id": "86e4267d",
   "metadata": {},
   "outputs": [],
   "source": [
    "def concat_treino_idx(accessed_list):\n",
    "    out =[]\n",
    "    for i in accessed_list:\n",
    "        for j in i:\n",
    "            out.append(j)\n",
    "    return out"
   ]
  },
  {
   "cell_type": "code",
   "execution_count": 55,
   "id": "2995ba08",
   "metadata": {},
   "outputs": [],
   "source": [
    "def images_por_fold(index_benignos,treino_idx,teste_idx,val_idx,tipo):\n",
    "    treino_idx.remove(val_idx)\n",
    "    treino_idx.remove(teste_idx)\n",
    "    accessed_mapping = map(index_benignos.__getitem__, treino_idx)\n",
    "    accessed_list = list(accessed_mapping)\n",
    "    treino_idx = concat_treino_idx(accessed_list)\n",
    "    \n",
    "    treino = images_labels(treino_idx,tipo)\n",
    "    val = images_labels(index_benignos[val_idx],tipo)\n",
    "    teste = images_labels(index_benignos[teste_idx],tipo)\n",
    "    return treino,val,teste\n",
    "    "
   ]
  },
  {
   "cell_type": "code",
   "execution_count": 56,
   "id": "4122b282",
   "metadata": {},
   "outputs": [],
   "source": [
    "\n",
    "def images_labels(indexs,tipo):\n",
    "    first = True\n",
    "    for i in indexs:\n",
    "\n",
    "        imagens = df[(df['subgroup']==i)& (df['tipo']==tipo)]['filename'].values\n",
    "        X_train = np.zeros((len(imagens), width, height, channels))\n",
    "\n",
    "        for idx,j in  enumerate(imagens):\n",
    "            X_train[idx] =  np.asarray(cv2.resize(NormalizeData(cv2.imread(pasta+tipo+\"/\"+i+\"/\"+j))*255, (64,64), interpolation = cv2.INTER_AREA))\n",
    "\n",
    "        X_train = X_train.reshape(( X_train.shape[0],) +(width, height,channels)).astype('float32') / 255. \n",
    "        if first:\n",
    "            out = X_train\n",
    "        else:\n",
    "            out = np.concatenate((X_train,out))  \n",
    "        first = False\n",
    "    return out\n",
    "    "
   ]
  },
  {
   "cell_type": "code",
   "execution_count": 57,
   "id": "fed7f464",
   "metadata": {},
   "outputs": [],
   "source": [
    "from keras.preprocessing.image import ImageDataGenerator\n",
    "num_densa= 1024"
   ]
  },
  {
   "cell_type": "code",
   "execution_count": 58,
   "id": "5a9b2634",
   "metadata": {},
   "outputs": [],
   "source": [
    "from tensorflow.keras.callbacks import EarlyStopping\n",
    "es = EarlyStopping(monitor='val_loss', mode='min', verbose=1, patience=1)"
   ]
  },
  {
   "cell_type": "code",
   "execution_count": 59,
   "id": "294d98e1",
   "metadata": {},
   "outputs": [],
   "source": [
    "def images_labels_arg(imagens,path_arg):\n",
    "    \n",
    "    \n",
    "    first = True\n",
    "    X_train = np.zeros((len(imagens), width, height, channels))\n",
    "    for idx,i in enumerate(imagens):\n",
    "        \n",
    "        X_train[idx] =  np.asarray(cv2.resize(NormalizeData(cv2.imread(path_arg+i))*255, (64,64), interpolation = cv2.INTER_AREA))\n",
    "\n",
    "    X_train = X_train.reshape(( X_train.shape[0],) +(width, height,channels)).astype('float32') / 255. \n",
    "    return X_train"
   ]
  },
  {
   "cell_type": "code",
   "execution_count": 60,
   "id": "6961a77c",
   "metadata": {},
   "outputs": [],
   "source": [
    "def get_arg(treino_b,quant_imag_b,path_arg_b ):\n",
    "\n",
    "    datagen_b = ImageDataGenerator(horizontal_flip=True,rotation_range=30,zoom_range=[0.7,1.0])\n",
    "    it_b = datagen_b.flow(treino_b, batch_size=1)\n",
    "    \n",
    "    for i in range(quant_imag_b):\n",
    "        batch = it_b.next()\n",
    "        cv2.imwrite(path_arg_b+str(i)+\"arg_.png\",batch.squeeze()*255)\n",
    "        \n",
    "    dados_ags_b = files_path04(path_arg_b)\n",
    "    filename_arg_b = [i.split(\"\\\\\")[-1] for i in dados_ags_b]\n",
    "    return images_labels_arg(filename_arg_b,path_arg_b)"
   ]
  },
  {
   "cell_type": "code",
   "execution_count": 61,
   "id": "a08a24d9",
   "metadata": {},
   "outputs": [],
   "source": [
    "import gc"
   ]
  },
  {
   "cell_type": "code",
   "execution_count": 65,
   "id": "f3dee666",
   "metadata": {},
   "outputs": [],
   "source": [
    "def clear():\n",
    "    tf.keras.backend.clear_session()\n",
    "    gc.collect()"
   ]
  },
  {
   "cell_type": "code",
   "execution_count": null,
   "id": "08e0adbe",
   "metadata": {},
   "outputs": [],
   "source": [
    "clear()"
   ]
  },
  {
   "cell_type": "code",
   "execution_count": null,
   "id": "6bd3df39",
   "metadata": {},
   "outputs": [],
   "source": [
    "clear()"
   ]
  },
  {
   "cell_type": "code",
   "execution_count": null,
   "id": "972112f2",
   "metadata": {},
   "outputs": [],
   "source": [
    "clear()"
   ]
  },
  {
   "cell_type": "code",
   "execution_count": 66,
   "id": "22278090",
   "metadata": {},
   "outputs": [],
   "source": [
    "def sufller(X,y):\n",
    "    rando_aux = list(zip(X, y))\n",
    "    random.shuffle(rando_aux)\n",
    "    X, y = zip(*rando_aux)    \n",
    "    X = np.array(X).squeeze()\n",
    "    y = np.asarray(y)\n",
    "    return X,y"
   ]
  },
  {
   "cell_type": "code",
   "execution_count": 67,
   "id": "be9b6e8d",
   "metadata": {},
   "outputs": [],
   "source": [
    "def treinar_modelo(modelo,X_train, y_train,X_val, y_val,X_teste):\n",
    "    \n",
    "    optimizer = keras.optimizers.Adam(learning_rate=0.0001)\n",
    "    \n",
    "    modelo.compile(\n",
    "        optimizer=optimizer, loss=\"binary_crossentropy\", metrics=[\"accuracy\"]\n",
    "    )\n",
    "    \n",
    "    modelo.fit(X_train, y_train,batch_size=batch_size, epochs=num_epochs, validation_data=(X_val, y_val), callbacks=[es])\n",
    "    \n",
    "    return modelo.predict(X_teste)\n",
    "    \n",
    "    "
   ]
  },
  {
   "cell_type": "code",
   "execution_count": 68,
   "id": "249b7a79",
   "metadata": {},
   "outputs": [],
   "source": [
    "batch_size_gan = 64\n",
    "\n",
    "def create_batch(x_train):\n",
    "    dataset = tf.data.Dataset.from_tensor_slices(x_train).shuffle(1000)\n",
    "\n",
    "\n",
    "    dataset = dataset.batch(batch_size_gan, drop_remainder = True).prefetch(1)\n",
    "\n",
    "    return dataset"
   ]
  },
  {
   "cell_type": "code",
   "execution_count": 69,
   "id": "9f0fa841",
   "metadata": {},
   "outputs": [],
   "source": [
    "from tensorflow.keras import models"
   ]
  },
  {
   "cell_type": "code",
   "execution_count": 83,
   "id": "c2a84f95",
   "metadata": {},
   "outputs": [],
   "source": [
    "def get_cnn_Custom():\n",
    "    #Igual da minha tese\n",
    "    model = models.Sequential()\n",
    "    model.add(layers.Conv2D(256, (3, 3), activation='relu', input_shape=(64, 64, 3)))\n",
    "    model.add(layers.Dropout(0.4))\n",
    "    model.add(layers.MaxPooling2D((2, 2)))\n",
    "    model.add(layers.Conv2D(128, (3, 3), activation='relu'))\n",
    "    model.add(layers.Dropout(0.4))\n",
    "    model.add(layers.MaxPooling2D((2, 2)))\n",
    "    model.add(layers.Conv2D(64, (3, 3), activation='relu'))\n",
    "    model.add(layers.Dropout(0.4))\n",
    "    #model.add(layers.MaxPooling2D((2, 2)))\n",
    "    model.add(layers.Flatten())\n",
    "    model.add(layers.Dense(num_densa*2, activation=\"relu\"))\n",
    "    model.add(layers.Dense(num_densa*2, activation=\"relu\"))\n",
    "    model.add(layers.Dense(num_out, activation=\"sigmoid\"))\n",
    "    \n",
    "    return model"
   ]
  },
  {
   "cell_type": "code",
   "execution_count": null,
   "id": "c401dce3",
   "metadata": {},
   "outputs": [],
   "source": []
  },
  {
   "cell_type": "code",
   "execution_count": 84,
   "id": "8ab4349e",
   "metadata": {},
   "outputs": [],
   "source": [
    "clear()\n",
    "clear()\n",
    "clear()\n",
    "clear()"
   ]
  },
  {
   "cell_type": "code",
   "execution_count": 85,
   "id": "e75876d6",
   "metadata": {},
   "outputs": [],
   "source": [
    "import matplotlib.pyplot as plt"
   ]
  },
  {
   "cell_type": "code",
   "execution_count": 86,
   "id": "55827675",
   "metadata": {},
   "outputs": [
    {
     "name": "stdout",
     "output_type": "stream",
     "text": [
      "Folds:  0\n",
      "Carregando dados\n",
      "Inicio do treinamento\n",
      "\n",
      "----------\n",
      "Custom\n",
      "Epoch 1/200\n",
      "1250/1250 [==============================] - 23s 18ms/step - loss: 0.5030 - accuracy: 0.7666 - val_loss: 0.5424 - val_accuracy: 0.7629\n",
      "Epoch 2/200\n",
      "1250/1250 [==============================] - 23s 18ms/step - loss: 0.3991 - accuracy: 0.8197 - val_loss: 0.5258 - val_accuracy: 0.7414\n",
      "Epoch 3/200\n",
      "1250/1250 [==============================] - 23s 18ms/step - loss: 0.3075 - accuracy: 0.8661 - val_loss: 0.5266 - val_accuracy: 0.7178\n",
      "Epoch 3: early stopping\n"
     ]
    }
   ],
   "source": [
    "quant_imag_b =10000\n",
    "range_misto_b = int(quant_imag_b/4)\n",
    "path_arg_b = \"aumentos/aumento_b_v2/\"\n",
    "\n",
    "quant_imag_m =10000\n",
    "range_misto_m = int(quant_imag_m/4)\n",
    "path_arg_m = \"aumentos/aumento_m_v2/\"\n",
    "\n",
    "#resultado clássico\n",
    "\n",
    "\n",
    "cust_result =[]\n",
    "\n",
    "\n",
    "y_test_list =[]\n",
    "\n",
    "val_idx = 1\n",
    "teste_idx = 2\n",
    "\n",
    "threshold =0.5\n",
    "batch_size = 16\n",
    "num_epochs = 200\n",
    "\n",
    "#for i in range(2):\n",
    "for i in range(folds):\n",
    "    print(\"Folds: \",i)\n",
    "    print(\"Carregando dados\")\n",
    "    #ler dados\n",
    "    tipo = \"benigno\"\n",
    "    treino_idx = [item for item in range(folds)]\n",
    "    treino_b,val_b,teste_b = images_por_fold(index_benignos,treino_idx,teste_idx,val_idx,tipo)\n",
    "    \n",
    "    tipo = \"maligno\"\n",
    "    treino_idx = [item for item in range(folds)]\n",
    "    treino_m,val_m,teste_m = images_por_fold(index_malignos,treino_idx,teste_idx,val_idx,tipo)\n",
    "    \n",
    "    \n",
    "    #SEM USAR OS DADOS ORIGINAIS:\n",
    "    treino_b_arg_classico = get_arg(treino_b,quant_imag_b,path_arg_b)\n",
    "    treino_m_arg_classico = get_arg(treino_m,quant_imag_m,path_arg_m)\n",
    "    \n",
    "    \n",
    "    treino_b_label = np.repeat(0, len(treino_b_arg_classico))\n",
    "    val_b_label = np.repeat(0, len(val_b))\n",
    "    teste_b_label = np.repeat(0, len(teste_b))\n",
    "    \n",
    "    treino_m_label = np.repeat(1, len(treino_m_arg_classico))\n",
    "    val_m_label = np.repeat(1, len(val_m))\n",
    "    teste_m_label = np.repeat(1, len(teste_m))\n",
    "    \n",
    "    #Aumento com classico\n",
    "    X_train = np.concatenate((treino_b_arg_classico,treino_m_arg_classico))\n",
    "    y_train = np.concatenate((treino_b_label,treino_m_label))\n",
    "    \n",
    "    X_train, y_train = sufller(X_train, y_train)\n",
    "    \n",
    "    \n",
    "    \n",
    "    #Cortando o malignos para ficar igual\n",
    "    X_val = np.concatenate((val_b,val_m[:len(val_b)]))\n",
    "    y_val = np.concatenate((val_b_label,val_m_label[:len(val_b_label)]))\n",
    "    \n",
    "    \n",
    "    X_val, y_val = sufller(X_val, y_val)\n",
    "    \n",
    "    #Cortando o malignos para ficar igual\n",
    "    X_teste = np.concatenate((teste_b,teste_m[:len(teste_b)]))\n",
    "    y_teste = np.concatenate((teste_b_label,teste_m_label[:len(teste_b_label)]))\n",
    "    \n",
    "    X_teste, y_teste = sufller(X_teste, y_teste)\n",
    "    \n",
    "    y_test_list.append(y_teste)\n",
    "    \n",
    "    print(\"Inicio do treinamento\")\n",
    "    print()\n",
    "    \n",
    "    \n",
    "    \n",
    "    \n",
    "    #Custom\n",
    "    print(\"----------\")\n",
    "    print(\"Custom\")\n",
    "    model = get_cnn_Custom()\n",
    "    cust_result.append(treinar_modelo(model,X_train, y_train,X_val, y_val,X_teste))\n",
    "    clear()\n",
    "    clear()\n",
    "    \n",
    "    val_idx = val_idx + 1\n",
    "    if val_idx>= folds:\n",
    "        val_idx = 0\n",
    "    teste_idx = teste_idx + 1\n",
    "    if teste_idx>= folds:\n",
    "        teste_idx = 0\n",
    "    break"
   ]
  },
  {
   "cell_type": "code",
   "execution_count": 87,
   "id": "cd0e73ad",
   "metadata": {},
   "outputs": [
    {
     "name": "stdout",
     "output_type": "stream",
     "text": [
      "Model: \"sequential\"\n",
      "_________________________________________________________________\n",
      " Layer (type)                Output Shape              Param #   \n",
      "=================================================================\n",
      " conv2d (Conv2D)             (None, 62, 62, 256)       7168      \n",
      "                                                                 \n",
      " dropout (Dropout)           (None, 62, 62, 256)       0         \n",
      "                                                                 \n",
      " max_pooling2d (MaxPooling2D  (None, 31, 31, 256)      0         \n",
      " )                                                               \n",
      "                                                                 \n",
      " conv2d_1 (Conv2D)           (None, 29, 29, 128)       295040    \n",
      "                                                                 \n",
      " dropout_1 (Dropout)         (None, 29, 29, 128)       0         \n",
      "                                                                 \n",
      " max_pooling2d_1 (MaxPooling  (None, 14, 14, 128)      0         \n",
      " 2D)                                                             \n",
      "                                                                 \n",
      " conv2d_2 (Conv2D)           (None, 12, 12, 64)        73792     \n",
      "                                                                 \n",
      " dropout_2 (Dropout)         (None, 12, 12, 64)        0         \n",
      "                                                                 \n",
      " flatten (Flatten)           (None, 9216)              0         \n",
      "                                                                 \n",
      " dense (Dense)               (None, 2048)              18876416  \n",
      "                                                                 \n",
      " dense_1 (Dense)             (None, 2048)              4196352   \n",
      "                                                                 \n",
      " dense_2 (Dense)             (None, 1)                 2049      \n",
      "                                                                 \n",
      "=================================================================\n",
      "Total params: 23,450,817\n",
      "Trainable params: 23,450,817\n",
      "Non-trainable params: 0\n",
      "_________________________________________________________________\n"
     ]
    }
   ],
   "source": [
    "model.summary()"
   ]
  },
  {
   "cell_type": "code",
   "execution_count": 93,
   "id": "902afcc1",
   "metadata": {},
   "outputs": [],
   "source": [
    "import scipy as sp\n",
    "import tensorflow.keras.backend as K\n",
    "\n",
    "def get_CAM(processed_image, actual_label, layer_name='conv2d_2'):\n",
    "    model_grad = tf.keras.models.Model([model.inputs], \n",
    "                       [model.get_layer(layer_name).output, model.output])\n",
    "    \n",
    "    with tf.GradientTape() as tape:\n",
    "        conv_output_values, predictions = model_grad(processed_image)\n",
    "        tape.watch(conv_output_values)\n",
    "        actual_label = tf.cast(actual_label, dtype=tf.float32)\n",
    "        loss = tf.keras.losses.binary_crossentropy(tf.transpose(actual_label), predictions[0])\n",
    "      \n",
    "    \n",
    "    # get the gradient of the loss with respect to the outputs of the last conv layer\n",
    "    grads_values = tape.gradient(loss, conv_output_values)\n",
    "    grads_values = K.mean(grads_values, axis=(0,1,2))\n",
    "    \n",
    "    conv_output_values = np.squeeze(conv_output_values.numpy())\n",
    "    grads_values = grads_values.numpy()\n",
    "    \n",
    "    # weight the convolution outputs with the computed gradients\n",
    "    for i in range(64): \n",
    "        conv_output_values[:,:,i] *= grads_values[i]\n",
    "    heatmap = np.mean(conv_output_values, axis=-1)\n",
    "    \n",
    "    heatmap = np.maximum(heatmap, 0)\n",
    "    heatmap /= heatmap.max()\n",
    "    \n",
    "    del model_grad, conv_output_values, grads_values, loss\n",
    "   \n",
    "    return heatmap, predictions[0]"
   ]
  },
  {
   "cell_type": "code",
   "execution_count": 94,
   "id": "a203558e",
   "metadata": {},
   "outputs": [],
   "source": [
    "import random\n",
    "import cv2\n",
    "def show_sample(idx=0):\n",
    "    \n",
    "    sample_image = X_teste[idx]\n",
    "    sample_label = y_teste[idx]\n",
    "    \n",
    "    sample_image_processed = np.expand_dims(sample_image, axis=0)\n",
    "       \n",
    "    heatmap, pred = get_CAM(sample_image_processed, sample_label)\n",
    "    heatmap = cv2.resize(heatmap, (sample_image.shape[0], sample_image.shape[1]))\n",
    "    heatmap = heatmap *255\n",
    "    heatmap = np.clip(heatmap, 0, 255).astype(np.uint8)\n",
    "    heatmap = cv2.applyColorMap(heatmap, cv2.COLORMAP_HOT)\n",
    "    converted_img = sample_image.astype('float32')\n",
    "    super_imposed_image = cv2.addWeighted(converted_img, 0.8, heatmap.astype('float32'), 2e-3, 0.0)\n",
    "\n",
    "    f,ax = plt.subplots(1,3, figsize=(12,8))\n",
    "    #print(sample_image.shape)\n",
    "    ax[0].imshow(sample_image)\n",
    "    ax[0].set_title(f\"Predicted label: {pred}\")\n",
    "    ax[0].axis('off')\n",
    "    \n",
    "    ax[1].imshow(heatmap)\n",
    "    ax[1].set_title(\"Class Activation Map\")\n",
    "    ax[1].axis('off')\n",
    "    \n",
    "    ax[2].imshow(super_imposed_image)\n",
    "    ax[2].set_title(\"Activation map superimposed\")\n",
    "    ax[2].axis('off')\n",
    "    plt.tight_layout()\n",
    "    plt.show()"
   ]
  },
  {
   "cell_type": "code",
   "execution_count": 108,
   "id": "eabf2571",
   "metadata": {},
   "outputs": [
    {
     "data": {
      "text/plain": [
       "<matplotlib.image.AxesImage at 0x203a4f4d0d0>"
      ]
     },
     "execution_count": 108,
     "metadata": {},
     "output_type": "execute_result"
    },
    {
     "data": {
      "image/png": "[encoded data removed]",
      "text/plain": [
       "<Figure size 432x288 with 1 Axes>"
      ]
     },
     "metadata": {
      "needs_background": "light"
     },
     "output_type": "display_data"
    }
   ],
   "source": [
    "plt.imshow(X_teste[exemplo])"
   ]
  },
  {
   "cell_type": "code",
   "execution_count": 118,
   "id": "5ad69f30",
   "metadata": {},
   "outputs": [],
   "source": [
    "import random"
   ]
  },
  {
   "cell_type": "code",
   "execution_count": 120,
   "id": "ecca8193",
   "metadata": {},
   "outputs": [
    {
     "name": "stdout",
     "output_type": "stream",
     "text": [
      "True: \n",
      "1\n",
      "Predição: \n"
     ]
    },
    {
     "name": "stderr",
     "output_type": "stream",
     "text": [
      "Clipping input data to the valid range for imshow with RGB data ([0..1] for floats or [0..255] for integers).\n"
     ]
    },
    {
     "name": "stdout",
     "output_type": "stream",
     "text": [
      "1\n"
     ]
    },
    {
     "data": {
      "image/png": "[encoded data removed]",
      "text/plain": [
       "<Figure size 864x576 with 3 Axes>"
      ]
     },
     "metadata": {
      "needs_background": "light"
     },
     "output_type": "display_data"
    }
   ],
   "source": [
    "exemplo = random.randint(0, len(y_teste))\n",
    "print(\"True: \")\n",
    "print(y_teste[exemplo])\n",
    "print(\"Predição: \")\n",
    "print(np.where(model.predict(X_teste)[exemplo]> threshold, 1,0)[0])\n",
    "show_sample(idx=exemplo)"
   ]
  },
  {
   "cell_type": "code",
   "execution_count": null,
   "id": "2901781e",
   "metadata": {},
   "outputs": [],
   "source": []
  }
 ],
 "metadata": {
  "kernelspec": {
   "display_name": "Python 3 (ipykernel)",
   "language": "python",
   "name": "python3"
  },
  "language_info": {
   "codemirror_mode": {
    "name": "ipython",
    "version": 3
   },
   "file_extension": ".py",
   "mimetype": "text/x-python",
   "name": "python",
   "nbconvert_exporter": "python",
   "pygments_lexer": "ipython3",
   "version": "3.9.12"
  }
 },
 "nbformat": 4,
 "nbformat_minor": 5
}
