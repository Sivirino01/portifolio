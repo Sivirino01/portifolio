{
 "cells": [
  {
   "cell_type": "markdown",
   "id": "71b8e1ea",
   "metadata": {},
   "source": [
    "https://s3-sa-east-1.amazonaws.com/ckan.saude.gov.br/dados-al.csv"
   ]
  },
  {
   "cell_type": "code",
   "execution_count": 361,
   "id": "8a4a89ce",
   "metadata": {},
   "outputs": [],
   "source": [
    "import numpy as np\n",
    "import pandas as pd\n",
    "import seaborn as sns\n",
    "from datetime import timedelta\n",
    "import plotly.express as px\n",
    "from datetime import datetime\n",
    "from datetime import date\n",
    "import numpy as np\n",
    "from scipy import stats\n",
    "from matplotlib import pyplot as plt"
   ]
  },
  {
   "cell_type": "markdown",
   "id": "750c90f2",
   "metadata": {},
   "source": [
    "### Leitura dos dados"
   ]
  },
  {
   "cell_type": "code",
   "execution_count": 362,
   "id": "81adebf4",
   "metadata": {},
   "outputs": [
    {
     "data": {
      "text/html": [
       "<div>\n",
       "<style scoped>\n",
       "    .dataframe tbody tr th:only-of-type {\n",
       "        vertical-align: middle;\n",
       "    }\n",
       "\n",
       "    .dataframe tbody tr th {\n",
       "        vertical-align: top;\n",
       "    }\n",
       "\n",
       "    .dataframe thead th {\n",
       "        text-align: right;\n",
       "    }\n",
       "</style>\n",
       "<table border=\"1\" class=\"dataframe\">\n",
       "  <thead>\n",
       "    <tr style=\"text-align: right;\">\n",
       "      <th></th>\n",
       "      <th>id</th>\n",
       "      <th>dataNotificacao</th>\n",
       "      <th>dataInicioSintomas</th>\n",
       "      <th>dataNascimento</th>\n",
       "      <th>sintomas</th>\n",
       "      <th>profissionalSaude</th>\n",
       "      <th>cbo</th>\n",
       "      <th>condicoes</th>\n",
       "      <th>estadoTeste</th>\n",
       "      <th>dataTeste</th>\n",
       "      <th>...</th>\n",
       "      <th>estadoNotificacao</th>\n",
       "      <th>estadoNotificacaoIBGE</th>\n",
       "      <th>municipioNotificacao</th>\n",
       "      <th>municipioNotificacaoIBGE</th>\n",
       "      <th>excluido</th>\n",
       "      <th>validado</th>\n",
       "      <th>idade</th>\n",
       "      <th>dataEncerramento</th>\n",
       "      <th>evolucaoCaso</th>\n",
       "      <th>classificacaoFinal</th>\n",
       "    </tr>\n",
       "  </thead>\n",
       "  <tbody>\n",
       "    <tr>\n",
       "      <th>0</th>\n",
       "      <td>ZhUa1ql0lL</td>\n",
       "      <td>2020-05-31T15:01:33.806Z</td>\n",
       "      <td>2020-05-14T03:00:00.000Z</td>\n",
       "      <td>1990-01-01T02:00:00.000Z</td>\n",
       "      <td>Outros</td>\n",
       "      <td>Não</td>\n",
       "      <td>NaN</td>\n",
       "      <td>NaN</td>\n",
       "      <td>Concluído</td>\n",
       "      <td>2020-05-22T03:00:00.000Z</td>\n",
       "      <td>...</td>\n",
       "      <td>Alagoas</td>\n",
       "      <td>27.0</td>\n",
       "      <td>Maragogi</td>\n",
       "      <td>2704500.0</td>\n",
       "      <td>undefined</td>\n",
       "      <td>undefined</td>\n",
       "      <td>31.0</td>\n",
       "      <td>2020-06-18T03:00:00.000Z</td>\n",
       "      <td>Cura</td>\n",
       "      <td>Descartado</td>\n",
       "    </tr>\n",
       "    <tr>\n",
       "      <th>1</th>\n",
       "      <td>WTILjC3jL8</td>\n",
       "      <td>2020-06-03T11:23:35.325Z</td>\n",
       "      <td>2020-05-29T03:00:00.000Z</td>\n",
       "      <td>1985-12-22T02:00:00.000Z</td>\n",
       "      <td>Dor de Garganta, Tosse</td>\n",
       "      <td>Não</td>\n",
       "      <td>NaN</td>\n",
       "      <td>NaN</td>\n",
       "      <td>Concluído</td>\n",
       "      <td>2020-06-01T03:00:00.000Z</td>\n",
       "      <td>...</td>\n",
       "      <td>São Paulo</td>\n",
       "      <td>35.0</td>\n",
       "      <td>São Paulo</td>\n",
       "      <td>3550308.0</td>\n",
       "      <td>undefined</td>\n",
       "      <td>undefined</td>\n",
       "      <td>35.0</td>\n",
       "      <td>2020-06-18T03:00:00.000Z</td>\n",
       "      <td>Cura</td>\n",
       "      <td>Confirmado Laboratorial</td>\n",
       "    </tr>\n",
       "    <tr>\n",
       "      <th>2</th>\n",
       "      <td>sdMUUT2oiS</td>\n",
       "      <td>2020-06-18T03:52:09.023Z</td>\n",
       "      <td>2020-06-14T03:00:00.000Z</td>\n",
       "      <td>1951-06-12T03:00:00.000Z</td>\n",
       "      <td>Tosse</td>\n",
       "      <td>Não</td>\n",
       "      <td>NaN</td>\n",
       "      <td>NaN</td>\n",
       "      <td>Solicitado</td>\n",
       "      <td>NaN</td>\n",
       "      <td>...</td>\n",
       "      <td>Alagoas</td>\n",
       "      <td>27.0</td>\n",
       "      <td>Maceió</td>\n",
       "      <td>2704302.0</td>\n",
       "      <td>undefined</td>\n",
       "      <td>undefined</td>\n",
       "      <td>70.0</td>\n",
       "      <td>NaN</td>\n",
       "      <td>NaN</td>\n",
       "      <td>NaN</td>\n",
       "    </tr>\n",
       "    <tr>\n",
       "      <th>3</th>\n",
       "      <td>4O4TJ5zi8T</td>\n",
       "      <td>2020-06-18T11:54:11.332Z</td>\n",
       "      <td>2020-06-10T03:00:00.000Z</td>\n",
       "      <td>1946-03-22T03:00:00.000Z</td>\n",
       "      <td>Febre, Tosse, Dispneia</td>\n",
       "      <td>Não</td>\n",
       "      <td>NaN</td>\n",
       "      <td>Diabetes, Doenças cardíacas crônicas</td>\n",
       "      <td>NaN</td>\n",
       "      <td>NaN</td>\n",
       "      <td>...</td>\n",
       "      <td>Alagoas</td>\n",
       "      <td>27.0</td>\n",
       "      <td>Maceió</td>\n",
       "      <td>2704302.0</td>\n",
       "      <td>undefined</td>\n",
       "      <td>undefined</td>\n",
       "      <td>75.0</td>\n",
       "      <td>NaN</td>\n",
       "      <td>NaN</td>\n",
       "      <td>NaN</td>\n",
       "    </tr>\n",
       "    <tr>\n",
       "      <th>4</th>\n",
       "      <td>M1DH1j7Os5</td>\n",
       "      <td>2020-05-26T03:00:00.000Z</td>\n",
       "      <td>2020-05-17T03:00:00.000Z</td>\n",
       "      <td>2000-01-09T03:00:00.000Z</td>\n",
       "      <td>Febre, Tosse, Outros, Dor de Garganta</td>\n",
       "      <td>Não</td>\n",
       "      <td>NaN</td>\n",
       "      <td>NaN</td>\n",
       "      <td>Concluído</td>\n",
       "      <td>2020-05-25T03:00:00.000Z</td>\n",
       "      <td>...</td>\n",
       "      <td>Alagoas</td>\n",
       "      <td>27.0</td>\n",
       "      <td>Maribondo</td>\n",
       "      <td>2704807.0</td>\n",
       "      <td>undefined</td>\n",
       "      <td>undefined</td>\n",
       "      <td>21.0</td>\n",
       "      <td>NaN</td>\n",
       "      <td>NaN</td>\n",
       "      <td>Descartado</td>\n",
       "    </tr>\n",
       "  </tbody>\n",
       "</table>\n",
       "<p>5 rows × 29 columns</p>\n",
       "</div>"
      ],
      "text/plain": [
       "           id           dataNotificacao        dataInicioSintomas  \\\n",
       "0  ZhUa1ql0lL  2020-05-31T15:01:33.806Z  2020-05-14T03:00:00.000Z   \n",
       "1  WTILjC3jL8  2020-06-03T11:23:35.325Z  2020-05-29T03:00:00.000Z   \n",
       "2  sdMUUT2oiS  2020-06-18T03:52:09.023Z  2020-06-14T03:00:00.000Z   \n",
       "3  4O4TJ5zi8T  2020-06-18T11:54:11.332Z  2020-06-10T03:00:00.000Z   \n",
       "4  M1DH1j7Os5  2020-05-26T03:00:00.000Z  2020-05-17T03:00:00.000Z   \n",
       "\n",
       "             dataNascimento                               sintomas  \\\n",
       "0  1990-01-01T02:00:00.000Z                                 Outros   \n",
       "1  1985-12-22T02:00:00.000Z                 Dor de Garganta, Tosse   \n",
       "2  1951-06-12T03:00:00.000Z                                  Tosse   \n",
       "3  1946-03-22T03:00:00.000Z                 Febre, Tosse, Dispneia   \n",
       "4  2000-01-09T03:00:00.000Z  Febre, Tosse, Outros, Dor de Garganta   \n",
       "\n",
       "  profissionalSaude  cbo                             condicoes estadoTeste  \\\n",
       "0               Não  NaN                                   NaN   Concluído   \n",
       "1               Não  NaN                                   NaN   Concluído   \n",
       "2               Não  NaN                                   NaN  Solicitado   \n",
       "3               Não  NaN  Diabetes, Doenças cardíacas crônicas         NaN   \n",
       "4               Não  NaN                                   NaN   Concluído   \n",
       "\n",
       "                  dataTeste  ... estadoNotificacao estadoNotificacaoIBGE  \\\n",
       "0  2020-05-22T03:00:00.000Z  ...           Alagoas                  27.0   \n",
       "1  2020-06-01T03:00:00.000Z  ...         São Paulo                  35.0   \n",
       "2                       NaN  ...           Alagoas                  27.0   \n",
       "3                       NaN  ...           Alagoas                  27.0   \n",
       "4  2020-05-25T03:00:00.000Z  ...           Alagoas                  27.0   \n",
       "\n",
       "  municipioNotificacao municipioNotificacaoIBGE   excluido   validado idade  \\\n",
       "0             Maragogi                2704500.0  undefined  undefined  31.0   \n",
       "1            São Paulo                3550308.0  undefined  undefined  35.0   \n",
       "2               Maceió                2704302.0  undefined  undefined  70.0   \n",
       "3               Maceió                2704302.0  undefined  undefined  75.0   \n",
       "4            Maribondo                2704807.0  undefined  undefined  21.0   \n",
       "\n",
       "           dataEncerramento evolucaoCaso       classificacaoFinal  \n",
       "0  2020-06-18T03:00:00.000Z         Cura               Descartado  \n",
       "1  2020-06-18T03:00:00.000Z         Cura  Confirmado Laboratorial  \n",
       "2                       NaN          NaN                      NaN  \n",
       "3                       NaN          NaN                      NaN  \n",
       "4                       NaN          NaN               Descartado  \n",
       "\n",
       "[5 rows x 29 columns]"
      ]
     },
     "execution_count": 362,
     "metadata": {},
     "output_type": "execute_result"
    }
   ],
   "source": [
    "#https://s3-sa-east-1.amazonaws.com/ckan.saude.gov.br/dados-al.csv\n",
    "df = pd.read_csv(\"https://s3-sa-east-1.amazonaws.com/ckan.saude.gov.br/dados-al.csv\",sep=';',encoding = \"ISO-8859-1\")\n",
    "df.rename(columns = {\"ÿid\":\"id\"}, inplace = True)\n",
    "df.head()"
   ]
  },
  {
   "cell_type": "code",
   "execution_count": 363,
   "id": "fcd97faf",
   "metadata": {},
   "outputs": [
    {
     "data": {
      "text/plain": [
       "(785659, 29)"
      ]
     },
     "execution_count": 363,
     "metadata": {},
     "output_type": "execute_result"
    }
   ],
   "source": [
    "df.shape"
   ]
  },
  {
   "cell_type": "markdown",
   "id": "903a9ac1",
   "metadata": {},
   "source": [
    "### Remoção de colunas "
   ]
  },
  {
   "cell_type": "code",
   "execution_count": 364,
   "id": "c99eb2df",
   "metadata": {},
   "outputs": [
    {
     "data": {
      "text/html": [
       "<div>\n",
       "<style scoped>\n",
       "    .dataframe tbody tr th:only-of-type {\n",
       "        vertical-align: middle;\n",
       "    }\n",
       "\n",
       "    .dataframe tbody tr th {\n",
       "        vertical-align: top;\n",
       "    }\n",
       "\n",
       "    .dataframe thead th {\n",
       "        text-align: right;\n",
       "    }\n",
       "</style>\n",
       "<table border=\"1\" class=\"dataframe\">\n",
       "  <thead>\n",
       "    <tr style=\"text-align: right;\">\n",
       "      <th></th>\n",
       "      <th>id</th>\n",
       "      <th>dataNotificacao</th>\n",
       "      <th>dataInicioSintomas</th>\n",
       "      <th>dataNascimento</th>\n",
       "      <th>sintomas</th>\n",
       "      <th>profissionalSaude</th>\n",
       "      <th>cbo</th>\n",
       "      <th>condicoes</th>\n",
       "      <th>estadoTeste</th>\n",
       "      <th>dataTeste</th>\n",
       "      <th>...</th>\n",
       "      <th>estadoNotificacao</th>\n",
       "      <th>estadoNotificacaoIBGE</th>\n",
       "      <th>municipioNotificacao</th>\n",
       "      <th>municipioNotificacaoIBGE</th>\n",
       "      <th>excluido</th>\n",
       "      <th>validado</th>\n",
       "      <th>idade</th>\n",
       "      <th>dataEncerramento</th>\n",
       "      <th>evolucaoCaso</th>\n",
       "      <th>classificacaoFinal</th>\n",
       "    </tr>\n",
       "  </thead>\n",
       "  <tbody>\n",
       "  </tbody>\n",
       "</table>\n",
       "<p>0 rows × 29 columns</p>\n",
       "</div>"
      ],
      "text/plain": [
       "Empty DataFrame\n",
       "Columns: [id, dataNotificacao, dataInicioSintomas, dataNascimento, sintomas, profissionalSaude, cbo, condicoes, estadoTeste, dataTeste, tipoTeste, resultadoTeste, paisOrigem, sexo, estado, estadoIBGE, municipio, municipioIBGE, origem, estadoNotificacao, estadoNotificacaoIBGE, municipioNotificacao, municipioNotificacaoIBGE, excluido, validado, idade, dataEncerramento, evolucaoCaso, classificacaoFinal]\n",
       "Index: []\n",
       "\n",
       "[0 rows x 29 columns]"
      ]
     },
     "execution_count": 364,
     "metadata": {},
     "output_type": "execute_result"
    }
   ],
   "source": [
    "#Sem dados repetidos\n",
    "df[df.duplicated()]"
   ]
  },
  {
   "cell_type": "code",
   "execution_count": 365,
   "id": "0542a497",
   "metadata": {},
   "outputs": [
    {
     "data": {
      "text/plain": [
       "id                               0\n",
       "dataNotificacao                471\n",
       "dataInicioSintomas            1736\n",
       "dataNascimento                 776\n",
       "sintomas                       908\n",
       "profissionalSaude             2733\n",
       "cbo                         749098\n",
       "condicoes                   715891\n",
       "estadoTeste                  45094\n",
       "dataTeste                   213739\n",
       "tipoTeste                   174953\n",
       "resultadoTeste              252661\n",
       "paisOrigem                  785520\n",
       "sexo                           754\n",
       "estado                        1150\n",
       "estadoIBGE                    1150\n",
       "municipio                       82\n",
       "municipioIBGE                 1202\n",
       "origem                           0\n",
       "estadoNotificacao                1\n",
       "estadoNotificacaoIBGE            1\n",
       "municipioNotificacao          1108\n",
       "municipioNotificacaoIBGE      1133\n",
       "excluido                         0\n",
       "validado                         0\n",
       "idade                          776\n",
       "dataEncerramento            437905\n",
       "evolucaoCaso                385759\n",
       "classificacaoFinal          425353\n",
       "dtype: int64"
      ]
     },
     "execution_count": 365,
     "metadata": {},
     "output_type": "execute_result"
    }
   ],
   "source": [
    "#número de nulls\n",
    "df.isnull().sum()"
   ]
  },
  {
   "cell_type": "code",
   "execution_count": 366,
   "id": "39115bb8",
   "metadata": {},
   "outputs": [
    {
     "data": {
      "text/plain": [
       "(id                               0\n",
       " dataNotificacao                471\n",
       " dataInicioSintomas            1736\n",
       " dataNascimento                 776\n",
       " sintomas                       908\n",
       " profissionalSaude             2733\n",
       " estadoTeste                  45094\n",
       " dataTeste                   213739\n",
       " tipoTeste                   174953\n",
       " resultadoTeste              252661\n",
       " sexo                           754\n",
       " estado                        1150\n",
       " estadoIBGE                    1150\n",
       " municipio                       82\n",
       " municipioIBGE                 1202\n",
       " origem                           0\n",
       " estadoNotificacao                1\n",
       " estadoNotificacaoIBGE            1\n",
       " municipioNotificacao          1108\n",
       " municipioNotificacaoIBGE      1133\n",
       " excluido                         0\n",
       " validado                         0\n",
       " idade                          776\n",
       " dataEncerramento            437905\n",
       " evolucaoCaso                385759\n",
       " classificacaoFinal          425353\n",
       " dtype: int64,\n",
       " (785659, 26))"
      ]
     },
     "execution_count": 366,
     "metadata": {},
     "output_type": "execute_result"
    }
   ],
   "source": [
    "#Apagando colunas que tem 90% de NAN.\n",
    "df = df.loc[:, df.isnull().mean() < .9]\n",
    "df.isnull().sum(),df.shape"
   ]
  },
  {
   "cell_type": "code",
   "execution_count": 367,
   "id": "13de2ea4",
   "metadata": {},
   "outputs": [
    {
     "name": "stdout",
     "output_type": "stream",
     "text": [
      "origem\n",
      "excluido\n",
      "validado\n"
     ]
    }
   ],
   "source": [
    "#Apagando colunas com valores únicos.\n",
    "for i in df:\n",
    "    if df[i].nunique() <=1:\n",
    "        print(i)\n",
    "        del df[i] \n"
   ]
  },
  {
   "cell_type": "markdown",
   "id": "81fdf3b1",
   "metadata": {},
   "source": [
    "### Definições de tipos"
   ]
  },
  {
   "cell_type": "code",
   "execution_count": 368,
   "id": "e75e2dbe",
   "metadata": {},
   "outputs": [
    {
     "data": {
      "text/html": [
       "<div>\n",
       "<style scoped>\n",
       "    .dataframe tbody tr th:only-of-type {\n",
       "        vertical-align: middle;\n",
       "    }\n",
       "\n",
       "    .dataframe tbody tr th {\n",
       "        vertical-align: top;\n",
       "    }\n",
       "\n",
       "    .dataframe thead th {\n",
       "        text-align: right;\n",
       "    }\n",
       "</style>\n",
       "<table border=\"1\" class=\"dataframe\">\n",
       "  <thead>\n",
       "    <tr style=\"text-align: right;\">\n",
       "      <th></th>\n",
       "      <th>id</th>\n",
       "      <th>dataNotificacao</th>\n",
       "      <th>dataInicioSintomas</th>\n",
       "      <th>dataNascimento</th>\n",
       "      <th>sintomas</th>\n",
       "      <th>profissionalSaude</th>\n",
       "      <th>estadoTeste</th>\n",
       "      <th>dataTeste</th>\n",
       "      <th>tipoTeste</th>\n",
       "      <th>resultadoTeste</th>\n",
       "      <th>...</th>\n",
       "      <th>municipio</th>\n",
       "      <th>municipioIBGE</th>\n",
       "      <th>estadoNotificacao</th>\n",
       "      <th>estadoNotificacaoIBGE</th>\n",
       "      <th>municipioNotificacao</th>\n",
       "      <th>municipioNotificacaoIBGE</th>\n",
       "      <th>idade</th>\n",
       "      <th>dataEncerramento</th>\n",
       "      <th>evolucaoCaso</th>\n",
       "      <th>classificacaoFinal</th>\n",
       "    </tr>\n",
       "  </thead>\n",
       "  <tbody>\n",
       "    <tr>\n",
       "      <th>0</th>\n",
       "      <td>ZhUa1ql0lL</td>\n",
       "      <td>2020-05-31T15:01:33.806Z</td>\n",
       "      <td>2020-05-14T03:00:00.000Z</td>\n",
       "      <td>1990-01-01T02:00:00.000Z</td>\n",
       "      <td>Outros</td>\n",
       "      <td>Não</td>\n",
       "      <td>Concluído</td>\n",
       "      <td>2020-05-22T03:00:00.000Z</td>\n",
       "      <td>TESTE RÁPIDO - ANTICORPO</td>\n",
       "      <td>Negativo</td>\n",
       "      <td>...</td>\n",
       "      <td>Maragogi</td>\n",
       "      <td>2704500.0</td>\n",
       "      <td>Alagoas</td>\n",
       "      <td>27.0</td>\n",
       "      <td>Maragogi</td>\n",
       "      <td>2704500.0</td>\n",
       "      <td>31.0</td>\n",
       "      <td>2020-06-18T03:00:00.000Z</td>\n",
       "      <td>Cura</td>\n",
       "      <td>Descartado</td>\n",
       "    </tr>\n",
       "    <tr>\n",
       "      <th>1</th>\n",
       "      <td>WTILjC3jL8</td>\n",
       "      <td>2020-06-03T11:23:35.325Z</td>\n",
       "      <td>2020-05-29T03:00:00.000Z</td>\n",
       "      <td>1985-12-22T02:00:00.000Z</td>\n",
       "      <td>Dor de Garganta, Tosse</td>\n",
       "      <td>Não</td>\n",
       "      <td>Concluído</td>\n",
       "      <td>2020-06-01T03:00:00.000Z</td>\n",
       "      <td>RT-PCR</td>\n",
       "      <td>Positivo</td>\n",
       "      <td>...</td>\n",
       "      <td>Maceió</td>\n",
       "      <td>2704302.0</td>\n",
       "      <td>São Paulo</td>\n",
       "      <td>35.0</td>\n",
       "      <td>São Paulo</td>\n",
       "      <td>3550308.0</td>\n",
       "      <td>35.0</td>\n",
       "      <td>2020-06-18T03:00:00.000Z</td>\n",
       "      <td>Cura</td>\n",
       "      <td>Confirmado Laboratorial</td>\n",
       "    </tr>\n",
       "    <tr>\n",
       "      <th>2</th>\n",
       "      <td>sdMUUT2oiS</td>\n",
       "      <td>2020-06-18T03:52:09.023Z</td>\n",
       "      <td>2020-06-14T03:00:00.000Z</td>\n",
       "      <td>1951-06-12T03:00:00.000Z</td>\n",
       "      <td>Tosse</td>\n",
       "      <td>Não</td>\n",
       "      <td>Solicitado</td>\n",
       "      <td>NaN</td>\n",
       "      <td>NaN</td>\n",
       "      <td>NaN</td>\n",
       "      <td>...</td>\n",
       "      <td>Maceió</td>\n",
       "      <td>2704302.0</td>\n",
       "      <td>Alagoas</td>\n",
       "      <td>27.0</td>\n",
       "      <td>Maceió</td>\n",
       "      <td>2704302.0</td>\n",
       "      <td>70.0</td>\n",
       "      <td>NaN</td>\n",
       "      <td>NaN</td>\n",
       "      <td>NaN</td>\n",
       "    </tr>\n",
       "    <tr>\n",
       "      <th>3</th>\n",
       "      <td>4O4TJ5zi8T</td>\n",
       "      <td>2020-06-18T11:54:11.332Z</td>\n",
       "      <td>2020-06-10T03:00:00.000Z</td>\n",
       "      <td>1946-03-22T03:00:00.000Z</td>\n",
       "      <td>Febre, Tosse, Dispneia</td>\n",
       "      <td>Não</td>\n",
       "      <td>NaN</td>\n",
       "      <td>NaN</td>\n",
       "      <td>NaN</td>\n",
       "      <td>NaN</td>\n",
       "      <td>...</td>\n",
       "      <td>Maceió</td>\n",
       "      <td>2704302.0</td>\n",
       "      <td>Alagoas</td>\n",
       "      <td>27.0</td>\n",
       "      <td>Maceió</td>\n",
       "      <td>2704302.0</td>\n",
       "      <td>75.0</td>\n",
       "      <td>NaN</td>\n",
       "      <td>NaN</td>\n",
       "      <td>NaN</td>\n",
       "    </tr>\n",
       "    <tr>\n",
       "      <th>4</th>\n",
       "      <td>M1DH1j7Os5</td>\n",
       "      <td>2020-05-26T03:00:00.000Z</td>\n",
       "      <td>2020-05-17T03:00:00.000Z</td>\n",
       "      <td>2000-01-09T03:00:00.000Z</td>\n",
       "      <td>Febre, Tosse, Outros, Dor de Garganta</td>\n",
       "      <td>Não</td>\n",
       "      <td>Concluído</td>\n",
       "      <td>2020-05-25T03:00:00.000Z</td>\n",
       "      <td>TESTE RÁPIDO - ANTICORPO</td>\n",
       "      <td>Negativo</td>\n",
       "      <td>...</td>\n",
       "      <td>Maribondo</td>\n",
       "      <td>2704807.0</td>\n",
       "      <td>Alagoas</td>\n",
       "      <td>27.0</td>\n",
       "      <td>Maribondo</td>\n",
       "      <td>2704807.0</td>\n",
       "      <td>21.0</td>\n",
       "      <td>NaN</td>\n",
       "      <td>NaN</td>\n",
       "      <td>Descartado</td>\n",
       "    </tr>\n",
       "  </tbody>\n",
       "</table>\n",
       "<p>5 rows × 23 columns</p>\n",
       "</div>"
      ],
      "text/plain": [
       "           id           dataNotificacao        dataInicioSintomas  \\\n",
       "0  ZhUa1ql0lL  2020-05-31T15:01:33.806Z  2020-05-14T03:00:00.000Z   \n",
       "1  WTILjC3jL8  2020-06-03T11:23:35.325Z  2020-05-29T03:00:00.000Z   \n",
       "2  sdMUUT2oiS  2020-06-18T03:52:09.023Z  2020-06-14T03:00:00.000Z   \n",
       "3  4O4TJ5zi8T  2020-06-18T11:54:11.332Z  2020-06-10T03:00:00.000Z   \n",
       "4  M1DH1j7Os5  2020-05-26T03:00:00.000Z  2020-05-17T03:00:00.000Z   \n",
       "\n",
       "             dataNascimento                               sintomas  \\\n",
       "0  1990-01-01T02:00:00.000Z                                 Outros   \n",
       "1  1985-12-22T02:00:00.000Z                 Dor de Garganta, Tosse   \n",
       "2  1951-06-12T03:00:00.000Z                                  Tosse   \n",
       "3  1946-03-22T03:00:00.000Z                 Febre, Tosse, Dispneia   \n",
       "4  2000-01-09T03:00:00.000Z  Febre, Tosse, Outros, Dor de Garganta   \n",
       "\n",
       "  profissionalSaude estadoTeste                 dataTeste  \\\n",
       "0               Não   Concluído  2020-05-22T03:00:00.000Z   \n",
       "1               Não   Concluído  2020-06-01T03:00:00.000Z   \n",
       "2               Não  Solicitado                       NaN   \n",
       "3               Não         NaN                       NaN   \n",
       "4               Não   Concluído  2020-05-25T03:00:00.000Z   \n",
       "\n",
       "                  tipoTeste resultadoTeste  ...  municipio municipioIBGE  \\\n",
       "0  TESTE RÁPIDO - ANTICORPO       Negativo  ...   Maragogi     2704500.0   \n",
       "1                    RT-PCR       Positivo  ...     Maceió     2704302.0   \n",
       "2                       NaN            NaN  ...     Maceió     2704302.0   \n",
       "3                       NaN            NaN  ...     Maceió     2704302.0   \n",
       "4  TESTE RÁPIDO - ANTICORPO       Negativo  ...  Maribondo     2704807.0   \n",
       "\n",
       "   estadoNotificacao estadoNotificacaoIBGE  municipioNotificacao  \\\n",
       "0            Alagoas                  27.0              Maragogi   \n",
       "1          São Paulo                  35.0             São Paulo   \n",
       "2            Alagoas                  27.0                Maceió   \n",
       "3            Alagoas                  27.0                Maceió   \n",
       "4            Alagoas                  27.0             Maribondo   \n",
       "\n",
       "  municipioNotificacaoIBGE  idade          dataEncerramento  evolucaoCaso  \\\n",
       "0                2704500.0   31.0  2020-06-18T03:00:00.000Z          Cura   \n",
       "1                3550308.0   35.0  2020-06-18T03:00:00.000Z          Cura   \n",
       "2                2704302.0   70.0                       NaN           NaN   \n",
       "3                2704302.0   75.0                       NaN           NaN   \n",
       "4                2704807.0   21.0                       NaN           NaN   \n",
       "\n",
       "        classificacaoFinal  \n",
       "0               Descartado  \n",
       "1  Confirmado Laboratorial  \n",
       "2                      NaN  \n",
       "3                      NaN  \n",
       "4               Descartado  \n",
       "\n",
       "[5 rows x 23 columns]"
      ]
     },
     "execution_count": 368,
     "metadata": {},
     "output_type": "execute_result"
    }
   ],
   "source": [
    "df.head()"
   ]
  },
  {
   "cell_type": "code",
   "execution_count": 369,
   "id": "67a93ceb",
   "metadata": {},
   "outputs": [
    {
     "name": "stdout",
     "output_type": "stream",
     "text": [
      "<class 'pandas.core.frame.DataFrame'>\n",
      "RangeIndex: 785659 entries, 0 to 785658\n",
      "Data columns (total 23 columns):\n",
      " #   Column                    Non-Null Count   Dtype  \n",
      "---  ------                    --------------   -----  \n",
      " 0   id                        785659 non-null  object \n",
      " 1   dataNotificacao           785188 non-null  object \n",
      " 2   dataInicioSintomas        783923 non-null  object \n",
      " 3   dataNascimento            784883 non-null  object \n",
      " 4   sintomas                  784751 non-null  object \n",
      " 5   profissionalSaude         782926 non-null  object \n",
      " 6   estadoTeste               740565 non-null  object \n",
      " 7   dataTeste                 571920 non-null  object \n",
      " 8   tipoTeste                 610706 non-null  object \n",
      " 9   resultadoTeste            532998 non-null  object \n",
      " 10  sexo                      784905 non-null  object \n",
      " 11  estado                    784509 non-null  object \n",
      " 12  estadoIBGE                784509 non-null  float64\n",
      " 13  municipio                 785577 non-null  object \n",
      " 14  municipioIBGE             784457 non-null  float64\n",
      " 15  estadoNotificacao         785658 non-null  object \n",
      " 16  estadoNotificacaoIBGE     785658 non-null  float64\n",
      " 17  municipioNotificacao      784551 non-null  object \n",
      " 18  municipioNotificacaoIBGE  784526 non-null  float64\n",
      " 19  idade                     784883 non-null  float64\n",
      " 20  dataEncerramento          347754 non-null  object \n",
      " 21  evolucaoCaso              399900 non-null  object \n",
      " 22  classificacaoFinal        360306 non-null  object \n",
      "dtypes: float64(5), object(18)\n",
      "memory usage: 137.9+ MB\n"
     ]
    }
   ],
   "source": [
    "df.info()"
   ]
  },
  {
   "cell_type": "code",
   "execution_count": 370,
   "id": "7b8e47fd",
   "metadata": {},
   "outputs": [
    {
     "data": {
      "text/html": [
       "<div>\n",
       "<style scoped>\n",
       "    .dataframe tbody tr th:only-of-type {\n",
       "        vertical-align: middle;\n",
       "    }\n",
       "\n",
       "    .dataframe tbody tr th {\n",
       "        vertical-align: top;\n",
       "    }\n",
       "\n",
       "    .dataframe thead th {\n",
       "        text-align: right;\n",
       "    }\n",
       "</style>\n",
       "<table border=\"1\" class=\"dataframe\">\n",
       "  <thead>\n",
       "    <tr style=\"text-align: right;\">\n",
       "      <th></th>\n",
       "      <th>estadoIBGE</th>\n",
       "      <th>municipioIBGE</th>\n",
       "      <th>estadoNotificacaoIBGE</th>\n",
       "      <th>municipioNotificacaoIBGE</th>\n",
       "      <th>idade</th>\n",
       "    </tr>\n",
       "  </thead>\n",
       "  <tbody>\n",
       "    <tr>\n",
       "      <th>count</th>\n",
       "      <td>784509.000000</td>\n",
       "      <td>7.844570e+05</td>\n",
       "      <td>785658.000000</td>\n",
       "      <td>7.845260e+05</td>\n",
       "      <td>784883.000000</td>\n",
       "    </tr>\n",
       "    <tr>\n",
       "      <th>mean</th>\n",
       "      <td>27.033853</td>\n",
       "      <td>2.707679e+06</td>\n",
       "      <td>27.150378</td>\n",
       "      <td>2.719420e+06</td>\n",
       "      <td>37.299818</td>\n",
       "    </tr>\n",
       "    <tr>\n",
       "      <th>std</th>\n",
       "      <td>0.845159</td>\n",
       "      <td>8.509841e+04</td>\n",
       "      <td>1.499644</td>\n",
       "      <td>1.512132e+05</td>\n",
       "      <td>18.139499</td>\n",
       "    </tr>\n",
       "    <tr>\n",
       "      <th>min</th>\n",
       "      <td>11.000000</td>\n",
       "      <td>1.100049e+06</td>\n",
       "      <td>11.000000</td>\n",
       "      <td>1.100023e+06</td>\n",
       "      <td>0.000000</td>\n",
       "    </tr>\n",
       "    <tr>\n",
       "      <th>25%</th>\n",
       "      <td>27.000000</td>\n",
       "      <td>2.702405e+06</td>\n",
       "      <td>27.000000</td>\n",
       "      <td>2.702355e+06</td>\n",
       "      <td>25.000000</td>\n",
       "    </tr>\n",
       "    <tr>\n",
       "      <th>50%</th>\n",
       "      <td>27.000000</td>\n",
       "      <td>2.704302e+06</td>\n",
       "      <td>27.000000</td>\n",
       "      <td>2.704302e+06</td>\n",
       "      <td>36.000000</td>\n",
       "    </tr>\n",
       "    <tr>\n",
       "      <th>75%</th>\n",
       "      <td>27.000000</td>\n",
       "      <td>2.705705e+06</td>\n",
       "      <td>27.000000</td>\n",
       "      <td>2.705507e+06</td>\n",
       "      <td>49.000000</td>\n",
       "    </tr>\n",
       "    <tr>\n",
       "      <th>max</th>\n",
       "      <td>53.000000</td>\n",
       "      <td>5.300108e+06</td>\n",
       "      <td>53.000000</td>\n",
       "      <td>5.300108e+06</td>\n",
       "      <td>647.000000</td>\n",
       "    </tr>\n",
       "  </tbody>\n",
       "</table>\n",
       "</div>"
      ],
      "text/plain": [
       "          estadoIBGE  municipioIBGE  estadoNotificacaoIBGE  \\\n",
       "count  784509.000000   7.844570e+05          785658.000000   \n",
       "mean       27.033853   2.707679e+06              27.150378   \n",
       "std         0.845159   8.509841e+04               1.499644   \n",
       "min        11.000000   1.100049e+06              11.000000   \n",
       "25%        27.000000   2.702405e+06              27.000000   \n",
       "50%        27.000000   2.704302e+06              27.000000   \n",
       "75%        27.000000   2.705705e+06              27.000000   \n",
       "max        53.000000   5.300108e+06              53.000000   \n",
       "\n",
       "       municipioNotificacaoIBGE          idade  \n",
       "count              7.845260e+05  784883.000000  \n",
       "mean               2.719420e+06      37.299818  \n",
       "std                1.512132e+05      18.139499  \n",
       "min                1.100023e+06       0.000000  \n",
       "25%                2.702355e+06      25.000000  \n",
       "50%                2.704302e+06      36.000000  \n",
       "75%                2.705507e+06      49.000000  \n",
       "max                5.300108e+06     647.000000  "
      ]
     },
     "execution_count": 370,
     "metadata": {},
     "output_type": "execute_result"
    }
   ],
   "source": [
    "#estadoIBGE,municipioIBGE,estadoNotificacaoIBGE,municipioNotificacaoIBGE aparentam ser ids para cidades e estados\n",
    "df.describe()"
   ]
  },
  {
   "cell_type": "markdown",
   "id": "69308767",
   "metadata": {},
   "source": [
    "id é único.<br>\n",
    "Colunas tipo data para datatime e colocando NaT para datas inválidas.<br>\n",
    "Outroas colunas para categorico.<br>"
   ]
  },
  {
   "cell_type": "code",
   "execution_count": 371,
   "id": "21b9bfc7",
   "metadata": {},
   "outputs": [],
   "source": [
    "#id é único\n",
    "for i in df.columns[1:]: \n",
    "    #Mudando tipo das datas para datatime e colocando NaT para datas inválidas.\n",
    "    if \"data\" in i:\n",
    "        df[i] = pd.to_datetime(df[i], errors = 'coerce')\n",
    "    #Outros tipos para categorico.\n",
    "    elif i != \"idade\":\n",
    "        df[i] = df[i].astype('category')"
   ]
  },
  {
   "cell_type": "code",
   "execution_count": 372,
   "id": "9877869e",
   "metadata": {},
   "outputs": [
    {
     "name": "stdout",
     "output_type": "stream",
     "text": [
      "<class 'pandas.core.frame.DataFrame'>\n",
      "RangeIndex: 785659 entries, 0 to 785658\n",
      "Data columns (total 23 columns):\n",
      " #   Column                    Non-Null Count   Dtype              \n",
      "---  ------                    --------------   -----              \n",
      " 0   id                        785659 non-null  object             \n",
      " 1   dataNotificacao           785188 non-null  datetime64[ns, UTC]\n",
      " 2   dataInicioSintomas        783923 non-null  datetime64[ns, UTC]\n",
      " 3   dataNascimento            784859 non-null  datetime64[ns, UTC]\n",
      " 4   sintomas                  784751 non-null  category           \n",
      " 5   profissionalSaude         782926 non-null  category           \n",
      " 6   estadoTeste               740565 non-null  category           \n",
      " 7   dataTeste                 571920 non-null  datetime64[ns, UTC]\n",
      " 8   tipoTeste                 610706 non-null  category           \n",
      " 9   resultadoTeste            532998 non-null  category           \n",
      " 10  sexo                      784905 non-null  category           \n",
      " 11  estado                    784509 non-null  category           \n",
      " 12  estadoIBGE                784509 non-null  category           \n",
      " 13  municipio                 785577 non-null  category           \n",
      " 14  municipioIBGE             784457 non-null  category           \n",
      " 15  estadoNotificacao         785658 non-null  category           \n",
      " 16  estadoNotificacaoIBGE     785658 non-null  category           \n",
      " 17  municipioNotificacao      784551 non-null  category           \n",
      " 18  municipioNotificacaoIBGE  784526 non-null  category           \n",
      " 19  idade                     784883 non-null  float64            \n",
      " 20  dataEncerramento          347754 non-null  datetime64[ns, UTC]\n",
      " 21  evolucaoCaso              399900 non-null  category           \n",
      " 22  classificacaoFinal        360306 non-null  category           \n",
      "dtypes: category(16), datetime64[ns, UTC](5), float64(1), object(1)\n",
      "memory usage: 58.5+ MB\n"
     ]
    }
   ],
   "source": [
    "df.info()"
   ]
  },
  {
   "cell_type": "markdown",
   "id": "76967106",
   "metadata": {},
   "source": [
    "### Tratamento de Dados ausentes"
   ]
  },
  {
   "cell_type": "code",
   "execution_count": 373,
   "id": "b0e84ef6",
   "metadata": {},
   "outputs": [],
   "source": [
    "antes = df.shape[0]"
   ]
  },
  {
   "cell_type": "code",
   "execution_count": 374,
   "id": "27557c36",
   "metadata": {},
   "outputs": [
    {
     "data": {
      "text/plain": [
       "id                               0\n",
       "dataNotificacao                471\n",
       "dataInicioSintomas            1736\n",
       "dataNascimento                 800\n",
       "sintomas                       908\n",
       "profissionalSaude             2733\n",
       "estadoTeste                  45094\n",
       "dataTeste                   213739\n",
       "tipoTeste                   174953\n",
       "resultadoTeste              252661\n",
       "sexo                           754\n",
       "estado                        1150\n",
       "estadoIBGE                    1150\n",
       "municipio                       82\n",
       "municipioIBGE                 1202\n",
       "estadoNotificacao                1\n",
       "estadoNotificacaoIBGE            1\n",
       "municipioNotificacao          1108\n",
       "municipioNotificacaoIBGE      1133\n",
       "idade                          776\n",
       "dataEncerramento            437905\n",
       "evolucaoCaso                385759\n",
       "classificacaoFinal          425353\n",
       "dtype: int64"
      ]
     },
     "execution_count": 374,
     "metadata": {},
     "output_type": "execute_result"
    }
   ],
   "source": [
    "df.isnull().sum()"
   ]
  },
  {
   "cell_type": "markdown",
   "id": "1b24b370",
   "metadata": {},
   "source": [
    "dataNotificacao"
   ]
  },
  {
   "cell_type": "code",
   "execution_count": 375,
   "id": "eeab1823",
   "metadata": {},
   "outputs": [],
   "source": [
    "df = df[df['dataNotificacao'].notnull()]"
   ]
  },
  {
   "cell_type": "markdown",
   "id": "b2080162",
   "metadata": {},
   "source": [
    "dataInicioSintomas e dataEncerramento"
   ]
  },
  {
   "cell_type": "code",
   "execution_count": 376,
   "id": "f7c6f539",
   "metadata": {},
   "outputs": [
    {
     "data": {
      "text/plain": [
       "(1697, 437620)"
      ]
     },
     "execution_count": 376,
     "metadata": {},
     "output_type": "execute_result"
    }
   ],
   "source": [
    "df['dataInicioSintomas'].isnull().sum(),df['dataEncerramento'].isnull().sum()"
   ]
  },
  {
   "cell_type": "code",
   "execution_count": 377,
   "id": "e05776d1",
   "metadata": {},
   "outputs": [],
   "source": [
    "#datas sem inicio dos sintomas e sem o fim dos sintomas.\n",
    "\n",
    "df= df[~((df['dataInicioSintomas'].isnull()) & (df['dataEncerramento'].isnull()))]\n",
    "#drop nas linhas sme data de inicio\n",
    "df = df[~(df['dataInicioSintomas'].isnull())]"
   ]
  },
  {
   "cell_type": "code",
   "execution_count": 378,
   "id": "9c6caa8d",
   "metadata": {},
   "outputs": [
    {
     "data": {
      "text/plain": [
       "-21970.0"
      ]
     },
     "execution_count": 378,
     "metadata": {},
     "output_type": "execute_result"
    }
   ],
   "source": [
    "#verificando se tem alguma anomalia.\n",
    "(df['dataEncerramento'] - df['dataInicioSintomas']).dt.days.min()"
   ]
  },
  {
   "cell_type": "code",
   "execution_count": 379,
   "id": "66018dc3",
   "metadata": {},
   "outputs": [],
   "source": [
    "#Retirando intervalos negativos.\n",
    "df = df.drop(df[(df['dataEncerramento'] - df['dataInicioSintomas']).dt.days<0].index)"
   ]
  },
  {
   "cell_type": "code",
   "execution_count": 380,
   "id": "3fb5dabb",
   "metadata": {},
   "outputs": [
    {
     "data": {
      "image/png": "[encoded data removed]",
      "text/plain": [
       "<Figure size 432x288 with 1 Axes>"
      ]
     },
     "metadata": {
      "needs_background": "light"
     },
     "output_type": "display_data"
    }
   ],
   "source": [
    "#distribuição do inicio dos sintomas até a notificação dos sintomas.\n",
    "sns.histplot((df['dataEncerramento'] - df['dataInicioSintomas']).dt.days, kde=True);"
   ]
  },
  {
   "cell_type": "code",
   "execution_count": 381,
   "id": "73e01d5f",
   "metadata": {},
   "outputs": [],
   "source": [
    "mediana = (df['dataEncerramento'] - df['dataInicioSintomas']).dt.days.median()\n",
    "df['dataEncerramento'].fillna(df['dataInicioSintomas'] + timedelta(days=mediana),inplace = True)"
   ]
  },
  {
   "cell_type": "markdown",
   "id": "f9029284",
   "metadata": {},
   "source": [
    "dataNascimento"
   ]
  },
  {
   "cell_type": "code",
   "execution_count": 382,
   "id": "e991455c",
   "metadata": {},
   "outputs": [
    {
     "data": {
      "text/plain": [
       "787"
      ]
     },
     "execution_count": 382,
     "metadata": {},
     "output_type": "execute_result"
    }
   ],
   "source": [
    "#pouco caso nulo, então apenas vou excluir\n",
    "df['dataNascimento'].isnull().sum()"
   ]
  },
  {
   "cell_type": "code",
   "execution_count": 383,
   "id": "4af41579",
   "metadata": {},
   "outputs": [],
   "source": [
    "df = df[df['dataNascimento'].notnull()]"
   ]
  },
  {
   "cell_type": "markdown",
   "id": "8fc9540e",
   "metadata": {},
   "source": [
    "sintomas"
   ]
  },
  {
   "cell_type": "code",
   "execution_count": 384,
   "id": "5a066361",
   "metadata": {},
   "outputs": [
    {
     "data": {
      "text/plain": [
       "277"
      ]
     },
     "execution_count": 384,
     "metadata": {},
     "output_type": "execute_result"
    }
   ],
   "source": [
    "df['sintomas'].isnull().sum()"
   ]
  },
  {
   "cell_type": "code",
   "execution_count": 385,
   "id": "f11d205e",
   "metadata": {},
   "outputs": [
    {
     "data": {
      "text/plain": [
       "14322"
      ]
     },
     "execution_count": 385,
     "metadata": {},
     "output_type": "execute_result"
    }
   ],
   "source": [
    "df['sintomas'].nunique()"
   ]
  },
  {
   "cell_type": "code",
   "execution_count": 386,
   "id": "831399f1",
   "metadata": {},
   "outputs": [
    {
     "data": {
      "text/plain": [
       "0    Outros\n",
       "Name: sintomas, dtype: category\n",
       "Categories (14443, object): ['Assintomático', 'Assintomático, Coriza', 'Assintomático, Coriza, Distúrbios Gustativos,..., 'Assintomático, Coriza, Distúrbios Olfativos', ..., 'Tosse,Febre,Dispneia,Dor de Garganta', 'Tosse,Febre,Dor de Garganta', 'Tosse,Outros', 'Tosse,Outros,']"
      ]
     },
     "execution_count": 386,
     "metadata": {},
     "output_type": "execute_result"
    }
   ],
   "source": [
    "df['sintomas'].mode()"
   ]
  },
  {
   "cell_type": "code",
   "execution_count": 387,
   "id": "2e462d3c",
   "metadata": {},
   "outputs": [
    {
     "data": {
      "text/plain": [
       "Negativo                         24724\n",
       "Positivo                         19384\n",
       "NaN                              17537\n",
       "Inconclusivo ou Indeterminado       26\n",
       "Name: resultadoTeste, dtype: int64"
      ]
     },
     "execution_count": 387,
     "metadata": {},
     "output_type": "execute_result"
    }
   ],
   "source": [
    "df[df['sintomas']==\"Outros\"]['resultadoTeste'].value_counts(dropna=False)"
   ]
  },
  {
   "cell_type": "code",
   "execution_count": 388,
   "id": "bc274b14",
   "metadata": {},
   "outputs": [],
   "source": [
    "#Subistituindo valores faltantes pela moda.\n",
    "df['sintomas'] = df['sintomas'].fillna(df['sintomas'].mode())"
   ]
  },
  {
   "cell_type": "markdown",
   "id": "acda322d",
   "metadata": {},
   "source": [
    "profissionalSaude"
   ]
  },
  {
   "cell_type": "code",
   "execution_count": 389,
   "id": "702e7709",
   "metadata": {},
   "outputs": [
    {
     "data": {
      "text/plain": [
       "['Não', 'Sim', NaN]\n",
       "Categories (2, object): ['Não', 'Sim']"
      ]
     },
     "execution_count": 389,
     "metadata": {},
     "output_type": "execute_result"
    }
   ],
   "source": [
    "df['profissionalSaude'].unique()"
   ]
  },
  {
   "cell_type": "code",
   "execution_count": 390,
   "id": "cdc12cae",
   "metadata": {},
   "outputs": [
    {
     "data": {
      "text/plain": [
       "1379"
      ]
     },
     "execution_count": 390,
     "metadata": {},
     "output_type": "execute_result"
    }
   ],
   "source": [
    "df['profissionalSaude'].isnull().sum()"
   ]
  },
  {
   "cell_type": "code",
   "execution_count": 391,
   "id": "f3495fd4",
   "metadata": {},
   "outputs": [
    {
     "data": {
      "text/plain": [
       "<AxesSubplot:xlabel='profissionalSaude', ylabel='Count'>"
      ]
     },
     "execution_count": 391,
     "metadata": {},
     "output_type": "execute_result"
    },
    {
     "data": {
      "image/png": "[encoded data removed]",
      "text/plain": [
       "<Figure size 432x288 with 1 Axes>"
      ]
     },
     "metadata": {
      "needs_background": "light"
     },
     "output_type": "display_data"
    }
   ],
   "source": [
    "sns.histplot(df['profissionalSaude'])"
   ]
  },
  {
   "cell_type": "code",
   "execution_count": 392,
   "id": "5ae8522f",
   "metadata": {},
   "outputs": [],
   "source": [
    "df = df[df['profissionalSaude'].notnull()]"
   ]
  },
  {
   "cell_type": "markdown",
   "id": "50728285",
   "metadata": {},
   "source": [
    "municipio"
   ]
  },
  {
   "cell_type": "code",
   "execution_count": 393,
   "id": "e318f48f",
   "metadata": {},
   "outputs": [],
   "source": [
    "df = df[df['municipio'].notnull()]"
   ]
  },
  {
   "cell_type": "markdown",
   "id": "23bee599",
   "metadata": {},
   "source": [
    "estadoNotificacao"
   ]
  },
  {
   "cell_type": "code",
   "execution_count": 394,
   "id": "6106f0f0",
   "metadata": {},
   "outputs": [],
   "source": [
    "df = df[df['estadoNotificacao']==\"Alagoas\"]"
   ]
  },
  {
   "cell_type": "markdown",
   "id": "eafdd44f",
   "metadata": {},
   "source": [
    "municipioIBGE"
   ]
  },
  {
   "cell_type": "code",
   "execution_count": 395,
   "id": "95f9ca67",
   "metadata": {},
   "outputs": [],
   "source": [
    "df = df[df['municipioIBGE'].notnull()]"
   ]
  },
  {
   "cell_type": "markdown",
   "id": "8a83cdd5",
   "metadata": {},
   "source": [
    "classificacaoFinal"
   ]
  },
  {
   "cell_type": "code",
   "execution_count": 396,
   "id": "696110ac",
   "metadata": {},
   "outputs": [
    {
     "data": {
      "text/plain": [
       "['Descartado', NaN, 'Confirmado Laboratorial', 'Confirmado Clínico-Epidemiológico', 'Síndrome Gripal Não Especificada', 'Confirmado Clínico-Imagem', 'Confirmado por Critério Clínico']\n",
       "Categories (7, object): ['Confirmado Clínico-Epidemiológico', 'Confirmado Clínico-Imagem', 'Confirmado Laboratorial', 'Confirmado por Critério Clínico', 'Confirmação Laboratorial', 'Descartado', 'Síndrome Gripal Não Especificada']"
      ]
     },
     "execution_count": 396,
     "metadata": {},
     "output_type": "execute_result"
    }
   ],
   "source": [
    "df['classificacaoFinal'].unique()"
   ]
  },
  {
   "cell_type": "code",
   "execution_count": 397,
   "id": "4fd9c9d3",
   "metadata": {},
   "outputs": [
    {
     "data": {
      "text/plain": [
       "Confirmado Laboratorial              147460\n",
       "Descartado                            93814\n",
       "Síndrome Gripal Não Especificada      81616\n",
       "Confirmado por Critério Clínico       15867\n",
       "Confirmado Clínico-Epidemiológico     11790\n",
       "Confirmado Clínico-Imagem               480\n",
       "Confirmação Laboratorial                  0\n",
       "Name: classificacaoFinal, dtype: int64"
      ]
     },
     "execution_count": 397,
     "metadata": {},
     "output_type": "execute_result"
    }
   ],
   "source": [
    "df['classificacaoFinal'].value_counts()"
   ]
  },
  {
   "cell_type": "code",
   "execution_count": 398,
   "id": "e15bed75",
   "metadata": {},
   "outputs": [
    {
     "data": {
      "text/plain": [
       "411655"
      ]
     },
     "execution_count": 398,
     "metadata": {},
     "output_type": "execute_result"
    }
   ],
   "source": [
    "df['classificacaoFinal'].isnull().sum()"
   ]
  },
  {
   "cell_type": "code",
   "execution_count": 399,
   "id": "5fc01810",
   "metadata": {},
   "outputs": [],
   "source": [
    "df['classificacaoFinal'] = df['classificacaoFinal'].astype('string')\n",
    "#tenho acompanhamento, mas não tenho confirmação de teste\n",
    "df.loc[(df['evolucaoCaso'].notnull()) & ((df['classificacaoFinal'].isnull())),['classificacaoFinal']] = \"Sem Confirmação\"\n",
    "#tenho resultado, mas não tenho confirmação de teste\n",
    "df.loc[(df['resultadoTeste'].notnull()) & ((df['classificacaoFinal'].isnull())),['classificacaoFinal']] = \"Sem Confirmação\"\n",
    "#tenho queo teste foi feito e que tipo de teste, mas não tenho confirmação de teste\n",
    "df.loc[(df['tipoTeste'].notnull()) & ((df['classificacaoFinal'].isnull())),['classificacaoFinal']] = \"Sem Confirmação\"\n",
    "#tenho a data do teste, mas não tenho confirmação de teste\n",
    "df.loc[(df['dataTeste'].notnull()) & ((df['classificacaoFinal'].isnull())),['classificacaoFinal']] = \"Sem Confirmação\"\n",
    "\n",
    "df['classificacaoFinal'] = df['classificacaoFinal'].astype('category')"
   ]
  },
  {
   "cell_type": "code",
   "execution_count": 400,
   "id": "f2811542",
   "metadata": {},
   "outputs": [
    {
     "data": {
      "text/plain": [
       "85798"
      ]
     },
     "execution_count": 400,
     "metadata": {},
     "output_type": "execute_result"
    }
   ],
   "source": [
    "df['classificacaoFinal'].isnull().sum()"
   ]
  },
  {
   "cell_type": "markdown",
   "id": "47c7926d",
   "metadata": {},
   "source": [
    "dataTeste"
   ]
  },
  {
   "cell_type": "code",
   "execution_count": 401,
   "id": "6440e9f4",
   "metadata": {},
   "outputs": [],
   "source": [
    "#teste podem ser feito para dectar a partir do setimo dia de sintoma.\n",
    "df.loc[(df['resultadoTeste'].notnull()) & (df['dataTeste'].isnull()),['dataTeste']] =  df['dataInicioSintomas'] + timedelta(days=7)"
   ]
  },
  {
   "cell_type": "code",
   "execution_count": 402,
   "id": "c0e42c9f",
   "metadata": {},
   "outputs": [
    {
     "data": {
      "text/plain": [
       "198795"
      ]
     },
     "execution_count": 402,
     "metadata": {},
     "output_type": "execute_result"
    }
   ],
   "source": [
    "df['dataTeste'].isnull().sum()"
   ]
  },
  {
   "cell_type": "markdown",
   "id": "04aa1ffa",
   "metadata": {},
   "source": [
    "resultadoTeste"
   ]
  },
  {
   "cell_type": "code",
   "execution_count": 403,
   "id": "431399c4",
   "metadata": {},
   "outputs": [
    {
     "data": {
      "text/plain": [
       "['Negativo', NaN, 'Positivo', 'Inconclusivo ou Indeterminado']\n",
       "Categories (3, object): ['Inconclusivo ou Indeterminado', 'Negativo', 'Positivo']"
      ]
     },
     "execution_count": 403,
     "metadata": {},
     "output_type": "execute_result"
    }
   ],
   "source": [
    "df['resultadoTeste'].unique()"
   ]
  },
  {
   "cell_type": "code",
   "execution_count": 404,
   "id": "27e520e8",
   "metadata": {},
   "outputs": [
    {
     "data": {
      "text/plain": [
       "Negativo                         302514\n",
       "Positivo                         214373\n",
       "Inconclusivo ou Indeterminado       804\n",
       "Name: resultadoTeste, dtype: int64"
      ]
     },
     "execution_count": 404,
     "metadata": {},
     "output_type": "execute_result"
    }
   ],
   "source": [
    "df['resultadoTeste'].value_counts()"
   ]
  },
  {
   "cell_type": "code",
   "execution_count": 405,
   "id": "43fa7cb1",
   "metadata": {},
   "outputs": [
    {
     "data": {
      "text/plain": [
       "244991"
      ]
     },
     "execution_count": 405,
     "metadata": {},
     "output_type": "execute_result"
    }
   ],
   "source": [
    "df['resultadoTeste'].isnull().sum()"
   ]
  },
  {
   "cell_type": "code",
   "execution_count": 406,
   "id": "e093ce08",
   "metadata": {},
   "outputs": [],
   "source": [
    "#preencher todo o resto com Inconclusivo ou Indeterminado\n",
    "df.loc[(df['resultadoTeste'].isnull()),['resultadoTeste']] = \"Inconclusivo ou Indeterminado\""
   ]
  },
  {
   "cell_type": "markdown",
   "id": "a82e5525",
   "metadata": {},
   "source": [
    "estadoTeste"
   ]
  },
  {
   "cell_type": "code",
   "execution_count": 407,
   "id": "2d6692b0",
   "metadata": {},
   "outputs": [
    {
     "data": {
      "text/plain": [
       "['Concluído', 'Solicitado', NaN, 'Coletado', 'Exame Não Solicitado']\n",
       "Categories (4, object): ['Coletado', 'Concluído', 'Exame Não Solicitado', 'Solicitado']"
      ]
     },
     "execution_count": 407,
     "metadata": {},
     "output_type": "execute_result"
    }
   ],
   "source": [
    "df['estadoTeste'].unique()"
   ]
  },
  {
   "cell_type": "code",
   "execution_count": 408,
   "id": "a8a882c3",
   "metadata": {},
   "outputs": [
    {
     "data": {
      "text/plain": [
       "Concluído               528800\n",
       "Solicitado               72084\n",
       "Exame Não Solicitado     71112\n",
       "Coletado                 47648\n",
       "Name: estadoTeste, dtype: int64"
      ]
     },
     "execution_count": 408,
     "metadata": {},
     "output_type": "execute_result"
    }
   ],
   "source": [
    "df['estadoTeste'].value_counts()"
   ]
  },
  {
   "cell_type": "code",
   "execution_count": 409,
   "id": "3ebd0963",
   "metadata": {},
   "outputs": [
    {
     "data": {
      "text/plain": [
       "43038"
      ]
     },
     "execution_count": 409,
     "metadata": {},
     "output_type": "execute_result"
    }
   ],
   "source": [
    "df['estadoTeste'].isnull().sum()"
   ]
  },
  {
   "cell_type": "markdown",
   "id": "2d2f9c59",
   "metadata": {},
   "source": [
    "evolucaoCaso\n"
   ]
  },
  {
   "cell_type": "code",
   "execution_count": 410,
   "id": "413b702f",
   "metadata": {},
   "outputs": [
    {
     "data": {
      "text/plain": [
       "374548"
      ]
     },
     "execution_count": 410,
     "metadata": {},
     "output_type": "execute_result"
    }
   ],
   "source": [
    "df['evolucaoCaso'].isnull().sum()"
   ]
  },
  {
   "cell_type": "code",
   "execution_count": 411,
   "id": "90077d60",
   "metadata": {},
   "outputs": [
    {
     "data": {
      "text/plain": [
       "Cura                        299670\n",
       "Cancelado                    58867\n",
       "Em tratamento domiciliar     12625\n",
       "Ignorado                     12252\n",
       "Óbito                         4032\n",
       "Internado                      586\n",
       "Internado em UTI               102\n",
       "Name: evolucaoCaso, dtype: int64"
      ]
     },
     "execution_count": 411,
     "metadata": {},
     "output_type": "execute_result"
    }
   ],
   "source": [
    "df['evolucaoCaso'].value_counts()"
   ]
  },
  {
   "cell_type": "code",
   "execution_count": 412,
   "id": "a5d1031e",
   "metadata": {},
   "outputs": [],
   "source": [
    "df['evolucaoCaso'] = df['evolucaoCaso'].astype('string')\n",
    "df.loc[(df['evolucaoCaso'].isnull()),['evolucaoCaso']] = \"Sem Acompanhamento\"\n",
    "df['evolucaoCaso'] = df['evolucaoCaso'].astype('category')"
   ]
  },
  {
   "cell_type": "code",
   "execution_count": 413,
   "id": "05d991b7",
   "metadata": {},
   "outputs": [],
   "source": [
    "df.dropna(inplace = True)"
   ]
  },
  {
   "cell_type": "code",
   "execution_count": 414,
   "id": "6b9e0457",
   "metadata": {},
   "outputs": [
    {
     "data": {
      "text/plain": [
       "70.34069488162167"
      ]
     },
     "execution_count": 414,
     "metadata": {},
     "output_type": "execute_result"
    }
   ],
   "source": [
    "#Porcetagem de linhas que ficaram no dataset.\n",
    "100 - ((antes - df.shape[0])/antes)*100"
   ]
  },
  {
   "cell_type": "code",
   "execution_count": 415,
   "id": "36d5a5c6",
   "metadata": {},
   "outputs": [
    {
     "data": {
      "text/plain": [
       "(785659, 552638)"
      ]
     },
     "execution_count": 415,
     "metadata": {},
     "output_type": "execute_result"
    }
   ],
   "source": [
    "#linhas antes e depois\n",
    "antes, df.shape[0]"
   ]
  },
  {
   "cell_type": "markdown",
   "id": "d1451075",
   "metadata": {},
   "source": [
    "### Normalização e Discretização"
   ]
  },
  {
   "cell_type": "code",
   "execution_count": 416,
   "id": "e831d7f6",
   "metadata": {},
   "outputs": [
    {
     "data": {
      "image/png": "[encoded data removed]",
      "text/plain": [
       "<Figure size 432x288 with 1 Axes>"
      ]
     },
     "metadata": {
      "needs_background": "light"
     },
     "output_type": "display_data"
    }
   ],
   "source": [
    "sns.histplot(df['idade'],kde = True);"
   ]
  },
  {
   "cell_type": "code",
   "execution_count": 417,
   "id": "d54f68b8",
   "metadata": {},
   "outputs": [
    {
     "data": {
      "text/plain": [
       "count    552638.000000\n",
       "mean         38.269207\n",
       "std          17.308353\n",
       "min           0.000000\n",
       "25%          26.000000\n",
       "50%          37.000000\n",
       "75%          49.000000\n",
       "max         342.000000\n",
       "Name: idade, dtype: float64"
      ]
     },
     "execution_count": 417,
     "metadata": {},
     "output_type": "execute_result"
    }
   ],
   "source": [
    "df['idade'].describe()"
   ]
  },
  {
   "cell_type": "code",
   "execution_count": 418,
   "id": "7eecc124",
   "metadata": {},
   "outputs": [
    {
     "data": {
      "text/html": [
       "<div>\n",
       "<style scoped>\n",
       "    .dataframe tbody tr th:only-of-type {\n",
       "        vertical-align: middle;\n",
       "    }\n",
       "\n",
       "    .dataframe tbody tr th {\n",
       "        vertical-align: top;\n",
       "    }\n",
       "\n",
       "    .dataframe thead th {\n",
       "        text-align: right;\n",
       "    }\n",
       "</style>\n",
       "<table border=\"1\" class=\"dataframe\">\n",
       "  <thead>\n",
       "    <tr style=\"text-align: right;\">\n",
       "      <th></th>\n",
       "      <th>id</th>\n",
       "      <th>dataNotificacao</th>\n",
       "      <th>dataInicioSintomas</th>\n",
       "      <th>dataNascimento</th>\n",
       "      <th>sintomas</th>\n",
       "      <th>profissionalSaude</th>\n",
       "      <th>estadoTeste</th>\n",
       "      <th>dataTeste</th>\n",
       "      <th>tipoTeste</th>\n",
       "      <th>resultadoTeste</th>\n",
       "      <th>...</th>\n",
       "      <th>municipioIBGE</th>\n",
       "      <th>estadoNotificacao</th>\n",
       "      <th>estadoNotificacaoIBGE</th>\n",
       "      <th>municipioNotificacao</th>\n",
       "      <th>municipioNotificacaoIBGE</th>\n",
       "      <th>idade</th>\n",
       "      <th>dataEncerramento</th>\n",
       "      <th>evolucaoCaso</th>\n",
       "      <th>classificacaoFinal</th>\n",
       "      <th>idade_descri</th>\n",
       "    </tr>\n",
       "  </thead>\n",
       "  <tbody>\n",
       "    <tr>\n",
       "      <th>0</th>\n",
       "      <td>ZhUa1ql0lL</td>\n",
       "      <td>2020-05-31 15:01:33.806000+00:00</td>\n",
       "      <td>2020-05-14 03:00:00+00:00</td>\n",
       "      <td>1990-01-01 02:00:00+00:00</td>\n",
       "      <td>Outros</td>\n",
       "      <td>Não</td>\n",
       "      <td>Concluído</td>\n",
       "      <td>2020-05-22 03:00:00+00:00</td>\n",
       "      <td>TESTE RÁPIDO - ANTICORPO</td>\n",
       "      <td>Negativo</td>\n",
       "      <td>...</td>\n",
       "      <td>2704500.0</td>\n",
       "      <td>Alagoas</td>\n",
       "      <td>27.0</td>\n",
       "      <td>Maragogi</td>\n",
       "      <td>2704500.0</td>\n",
       "      <td>31.0</td>\n",
       "      <td>2020-06-18 03:00:00+00:00</td>\n",
       "      <td>Cura</td>\n",
       "      <td>Descartado</td>\n",
       "      <td>Adulto</td>\n",
       "    </tr>\n",
       "    <tr>\n",
       "      <th>4</th>\n",
       "      <td>M1DH1j7Os5</td>\n",
       "      <td>2020-05-26 03:00:00+00:00</td>\n",
       "      <td>2020-05-17 03:00:00+00:00</td>\n",
       "      <td>2000-01-09 03:00:00+00:00</td>\n",
       "      <td>Febre, Tosse, Outros, Dor de Garganta</td>\n",
       "      <td>Não</td>\n",
       "      <td>Concluído</td>\n",
       "      <td>2020-05-25 03:00:00+00:00</td>\n",
       "      <td>TESTE RÁPIDO - ANTICORPO</td>\n",
       "      <td>Negativo</td>\n",
       "      <td>...</td>\n",
       "      <td>2704807.0</td>\n",
       "      <td>Alagoas</td>\n",
       "      <td>27.0</td>\n",
       "      <td>Maribondo</td>\n",
       "      <td>2704807.0</td>\n",
       "      <td>21.0</td>\n",
       "      <td>2020-06-15 03:00:00+00:00</td>\n",
       "      <td>Sem Acompanhamento</td>\n",
       "      <td>Descartado</td>\n",
       "      <td>Adulto</td>\n",
       "    </tr>\n",
       "    <tr>\n",
       "      <th>5</th>\n",
       "      <td>KW5li9MeeU</td>\n",
       "      <td>2020-06-09 03:00:00+00:00</td>\n",
       "      <td>2020-05-22 03:00:00+00:00</td>\n",
       "      <td>1996-04-21 03:00:00+00:00</td>\n",
       "      <td>Febre, Outros</td>\n",
       "      <td>Não</td>\n",
       "      <td>Concluído</td>\n",
       "      <td>2020-06-09 03:00:00+00:00</td>\n",
       "      <td>TESTE RÁPIDO - ANTÍGENO</td>\n",
       "      <td>Positivo</td>\n",
       "      <td>...</td>\n",
       "      <td>2707305.0</td>\n",
       "      <td>Alagoas</td>\n",
       "      <td>27.0</td>\n",
       "      <td>Maribondo</td>\n",
       "      <td>2704807.0</td>\n",
       "      <td>25.0</td>\n",
       "      <td>2020-06-20 03:00:00+00:00</td>\n",
       "      <td>Sem Acompanhamento</td>\n",
       "      <td>Sem Confirmação</td>\n",
       "      <td>Adulto</td>\n",
       "    </tr>\n",
       "    <tr>\n",
       "      <th>6</th>\n",
       "      <td>MTEIyWoaFz</td>\n",
       "      <td>2020-06-17 20:17:16.221000+00:00</td>\n",
       "      <td>2020-06-09 03:00:00+00:00</td>\n",
       "      <td>1996-05-17 03:00:00+00:00</td>\n",
       "      <td>Tosse, Dor de Garganta</td>\n",
       "      <td>Não</td>\n",
       "      <td>Concluído</td>\n",
       "      <td>2020-06-17 03:00:00+00:00</td>\n",
       "      <td>TESTE RÁPIDO - ANTÍGENO</td>\n",
       "      <td>Negativo</td>\n",
       "      <td>...</td>\n",
       "      <td>2702900.0</td>\n",
       "      <td>Alagoas</td>\n",
       "      <td>27.0</td>\n",
       "      <td>Girau do Ponciano</td>\n",
       "      <td>2702900.0</td>\n",
       "      <td>25.0</td>\n",
       "      <td>2020-06-17 03:00:00+00:00</td>\n",
       "      <td>Cura</td>\n",
       "      <td>Confirmado Laboratorial</td>\n",
       "      <td>Adulto</td>\n",
       "    </tr>\n",
       "    <tr>\n",
       "      <th>10</th>\n",
       "      <td>O7LynDz1vO</td>\n",
       "      <td>2020-06-17 20:28:58.208000+00:00</td>\n",
       "      <td>2020-06-06 03:00:00+00:00</td>\n",
       "      <td>1942-04-12 03:00:00+00:00</td>\n",
       "      <td>Tosse</td>\n",
       "      <td>Não</td>\n",
       "      <td>Concluído</td>\n",
       "      <td>2020-06-17 03:00:00+00:00</td>\n",
       "      <td>TESTE RÁPIDO - ANTÍGENO</td>\n",
       "      <td>Negativo</td>\n",
       "      <td>...</td>\n",
       "      <td>2702900.0</td>\n",
       "      <td>Alagoas</td>\n",
       "      <td>27.0</td>\n",
       "      <td>Girau do Ponciano</td>\n",
       "      <td>2702900.0</td>\n",
       "      <td>79.0</td>\n",
       "      <td>2020-06-17 03:00:00+00:00</td>\n",
       "      <td>Cura</td>\n",
       "      <td>Confirmado Laboratorial</td>\n",
       "      <td>Idoso</td>\n",
       "    </tr>\n",
       "  </tbody>\n",
       "</table>\n",
       "<p>5 rows × 24 columns</p>\n",
       "</div>"
      ],
      "text/plain": [
       "            id                  dataNotificacao        dataInicioSintomas  \\\n",
       "0   ZhUa1ql0lL 2020-05-31 15:01:33.806000+00:00 2020-05-14 03:00:00+00:00   \n",
       "4   M1DH1j7Os5        2020-05-26 03:00:00+00:00 2020-05-17 03:00:00+00:00   \n",
       "5   KW5li9MeeU        2020-06-09 03:00:00+00:00 2020-05-22 03:00:00+00:00   \n",
       "6   MTEIyWoaFz 2020-06-17 20:17:16.221000+00:00 2020-06-09 03:00:00+00:00   \n",
       "10  O7LynDz1vO 2020-06-17 20:28:58.208000+00:00 2020-06-06 03:00:00+00:00   \n",
       "\n",
       "              dataNascimento                               sintomas  \\\n",
       "0  1990-01-01 02:00:00+00:00                                 Outros   \n",
       "4  2000-01-09 03:00:00+00:00  Febre, Tosse, Outros, Dor de Garganta   \n",
       "5  1996-04-21 03:00:00+00:00                          Febre, Outros   \n",
       "6  1996-05-17 03:00:00+00:00                 Tosse, Dor de Garganta   \n",
       "10 1942-04-12 03:00:00+00:00                                  Tosse   \n",
       "\n",
       "   profissionalSaude estadoTeste                 dataTeste  \\\n",
       "0                Não   Concluído 2020-05-22 03:00:00+00:00   \n",
       "4                Não   Concluído 2020-05-25 03:00:00+00:00   \n",
       "5                Não   Concluído 2020-06-09 03:00:00+00:00   \n",
       "6                Não   Concluído 2020-06-17 03:00:00+00:00   \n",
       "10               Não   Concluído 2020-06-17 03:00:00+00:00   \n",
       "\n",
       "                   tipoTeste resultadoTeste  ... municipioIBGE  \\\n",
       "0   TESTE RÁPIDO - ANTICORPO       Negativo  ...     2704500.0   \n",
       "4   TESTE RÁPIDO - ANTICORPO       Negativo  ...     2704807.0   \n",
       "5    TESTE RÁPIDO - ANTÍGENO       Positivo  ...     2707305.0   \n",
       "6    TESTE RÁPIDO - ANTÍGENO       Negativo  ...     2702900.0   \n",
       "10   TESTE RÁPIDO - ANTÍGENO       Negativo  ...     2702900.0   \n",
       "\n",
       "   estadoNotificacao estadoNotificacaoIBGE municipioNotificacao  \\\n",
       "0            Alagoas                  27.0             Maragogi   \n",
       "4            Alagoas                  27.0            Maribondo   \n",
       "5            Alagoas                  27.0            Maribondo   \n",
       "6            Alagoas                  27.0    Girau do Ponciano   \n",
       "10           Alagoas                  27.0    Girau do Ponciano   \n",
       "\n",
       "   municipioNotificacaoIBGE idade          dataEncerramento  \\\n",
       "0                 2704500.0  31.0 2020-06-18 03:00:00+00:00   \n",
       "4                 2704807.0  21.0 2020-06-15 03:00:00+00:00   \n",
       "5                 2704807.0  25.0 2020-06-20 03:00:00+00:00   \n",
       "6                 2702900.0  25.0 2020-06-17 03:00:00+00:00   \n",
       "10                2702900.0  79.0 2020-06-17 03:00:00+00:00   \n",
       "\n",
       "          evolucaoCaso       classificacaoFinal  idade_descri  \n",
       "0                 Cura               Descartado        Adulto  \n",
       "4   Sem Acompanhamento               Descartado        Adulto  \n",
       "5   Sem Acompanhamento          Sem Confirmação        Adulto  \n",
       "6                 Cura  Confirmado Laboratorial        Adulto  \n",
       "10                Cura  Confirmado Laboratorial         Idoso  \n",
       "\n",
       "[5 rows x 24 columns]"
      ]
     },
     "execution_count": 418,
     "metadata": {},
     "output_type": "execute_result"
    }
   ],
   "source": [
    "#idade descretizada\n",
    "idades = ['Criança', 'Adolecente', 'Adulto', 'Idoso']\n",
    "corte = [0,12,18,60,df['idade'].max()]\n",
    "df['idade_descri'] = pd.cut(df['idade'],bins=corte, labels =idades)\n",
    "df.head()"
   ]
  },
  {
   "cell_type": "code",
   "execution_count": 419,
   "id": "c0c0c6f6",
   "metadata": {},
   "outputs": [
    {
     "data": {
      "text/html": [
       "<div>\n",
       "<style scoped>\n",
       "    .dataframe tbody tr th:only-of-type {\n",
       "        vertical-align: middle;\n",
       "    }\n",
       "\n",
       "    .dataframe tbody tr th {\n",
       "        vertical-align: top;\n",
       "    }\n",
       "\n",
       "    .dataframe thead th {\n",
       "        text-align: right;\n",
       "    }\n",
       "</style>\n",
       "<table border=\"1\" class=\"dataframe\">\n",
       "  <thead>\n",
       "    <tr style=\"text-align: right;\">\n",
       "      <th></th>\n",
       "      <th>id</th>\n",
       "      <th>dataNotificacao</th>\n",
       "      <th>dataInicioSintomas</th>\n",
       "      <th>dataNascimento</th>\n",
       "      <th>sintomas</th>\n",
       "      <th>profissionalSaude</th>\n",
       "      <th>estadoTeste</th>\n",
       "      <th>dataTeste</th>\n",
       "      <th>tipoTeste</th>\n",
       "      <th>resultadoTeste</th>\n",
       "      <th>...</th>\n",
       "      <th>estadoNotificacao</th>\n",
       "      <th>estadoNotificacaoIBGE</th>\n",
       "      <th>municipioNotificacao</th>\n",
       "      <th>municipioNotificacaoIBGE</th>\n",
       "      <th>idade</th>\n",
       "      <th>dataEncerramento</th>\n",
       "      <th>evolucaoCaso</th>\n",
       "      <th>classificacaoFinal</th>\n",
       "      <th>idade_descri</th>\n",
       "      <th>idade_zscore</th>\n",
       "    </tr>\n",
       "  </thead>\n",
       "  <tbody>\n",
       "    <tr>\n",
       "      <th>0</th>\n",
       "      <td>ZhUa1ql0lL</td>\n",
       "      <td>2020-05-31 15:01:33.806000+00:00</td>\n",
       "      <td>2020-05-14 03:00:00+00:00</td>\n",
       "      <td>1990-01-01 02:00:00+00:00</td>\n",
       "      <td>Outros</td>\n",
       "      <td>Não</td>\n",
       "      <td>Concluído</td>\n",
       "      <td>2020-05-22 03:00:00+00:00</td>\n",
       "      <td>TESTE RÁPIDO - ANTICORPO</td>\n",
       "      <td>Negativo</td>\n",
       "      <td>...</td>\n",
       "      <td>Alagoas</td>\n",
       "      <td>27.0</td>\n",
       "      <td>Maragogi</td>\n",
       "      <td>2704500.0</td>\n",
       "      <td>31.0</td>\n",
       "      <td>2020-06-18 03:00:00+00:00</td>\n",
       "      <td>Cura</td>\n",
       "      <td>Descartado</td>\n",
       "      <td>Adulto</td>\n",
       "      <td>-0.419983</td>\n",
       "    </tr>\n",
       "    <tr>\n",
       "      <th>4</th>\n",
       "      <td>M1DH1j7Os5</td>\n",
       "      <td>2020-05-26 03:00:00+00:00</td>\n",
       "      <td>2020-05-17 03:00:00+00:00</td>\n",
       "      <td>2000-01-09 03:00:00+00:00</td>\n",
       "      <td>Febre, Tosse, Outros, Dor de Garganta</td>\n",
       "      <td>Não</td>\n",
       "      <td>Concluído</td>\n",
       "      <td>2020-05-25 03:00:00+00:00</td>\n",
       "      <td>TESTE RÁPIDO - ANTICORPO</td>\n",
       "      <td>Negativo</td>\n",
       "      <td>...</td>\n",
       "      <td>Alagoas</td>\n",
       "      <td>27.0</td>\n",
       "      <td>Maribondo</td>\n",
       "      <td>2704807.0</td>\n",
       "      <td>21.0</td>\n",
       "      <td>2020-06-15 03:00:00+00:00</td>\n",
       "      <td>Sem Acompanhamento</td>\n",
       "      <td>Descartado</td>\n",
       "      <td>Adulto</td>\n",
       "      <td>-0.997739</td>\n",
       "    </tr>\n",
       "    <tr>\n",
       "      <th>5</th>\n",
       "      <td>KW5li9MeeU</td>\n",
       "      <td>2020-06-09 03:00:00+00:00</td>\n",
       "      <td>2020-05-22 03:00:00+00:00</td>\n",
       "      <td>1996-04-21 03:00:00+00:00</td>\n",
       "      <td>Febre, Outros</td>\n",
       "      <td>Não</td>\n",
       "      <td>Concluído</td>\n",
       "      <td>2020-06-09 03:00:00+00:00</td>\n",
       "      <td>TESTE RÁPIDO - ANTÍGENO</td>\n",
       "      <td>Positivo</td>\n",
       "      <td>...</td>\n",
       "      <td>Alagoas</td>\n",
       "      <td>27.0</td>\n",
       "      <td>Maribondo</td>\n",
       "      <td>2704807.0</td>\n",
       "      <td>25.0</td>\n",
       "      <td>2020-06-20 03:00:00+00:00</td>\n",
       "      <td>Sem Acompanhamento</td>\n",
       "      <td>Sem Confirmação</td>\n",
       "      <td>Adulto</td>\n",
       "      <td>-0.766637</td>\n",
       "    </tr>\n",
       "    <tr>\n",
       "      <th>6</th>\n",
       "      <td>MTEIyWoaFz</td>\n",
       "      <td>2020-06-17 20:17:16.221000+00:00</td>\n",
       "      <td>2020-06-09 03:00:00+00:00</td>\n",
       "      <td>1996-05-17 03:00:00+00:00</td>\n",
       "      <td>Tosse, Dor de Garganta</td>\n",
       "      <td>Não</td>\n",
       "      <td>Concluído</td>\n",
       "      <td>2020-06-17 03:00:00+00:00</td>\n",
       "      <td>TESTE RÁPIDO - ANTÍGENO</td>\n",
       "      <td>Negativo</td>\n",
       "      <td>...</td>\n",
       "      <td>Alagoas</td>\n",
       "      <td>27.0</td>\n",
       "      <td>Girau do Ponciano</td>\n",
       "      <td>2702900.0</td>\n",
       "      <td>25.0</td>\n",
       "      <td>2020-06-17 03:00:00+00:00</td>\n",
       "      <td>Cura</td>\n",
       "      <td>Confirmado Laboratorial</td>\n",
       "      <td>Adulto</td>\n",
       "      <td>-0.766637</td>\n",
       "    </tr>\n",
       "    <tr>\n",
       "      <th>10</th>\n",
       "      <td>O7LynDz1vO</td>\n",
       "      <td>2020-06-17 20:28:58.208000+00:00</td>\n",
       "      <td>2020-06-06 03:00:00+00:00</td>\n",
       "      <td>1942-04-12 03:00:00+00:00</td>\n",
       "      <td>Tosse</td>\n",
       "      <td>Não</td>\n",
       "      <td>Concluído</td>\n",
       "      <td>2020-06-17 03:00:00+00:00</td>\n",
       "      <td>TESTE RÁPIDO - ANTÍGENO</td>\n",
       "      <td>Negativo</td>\n",
       "      <td>...</td>\n",
       "      <td>Alagoas</td>\n",
       "      <td>27.0</td>\n",
       "      <td>Girau do Ponciano</td>\n",
       "      <td>2702900.0</td>\n",
       "      <td>79.0</td>\n",
       "      <td>2020-06-17 03:00:00+00:00</td>\n",
       "      <td>Cura</td>\n",
       "      <td>Confirmado Laboratorial</td>\n",
       "      <td>Idoso</td>\n",
       "      <td>2.353247</td>\n",
       "    </tr>\n",
       "  </tbody>\n",
       "</table>\n",
       "<p>5 rows × 25 columns</p>\n",
       "</div>"
      ],
      "text/plain": [
       "            id                  dataNotificacao        dataInicioSintomas  \\\n",
       "0   ZhUa1ql0lL 2020-05-31 15:01:33.806000+00:00 2020-05-14 03:00:00+00:00   \n",
       "4   M1DH1j7Os5        2020-05-26 03:00:00+00:00 2020-05-17 03:00:00+00:00   \n",
       "5   KW5li9MeeU        2020-06-09 03:00:00+00:00 2020-05-22 03:00:00+00:00   \n",
       "6   MTEIyWoaFz 2020-06-17 20:17:16.221000+00:00 2020-06-09 03:00:00+00:00   \n",
       "10  O7LynDz1vO 2020-06-17 20:28:58.208000+00:00 2020-06-06 03:00:00+00:00   \n",
       "\n",
       "              dataNascimento                               sintomas  \\\n",
       "0  1990-01-01 02:00:00+00:00                                 Outros   \n",
       "4  2000-01-09 03:00:00+00:00  Febre, Tosse, Outros, Dor de Garganta   \n",
       "5  1996-04-21 03:00:00+00:00                          Febre, Outros   \n",
       "6  1996-05-17 03:00:00+00:00                 Tosse, Dor de Garganta   \n",
       "10 1942-04-12 03:00:00+00:00                                  Tosse   \n",
       "\n",
       "   profissionalSaude estadoTeste                 dataTeste  \\\n",
       "0                Não   Concluído 2020-05-22 03:00:00+00:00   \n",
       "4                Não   Concluído 2020-05-25 03:00:00+00:00   \n",
       "5                Não   Concluído 2020-06-09 03:00:00+00:00   \n",
       "6                Não   Concluído 2020-06-17 03:00:00+00:00   \n",
       "10               Não   Concluído 2020-06-17 03:00:00+00:00   \n",
       "\n",
       "                   tipoTeste resultadoTeste  ... estadoNotificacao  \\\n",
       "0   TESTE RÁPIDO - ANTICORPO       Negativo  ...           Alagoas   \n",
       "4   TESTE RÁPIDO - ANTICORPO       Negativo  ...           Alagoas   \n",
       "5    TESTE RÁPIDO - ANTÍGENO       Positivo  ...           Alagoas   \n",
       "6    TESTE RÁPIDO - ANTÍGENO       Negativo  ...           Alagoas   \n",
       "10   TESTE RÁPIDO - ANTÍGENO       Negativo  ...           Alagoas   \n",
       "\n",
       "   estadoNotificacaoIBGE municipioNotificacao municipioNotificacaoIBGE idade  \\\n",
       "0                   27.0             Maragogi                2704500.0  31.0   \n",
       "4                   27.0            Maribondo                2704807.0  21.0   \n",
       "5                   27.0            Maribondo                2704807.0  25.0   \n",
       "6                   27.0    Girau do Ponciano                2702900.0  25.0   \n",
       "10                  27.0    Girau do Ponciano                2702900.0  79.0   \n",
       "\n",
       "            dataEncerramento        evolucaoCaso       classificacaoFinal  \\\n",
       "0  2020-06-18 03:00:00+00:00                Cura               Descartado   \n",
       "4  2020-06-15 03:00:00+00:00  Sem Acompanhamento               Descartado   \n",
       "5  2020-06-20 03:00:00+00:00  Sem Acompanhamento          Sem Confirmação   \n",
       "6  2020-06-17 03:00:00+00:00                Cura  Confirmado Laboratorial   \n",
       "10 2020-06-17 03:00:00+00:00                Cura  Confirmado Laboratorial   \n",
       "\n",
       "   idade_descri  idade_zscore  \n",
       "0        Adulto     -0.419983  \n",
       "4        Adulto     -0.997739  \n",
       "5        Adulto     -0.766637  \n",
       "6        Adulto     -0.766637  \n",
       "10        Idoso      2.353247  \n",
       "\n",
       "[5 rows x 25 columns]"
      ]
     },
     "execution_count": 419,
     "metadata": {},
     "output_type": "execute_result"
    }
   ],
   "source": [
    "#Usando a idade para normalização zscore\n",
    "df['idade_zscore'] = stats.zscore(df['idade'])\n",
    "df.head()"
   ]
  },
  {
   "cell_type": "markdown",
   "id": "08345695",
   "metadata": {},
   "source": [
    "### Limpeza de Dados"
   ]
  },
  {
   "cell_type": "code",
   "execution_count": 420,
   "id": "cf03729b",
   "metadata": {},
   "outputs": [
    {
     "data": {
      "image/png": "[encoded data removed]",
      "text/plain": [
       "<Figure size 432x288 with 1 Axes>"
      ]
     },
     "metadata": {
      "needs_background": "light"
     },
     "output_type": "display_data"
    }
   ],
   "source": [
    "#assumindo 4 como corte da idade\n",
    "sns.histplot(df['idade_zscore'], kde = True);"
   ]
  },
  {
   "cell_type": "code",
   "execution_count": 421,
   "id": "d9564873",
   "metadata": {},
   "outputs": [],
   "source": [
    "df = df[(df['idade_zscore']<4)]"
   ]
  },
  {
   "cell_type": "code",
   "execution_count": 422,
   "id": "a2c17b23",
   "metadata": {},
   "outputs": [],
   "source": [
    "#26/2/2020 primeiro caso\n",
    "#https://www.unasus.gov.br/noticia/coronavirus-brasil-confirma-primeiro-caso-da-doenca\n",
    "df = df[~(df['dataNotificacao'] <pd.to_datetime('2020-02-26', utc=True))]"
   ]
  },
  {
   "cell_type": "code",
   "execution_count": 423,
   "id": "47423eb5",
   "metadata": {},
   "outputs": [],
   "source": [
    "#retirando datas que passem de encerramento que passem do dia atual.\n",
    "df = df[df['dataEncerramento']<pd.to_datetime(date.today(), utc=True)]"
   ]
  },
  {
   "cell_type": "markdown",
   "id": "62d1387a",
   "metadata": {},
   "source": [
    "### Apresentação dos dados"
   ]
  },
  {
   "cell_type": "markdown",
   "id": "a2ac9108",
   "metadata": {},
   "source": [
    "**Principal Faixa etária com positiva para Covid em Alagoas.**"
   ]
  },
  {
   "cell_type": "code",
   "execution_count": 424,
   "id": "542cfcde",
   "metadata": {},
   "outputs": [
    {
     "data": {
      "text/plain": [
       "Adulto        169519\n",
       "Idoso          27699\n",
       "Criança         8382\n",
       "Adolecente      8034\n",
       "Name: idade_descri, dtype: int64"
      ]
     },
     "execution_count": 424,
     "metadata": {},
     "output_type": "execute_result"
    }
   ],
   "source": [
    "df[df['resultadoTeste']=='Positivo']['idade_descri'].value_counts()"
   ]
  },
  {
   "cell_type": "code",
   "execution_count": 425,
   "id": "7b0f5f3e",
   "metadata": {},
   "outputs": [
    {
     "data": {
      "image/png": "[encoded data removed]",
      "text/plain": [
       "<Figure size 432x288 with 1 Axes>"
      ]
     },
     "metadata": {
      "needs_background": "light"
     },
     "output_type": "display_data"
    }
   ],
   "source": [
    "sns.countplot(x=df[df['resultadoTeste']=='Positivo']['idade_descri']);"
   ]
  },
  {
   "cell_type": "markdown",
   "id": "db9ed6ec",
   "metadata": {},
   "source": [
    "**Principal faixa etária de óbitos por Covid em Alagoas.**"
   ]
  },
  {
   "cell_type": "code",
   "execution_count": 426,
   "id": "9b620b60",
   "metadata": {},
   "outputs": [
    {
     "data": {
      "text/plain": [
       "Idoso         2190\n",
       "Adulto        1150\n",
       "Criança         25\n",
       "Adolecente       9\n",
       "Name: idade_descri, dtype: int64"
      ]
     },
     "execution_count": 426,
     "metadata": {},
     "output_type": "execute_result"
    }
   ],
   "source": [
    "df[(df['evolucaoCaso']=='Óbito') & (df['resultadoTeste']=='Positivo')]['idade_descri'].value_counts()"
   ]
  },
  {
   "cell_type": "code",
   "execution_count": 427,
   "id": "203a07bf",
   "metadata": {},
   "outputs": [
    {
     "data": {
      "image/png": "[encoded data removed]",
      "text/plain": [
       "<Figure size 432x288 with 1 Axes>"
      ]
     },
     "metadata": {
      "needs_background": "light"
     },
     "output_type": "display_data"
    }
   ],
   "source": [
    "sns.countplot(x=df[(df['evolucaoCaso']=='Óbito') & (df['resultadoTeste']=='Positivo')]['idade_descri']);"
   ]
  },
  {
   "cell_type": "markdown",
   "id": "bb351782",
   "metadata": {},
   "source": [
    "**Óbitos por município.**"
   ]
  },
  {
   "cell_type": "code",
   "execution_count": 428,
   "id": "886131b9",
   "metadata": {},
   "outputs": [
    {
     "data": {
      "text/plain": [
       "municipioNotificacao\n",
       "Maceió                1867\n",
       "Arapiraca              509\n",
       "Santana do Ipanema     158\n",
       "Coruripe               104\n",
       "Delmiro Gouveia        104\n",
       "Name: id, dtype: int64"
      ]
     },
     "execution_count": 428,
     "metadata": {},
     "output_type": "execute_result"
    }
   ],
   "source": [
    "df[df['evolucaoCaso']=='Óbito'].groupby('municipioNotificacao').count()['id'].nlargest(5)"
   ]
  },
  {
   "cell_type": "code",
   "execution_count": 429,
   "id": "62050f3b",
   "metadata": {},
   "outputs": [
    {
     "data": {
      "image/png": "[encoded data removed]",
      "text/plain": [
       "<Figure size 432x288 with 1 Axes>"
      ]
     },
     "metadata": {
      "needs_background": "light"
     },
     "output_type": "display_data"
    }
   ],
   "source": [
    "df[df['evolucaoCaso']=='Óbito'].groupby('municipioNotificacao').count()['id'].nlargest(5).plot.bar();"
   ]
  },
  {
   "cell_type": "markdown",
   "id": "58213495",
   "metadata": {},
   "source": [
    "**Resutaldos positivos para covid por município.** "
   ]
  },
  {
   "cell_type": "code",
   "execution_count": 430,
   "id": "d97df54d",
   "metadata": {},
   "outputs": [
    {
     "data": {
      "image/png": "[encoded data removed]",
      "text/plain": [
       "<Figure size 432x288 with 1 Axes>"
      ]
     },
     "metadata": {
      "needs_background": "light"
     },
     "output_type": "display_data"
    }
   ],
   "source": [
    "df[df['resultadoTeste']=='Positivo'].groupby('municipioNotificacao').count()['id'].nlargest(5).plot.bar();"
   ]
  },
  {
   "cell_type": "markdown",
   "id": "13b8f93f",
   "metadata": {},
   "source": [
    "Taxa de mortalidade"
   ]
  },
  {
   "cell_type": "code",
   "execution_count": 461,
   "id": "9adb4808",
   "metadata": {},
   "outputs": [
    {
     "data": {
      "application/vnd.plotly.v1+json": {
       "config": {
        "plotlyServerURL": "https://plot.ly"
       },
       "data": [
        {
         "alignmentgroup": "True",
         "hovertemplate": "x=%{x}<br>y=%{y}<br>color=%{marker.color}<extra></extra>",
         "legendgroup": "",
         "marker": {
          "color": [
           0.5475701574264202,
           1.4647482014388489,
           2.0276497695852536,
           0,
           0.3795066413662239,
           1.4532243415077202,
           0,
           1.1235955056179776,
           0.5681818181818182,
           1.023890784982935,
           0.6578947368421053,
           3.0651340996168583,
           0.46296296296296297,
           1.9138755980861244,
           0,
           0.5420054200542005,
           0.5035246727089627,
           0.3215434083601286,
           1.5151515151515151,
           2.0179372197309418,
           2.095808383233533,
           0.6928406466512702,
           2.3836809534723815,
           0.21770682148040638,
           2.5641025641025643,
           0,
           0,
           1.4064697609001406,
           0.5988023952095808,
           1.2280701754385965,
           3.1618435155412645,
           1.3953488372093024,
           0,
           0.7736943907156673,
           0.7299270072992701,
           0.6507592190889371,
           0,
           0.9375,
           0,
           1.740506329113924,
           1.0498687664041995,
           0,
           1.256544502617801,
           0.5201560468140443,
           1.0118043844856661,
           0,
           2.4297557230052447,
           1.3398294762484775,
           1.36986301369863,
           2.6824034334763946,
           0,
           0.4247460757156048,
           1.9047619047619047,
           1.9047619047619047,
           1.7186505410566517,
           1.5138023152270703,
           1.8779342723004695,
           0.8264462809917356,
           2.5641025641025643,
           0.9523809523809523,
           0.5524861878453039,
           0.6191950464396285,
           1.4598540145985401,
           0.5089058524173028,
           1.8475750577367205,
           0.5825242718446602,
           1.3227513227513228,
           0.16474464579901152,
           0.704225352112676,
           1.6172506738544474,
           1.917808219178082,
           0.11344299489506524,
           0.28735632183908044,
           0.2188782489740082,
           1.5151515151515151,
           0.27803521779425394,
           0.0999000999000999,
           2.2641509433962264,
           0.8849557522123894,
           0,
           0.38058991436726924,
           0.26501766784452296,
           2.6799789805570153,
           1.744186046511628,
           0.22172949002217296,
           2.9439165269237937,
           1.8050541516245486,
           0.25125628140703515,
           2.1164021164021163,
           2.6455026455026456,
           0.08583690987124463,
           1.6326530612244898,
           0.7763975155279503,
           2.481873954266592,
           0,
           1.3040901007705987,
           0,
           0.4792332268370607,
           0.06872852233676977,
           2.9962546816479403,
           2.2049816251531236,
           3.1717534410532617,
           1.5706806282722514
          ],
          "coloraxis": "coloraxis",
          "pattern": {
           "shape": ""
          }
         },
         "name": "",
         "offsetgroup": "",
         "orientation": "h",
         "showlegend": false,
         "textposition": "auto",
         "type": "bar",
         "x": [
          0.5475701574264202,
          1.4647482014388489,
          2.0276497695852536,
          0,
          0.3795066413662239,
          1.4532243415077202,
          0,
          1.1235955056179776,
          0.5681818181818182,
          1.023890784982935,
          0.6578947368421053,
          3.0651340996168583,
          0.46296296296296297,
          1.9138755980861244,
          0,
          0.5420054200542005,
          0.5035246727089627,
          0.3215434083601286,
          1.5151515151515151,
          2.0179372197309418,
          2.095808383233533,
          0.6928406466512702,
          2.3836809534723815,
          0.21770682148040638,
          2.5641025641025643,
          0,
          0,
          1.4064697609001406,
          0.5988023952095808,
          1.2280701754385965,
          3.1618435155412645,
          1.3953488372093024,
          0,
          0.7736943907156673,
          0.7299270072992701,
          0.6507592190889371,
          0,
          0.9375,
          0,
          1.740506329113924,
          1.0498687664041995,
          0,
          1.256544502617801,
          0.5201560468140443,
          1.0118043844856661,
          0,
          2.4297557230052447,
          1.3398294762484775,
          1.36986301369863,
          2.6824034334763946,
          0,
          0.4247460757156048,
          1.9047619047619047,
          1.9047619047619047,
          1.7186505410566517,
          1.5138023152270703,
          1.8779342723004695,
          0.8264462809917356,
          2.5641025641025643,
          0.9523809523809523,
          0.5524861878453039,
          0.6191950464396285,
          1.4598540145985401,
          0.5089058524173028,
          1.8475750577367205,
          0.5825242718446602,
          1.3227513227513228,
          0.16474464579901152,
          0.704225352112676,
          1.6172506738544474,
          1.917808219178082,
          0.11344299489506524,
          0.28735632183908044,
          0.2188782489740082,
          1.5151515151515151,
          0.27803521779425394,
          0.0999000999000999,
          2.2641509433962264,
          0.8849557522123894,
          0,
          0.38058991436726924,
          0.26501766784452296,
          2.6799789805570153,
          1.744186046511628,
          0.22172949002217296,
          2.9439165269237937,
          1.8050541516245486,
          0.25125628140703515,
          2.1164021164021163,
          2.6455026455026456,
          0.08583690987124463,
          1.6326530612244898,
          0.7763975155279503,
          2.481873954266592,
          0,
          1.3040901007705987,
          0,
          0.4792332268370607,
          0.06872852233676977,
          2.9962546816479403,
          2.2049816251531236,
          3.1717534410532617,
          1.5706806282722514
         ],
         "xaxis": "x",
         "y": [
          "Anadia",
          "Arapiraca",
          "Atalaia",
          "Barra de Santo Antônio",
          "Barra de São Miguel",
          "Batalha",
          "Belo Monte",
          "Belém",
          "Boca da Mata",
          "Branquinha",
          "Cacimbinhas",
          "Cajueiro",
          "Campestre",
          "Campo Alegre",
          "Campo Grande",
          "Canapi",
          "Capela",
          "Carneiros",
          "Chã Preta",
          "Coité do Nóia",
          "Colônia Leopoldina",
          "Coqueiro Seco",
          "Coruripe",
          "Craíbas",
          "Delmiro Gouveia",
          "Dois Riachos",
          "Estrela de Alagoas",
          "Feira Grande",
          "Feliz Deserto",
          "Flexeiras",
          "Girau do Ponciano",
          "Ibateguara",
          "Igaci",
          "Igreja Nova",
          "Inhapi",
          "Jacaré dos Homens",
          "Jacuípe",
          "Japaratinga",
          "Jaramataia",
          "Jequiá da Praia",
          "Joaquim Gomes",
          "Jundiá",
          "Junqueiro",
          "Lagoa da Canoa",
          "Limoeiro de Anadia",
          "Maceio",
          "Maceió",
          "Major Isidoro",
          "Mar Vermelho",
          "Maragogi",
          "Maravilha",
          "Marechal Deodoro",
          "Maribondo",
          "Mata Grande",
          "Matriz de Camaragibe",
          "Messias",
          "Minador do Negrão",
          "Monteirópolis",
          "Murici",
          "Novo Lino",
          "Olho d'Água Grande",
          "Olho d'Água das Flores",
          "Olho d'Água do Casado",
          "Olivença",
          "Ouro Branco",
          "Palestina",
          "Palmeira dos Índios",
          "Pariconha",
          "Paripueira",
          "Passo de Camaragibe",
          "Paulo Jacinto",
          "Penedo",
          "Piaçabuçu",
          "Pilar",
          "Pindoba",
          "Piranhas",
          "Porto Calvo",
          "Porto Real do Colégio",
          "Porto de Pedras",
          "Poço das Trincheiras",
          "Pão de Açúcar",
          "Quebrangulo",
          "Rio Largo",
          "Roteiro",
          "Santa Luzia do Norte",
          "Santana do Ipanema",
          "Santana do Mundaú",
          "Satuba",
          "Senador Rui Palmeira",
          "São Brás",
          "São José da Laje",
          "São José da Tapera",
          "São Luís do Quitunde",
          "São Miguel dos Campos",
          "São Miguel dos Milagres",
          "São Sebastião",
          "Tanque d'Arca",
          "Taquarana",
          "Teotônio Vilela",
          "Traipu",
          "União dos Palmares",
          "Viçosa",
          "Água Branca"
         ],
         "yaxis": "y"
        }
       ],
       "layout": {
        "barmode": "relative",
        "coloraxis": {
         "colorbar": {
          "title": {
           "text": "color"
          }
         },
         "colorscale": [
          [
           0,
           "#0d0887"
          ],
          [
           0.1111111111111111,
           "#46039f"
          ],
          [
           0.2222222222222222,
           "#7201a8"
          ],
          [
           0.3333333333333333,
           "#9c179e"
          ],
          [
           0.4444444444444444,
           "#bd3786"
          ],
          [
           0.5555555555555556,
           "#d8576b"
          ],
          [
           0.6666666666666666,
           "#ed7953"
          ],
          [
           0.7777777777777778,
           "#fb9f3a"
          ],
          [
           0.8888888888888888,
           "#fdca26"
          ],
          [
           1,
           "#f0f921"
          ]
         ]
        },
        "height": 2000,
        "legend": {
         "tracegroupgap": 0
        },
        "template": {
         "data": {
          "bar": [
           {
            "error_x": {
             "color": "#2a3f5f"
            },
            "error_y": {
             "color": "#2a3f5f"
            },
            "marker": {
             "line": {
              "color": "#E5ECF6",
              "width": 0.5
             },
             "pattern": {
              "fillmode": "overlay",
              "size": 10,
              "solidity": 0.2
             }
            },
            "type": "bar"
           }
          ],
          "barpolar": [
           {
            "marker": {
             "line": {
              "color": "#E5ECF6",
              "width": 0.5
             },
             "pattern": {
              "fillmode": "overlay",
              "size": 10,
              "solidity": 0.2
             }
            },
            "type": "barpolar"
           }
          ],
          "carpet": [
           {
            "aaxis": {
             "endlinecolor": "#2a3f5f",
             "gridcolor": "white",
             "linecolor": "white",
             "minorgridcolor": "white",
             "startlinecolor": "#2a3f5f"
            },
            "baxis": {
             "endlinecolor": "#2a3f5f",
             "gridcolor": "white",
             "linecolor": "white",
             "minorgridcolor": "white",
             "startlinecolor": "#2a3f5f"
            },
            "type": "carpet"
           }
          ],
          "choropleth": [
           {
            "colorbar": {
             "outlinewidth": 0,
             "ticks": ""
            },
            "type": "choropleth"
           }
          ],
          "contour": [
           {
            "colorbar": {
             "outlinewidth": 0,
             "ticks": ""
            },
            "colorscale": [
             [
              0,
              "#0d0887"
             ],
             [
              0.1111111111111111,
              "#46039f"
             ],
             [
              0.2222222222222222,
              "#7201a8"
             ],
             [
              0.3333333333333333,
              "#9c179e"
             ],
             [
              0.4444444444444444,
              "#bd3786"
             ],
             [
              0.5555555555555556,
              "#d8576b"
             ],
             [
              0.6666666666666666,
              "#ed7953"
             ],
             [
              0.7777777777777778,
              "#fb9f3a"
             ],
             [
              0.8888888888888888,
              "#fdca26"
             ],
             [
              1,
              "#f0f921"
             ]
            ],
            "type": "contour"
           }
          ],
          "contourcarpet": [
           {
            "colorbar": {
             "outlinewidth": 0,
             "ticks": ""
            },
            "type": "contourcarpet"
           }
          ],
          "heatmap": [
           {
            "colorbar": {
             "outlinewidth": 0,
             "ticks": ""
            },
            "colorscale": [
             [
              0,
              "#0d0887"
             ],
             [
              0.1111111111111111,
              "#46039f"
             ],
             [
              0.2222222222222222,
              "#7201a8"
             ],
             [
              0.3333333333333333,
              "#9c179e"
             ],
             [
              0.4444444444444444,
              "#bd3786"
             ],
             [
              0.5555555555555556,
              "#d8576b"
             ],
             [
              0.6666666666666666,
              "#ed7953"
             ],
             [
              0.7777777777777778,
              "#fb9f3a"
             ],
             [
              0.8888888888888888,
              "#fdca26"
             ],
             [
              1,
              "#f0f921"
             ]
            ],
            "type": "heatmap"
           }
          ],
          "heatmapgl": [
           {
            "colorbar": {
             "outlinewidth": 0,
             "ticks": ""
            },
            "colorscale": [
             [
              0,
              "#0d0887"
             ],
             [
              0.1111111111111111,
              "#46039f"
             ],
             [
              0.2222222222222222,
              "#7201a8"
             ],
             [
              0.3333333333333333,
              "#9c179e"
             ],
             [
              0.4444444444444444,
              "#bd3786"
             ],
             [
              0.5555555555555556,
              "#d8576b"
             ],
             [
              0.6666666666666666,
              "#ed7953"
             ],
             [
              0.7777777777777778,
              "#fb9f3a"
             ],
             [
              0.8888888888888888,
              "#fdca26"
             ],
             [
              1,
              "#f0f921"
             ]
            ],
            "type": "heatmapgl"
           }
          ],
          "histogram": [
           {
            "marker": {
             "pattern": {
              "fillmode": "overlay",
              "size": 10,
              "solidity": 0.2
             }
            },
            "type": "histogram"
           }
          ],
          "histogram2d": [
           {
            "colorbar": {
             "outlinewidth": 0,
             "ticks": ""
            },
            "colorscale": [
             [
              0,
              "#0d0887"
             ],
             [
              0.1111111111111111,
              "#46039f"
             ],
             [
              0.2222222222222222,
              "#7201a8"
             ],
             [
              0.3333333333333333,
              "#9c179e"
             ],
             [
              0.4444444444444444,
              "#bd3786"
             ],
             [
              0.5555555555555556,
              "#d8576b"
             ],
             [
              0.6666666666666666,
              "#ed7953"
             ],
             [
              0.7777777777777778,
              "#fb9f3a"
             ],
             [
              0.8888888888888888,
              "#fdca26"
             ],
             [
              1,
              "#f0f921"
             ]
            ],
            "type": "histogram2d"
           }
          ],
          "histogram2dcontour": [
           {
            "colorbar": {
             "outlinewidth": 0,
             "ticks": ""
            },
            "colorscale": [
             [
              0,
              "#0d0887"
             ],
             [
              0.1111111111111111,
              "#46039f"
             ],
             [
              0.2222222222222222,
              "#7201a8"
             ],
             [
              0.3333333333333333,
              "#9c179e"
             ],
             [
              0.4444444444444444,
              "#bd3786"
             ],
             [
              0.5555555555555556,
              "#d8576b"
             ],
             [
              0.6666666666666666,
              "#ed7953"
             ],
             [
              0.7777777777777778,
              "#fb9f3a"
             ],
             [
              0.8888888888888888,
              "#fdca26"
             ],
             [
              1,
              "#f0f921"
             ]
            ],
            "type": "histogram2dcontour"
           }
          ],
          "mesh3d": [
           {
            "colorbar": {
             "outlinewidth": 0,
             "ticks": ""
            },
            "type": "mesh3d"
           }
          ],
          "parcoords": [
           {
            "line": {
             "colorbar": {
              "outlinewidth": 0,
              "ticks": ""
             }
            },
            "type": "parcoords"
           }
          ],
          "pie": [
           {
            "automargin": true,
            "type": "pie"
           }
          ],
          "scatter": [
           {
            "marker": {
             "colorbar": {
              "outlinewidth": 0,
              "ticks": ""
             }
            },
            "type": "scatter"
           }
          ],
          "scatter3d": [
           {
            "line": {
             "colorbar": {
              "outlinewidth": 0,
              "ticks": ""
             }
            },
            "marker": {
             "colorbar": {
              "outlinewidth": 0,
              "ticks": ""
             }
            },
            "type": "scatter3d"
           }
          ],
          "scattercarpet": [
           {
            "marker": {
             "colorbar": {
              "outlinewidth": 0,
              "ticks": ""
             }
            },
            "type": "scattercarpet"
           }
          ],
          "scattergeo": [
           {
            "marker": {
             "colorbar": {
              "outlinewidth": 0,
              "ticks": ""
             }
            },
            "type": "scattergeo"
           }
          ],
          "scattergl": [
           {
            "marker": {
             "colorbar": {
              "outlinewidth": 0,
              "ticks": ""
             }
            },
            "type": "scattergl"
           }
          ],
          "scattermapbox": [
           {
            "marker": {
             "colorbar": {
              "outlinewidth": 0,
              "ticks": ""
             }
            },
            "type": "scattermapbox"
           }
          ],
          "scatterpolar": [
           {
            "marker": {
             "colorbar": {
              "outlinewidth": 0,
              "ticks": ""
             }
            },
            "type": "scatterpolar"
           }
          ],
          "scatterpolargl": [
           {
            "marker": {
             "colorbar": {
              "outlinewidth": 0,
              "ticks": ""
             }
            },
            "type": "scatterpolargl"
           }
          ],
          "scatterternary": [
           {
            "marker": {
             "colorbar": {
              "outlinewidth": 0,
              "ticks": ""
             }
            },
            "type": "scatterternary"
           }
          ],
          "surface": [
           {
            "colorbar": {
             "outlinewidth": 0,
             "ticks": ""
            },
            "colorscale": [
             [
              0,
              "#0d0887"
             ],
             [
              0.1111111111111111,
              "#46039f"
             ],
             [
              0.2222222222222222,
              "#7201a8"
             ],
             [
              0.3333333333333333,
              "#9c179e"
             ],
             [
              0.4444444444444444,
              "#bd3786"
             ],
             [
              0.5555555555555556,
              "#d8576b"
             ],
             [
              0.6666666666666666,
              "#ed7953"
             ],
             [
              0.7777777777777778,
              "#fb9f3a"
             ],
             [
              0.8888888888888888,
              "#fdca26"
             ],
             [
              1,
              "#f0f921"
             ]
            ],
            "type": "surface"
           }
          ],
          "table": [
           {
            "cells": {
             "fill": {
              "color": "#EBF0F8"
             },
             "line": {
              "color": "white"
             }
            },
            "header": {
             "fill": {
              "color": "#C8D4E3"
             },
             "line": {
              "color": "white"
             }
            },
            "type": "table"
           }
          ]
         },
         "layout": {
          "annotationdefaults": {
           "arrowcolor": "#2a3f5f",
           "arrowhead": 0,
           "arrowwidth": 1
          },
          "autotypenumbers": "strict",
          "coloraxis": {
           "colorbar": {
            "outlinewidth": 0,
            "ticks": ""
           }
          },
          "colorscale": {
           "diverging": [
            [
             0,
             "#8e0152"
            ],
            [
             0.1,
             "#c51b7d"
            ],
            [
             0.2,
             "#de77ae"
            ],
            [
             0.3,
             "#f1b6da"
            ],
            [
             0.4,
             "#fde0ef"
            ],
            [
             0.5,
             "#f7f7f7"
            ],
            [
             0.6,
             "#e6f5d0"
            ],
            [
             0.7,
             "#b8e186"
            ],
            [
             0.8,
             "#7fbc41"
            ],
            [
             0.9,
             "#4d9221"
            ],
            [
             1,
             "#276419"
            ]
           ],
           "sequential": [
            [
             0,
             "#0d0887"
            ],
            [
             0.1111111111111111,
             "#46039f"
            ],
            [
             0.2222222222222222,
             "#7201a8"
            ],
            [
             0.3333333333333333,
             "#9c179e"
            ],
            [
             0.4444444444444444,
             "#bd3786"
            ],
            [
             0.5555555555555556,
             "#d8576b"
            ],
            [
             0.6666666666666666,
             "#ed7953"
            ],
            [
             0.7777777777777778,
             "#fb9f3a"
            ],
            [
             0.8888888888888888,
             "#fdca26"
            ],
            [
             1,
             "#f0f921"
            ]
           ],
           "sequentialminus": [
            [
             0,
             "#0d0887"
            ],
            [
             0.1111111111111111,
             "#46039f"
            ],
            [
             0.2222222222222222,
             "#7201a8"
            ],
            [
             0.3333333333333333,
             "#9c179e"
            ],
            [
             0.4444444444444444,
             "#bd3786"
            ],
            [
             0.5555555555555556,
             "#d8576b"
            ],
            [
             0.6666666666666666,
             "#ed7953"
            ],
            [
             0.7777777777777778,
             "#fb9f3a"
            ],
            [
             0.8888888888888888,
             "#fdca26"
            ],
            [
             1,
             "#f0f921"
            ]
           ]
          },
          "colorway": [
           "#636efa",
           "#EF553B",
           "#00cc96",
           "#ab63fa",
           "#FFA15A",
           "#19d3f3",
           "#FF6692",
           "#B6E880",
           "#FF97FF",
           "#FECB52"
          ],
          "font": {
           "color": "#2a3f5f"
          },
          "geo": {
           "bgcolor": "white",
           "lakecolor": "white",
           "landcolor": "#E5ECF6",
           "showlakes": true,
           "showland": true,
           "subunitcolor": "white"
          },
          "hoverlabel": {
           "align": "left"
          },
          "hovermode": "closest",
          "mapbox": {
           "style": "light"
          },
          "paper_bgcolor": "white",
          "plot_bgcolor": "#E5ECF6",
          "polar": {
           "angularaxis": {
            "gridcolor": "white",
            "linecolor": "white",
            "ticks": ""
           },
           "bgcolor": "#E5ECF6",
           "radialaxis": {
            "gridcolor": "white",
            "linecolor": "white",
            "ticks": ""
           }
          },
          "scene": {
           "xaxis": {
            "backgroundcolor": "#E5ECF6",
            "gridcolor": "white",
            "gridwidth": 2,
            "linecolor": "white",
            "showbackground": true,
            "ticks": "",
            "zerolinecolor": "white"
           },
           "yaxis": {
            "backgroundcolor": "#E5ECF6",
            "gridcolor": "white",
            "gridwidth": 2,
            "linecolor": "white",
            "showbackground": true,
            "ticks": "",
            "zerolinecolor": "white"
           },
           "zaxis": {
            "backgroundcolor": "#E5ECF6",
            "gridcolor": "white",
            "gridwidth": 2,
            "linecolor": "white",
            "showbackground": true,
            "ticks": "",
            "zerolinecolor": "white"
           }
          },
          "shapedefaults": {
           "line": {
            "color": "#2a3f5f"
           }
          },
          "ternary": {
           "aaxis": {
            "gridcolor": "white",
            "linecolor": "white",
            "ticks": ""
           },
           "baxis": {
            "gridcolor": "white",
            "linecolor": "white",
            "ticks": ""
           },
           "bgcolor": "#E5ECF6",
           "caxis": {
            "gridcolor": "white",
            "linecolor": "white",
            "ticks": ""
           }
          },
          "title": {
           "x": 0.05
          },
          "xaxis": {
           "automargin": true,
           "gridcolor": "white",
           "linecolor": "white",
           "ticks": "",
           "title": {
            "standoff": 15
           },
           "zerolinecolor": "white",
           "zerolinewidth": 2
          },
          "yaxis": {
           "automargin": true,
           "gridcolor": "white",
           "linecolor": "white",
           "ticks": "",
           "title": {
            "standoff": 15
           },
           "zerolinecolor": "white",
           "zerolinewidth": 2
          }
         }
        },
        "title": {
         "text": "Taxa de Mortalidade"
        },
        "width": 1000,
        "xaxis": {
         "anchor": "y",
         "domain": [
          0,
          1
         ],
         "title": {
          "text": "Taxa de Mortalidade %"
         }
        },
        "yaxis": {
         "anchor": "x",
         "domain": [
          0,
          1
         ],
         "title": {
          "text": "Municípios"
         }
        }
       }
      },
      "text/html": [
       "<div>                            <div id=\"ee9f380f-2e98-4f18-a09d-d02c2bd87500\" class=\"plotly-graph-div\" style=\"height:2000px; width:1000px;\"></div>            <script type=\"text/javascript\">                require([\"plotly\"], function(Plotly) {                    window.PLOTLYENV=window.PLOTLYENV || {};                                    if (document.getElementById(\"ee9f380f-2e98-4f18-a09d-d02c2bd87500\")) {                    Plotly.newPlot(                        \"ee9f380f-2e98-4f18-a09d-d02c2bd87500\",                        [{\"alignmentgroup\":\"True\",\"hovertemplate\":\"x=%{x}<br>y=%{y}<br>color=%{marker.color}<extra></extra>\",\"legendgroup\":\"\",\"marker\":{\"color\":[0.5475701574264202,1.4647482014388489,2.0276497695852536,0.0,0.3795066413662239,1.4532243415077202,0.0,1.1235955056179776,0.5681818181818182,1.023890784982935,0.6578947368421053,3.0651340996168583,0.46296296296296297,1.9138755980861244,0.0,0.5420054200542005,0.5035246727089627,0.3215434083601286,1.5151515151515151,2.0179372197309418,2.095808383233533,0.6928406466512702,2.3836809534723815,0.21770682148040638,2.5641025641025643,0.0,0.0,1.4064697609001406,0.5988023952095808,1.2280701754385965,3.1618435155412645,1.3953488372093024,0.0,0.7736943907156673,0.7299270072992701,0.6507592190889371,0.0,0.9375,0.0,1.740506329113924,1.0498687664041995,0.0,1.256544502617801,0.5201560468140443,1.0118043844856661,0.0,2.4297557230052447,1.3398294762484775,1.36986301369863,2.6824034334763946,0.0,0.4247460757156048,1.9047619047619047,1.9047619047619047,1.7186505410566517,1.5138023152270703,1.8779342723004695,0.8264462809917356,2.5641025641025643,0.9523809523809523,0.5524861878453039,0.6191950464396285,1.4598540145985401,0.5089058524173028,1.8475750577367205,0.5825242718446602,1.3227513227513228,0.16474464579901152,0.704225352112676,1.6172506738544474,1.917808219178082,0.11344299489506524,0.28735632183908044,0.2188782489740082,1.5151515151515151,0.27803521779425394,0.0999000999000999,2.2641509433962264,0.8849557522123894,0.0,0.38058991436726924,0.26501766784452296,2.6799789805570153,1.744186046511628,0.22172949002217296,2.9439165269237937,1.8050541516245486,0.25125628140703515,2.1164021164021163,2.6455026455026456,0.08583690987124463,1.6326530612244898,0.7763975155279503,2.481873954266592,0.0,1.3040901007705987,0.0,0.4792332268370607,0.06872852233676977,2.9962546816479403,2.2049816251531236,3.1717534410532617,1.5706806282722514],\"coloraxis\":\"coloraxis\",\"pattern\":{\"shape\":\"\"}},\"name\":\"\",\"offsetgroup\":\"\",\"orientation\":\"h\",\"showlegend\":false,\"textposition\":\"auto\",\"type\":\"bar\",\"x\":[0.5475701574264202,1.4647482014388489,2.0276497695852536,0.0,0.3795066413662239,1.4532243415077202,0.0,1.1235955056179776,0.5681818181818182,1.023890784982935,0.6578947368421053,3.0651340996168583,0.46296296296296297,1.9138755980861244,0.0,0.5420054200542005,0.5035246727089627,0.3215434083601286,1.5151515151515151,2.0179372197309418,2.095808383233533,0.6928406466512702,2.3836809534723815,0.21770682148040638,2.5641025641025643,0.0,0.0,1.4064697609001406,0.5988023952095808,1.2280701754385965,3.1618435155412645,1.3953488372093024,0.0,0.7736943907156673,0.7299270072992701,0.6507592190889371,0.0,0.9375,0.0,1.740506329113924,1.0498687664041995,0.0,1.256544502617801,0.5201560468140443,1.0118043844856661,0.0,2.4297557230052447,1.3398294762484775,1.36986301369863,2.6824034334763946,0.0,0.4247460757156048,1.9047619047619047,1.9047619047619047,1.7186505410566517,1.5138023152270703,1.8779342723004695,0.8264462809917356,2.5641025641025643,0.9523809523809523,0.5524861878453039,0.6191950464396285,1.4598540145985401,0.5089058524173028,1.8475750577367205,0.5825242718446602,1.3227513227513228,0.16474464579901152,0.704225352112676,1.6172506738544474,1.917808219178082,0.11344299489506524,0.28735632183908044,0.2188782489740082,1.5151515151515151,0.27803521779425394,0.0999000999000999,2.2641509433962264,0.8849557522123894,0.0,0.38058991436726924,0.26501766784452296,2.6799789805570153,1.744186046511628,0.22172949002217296,2.9439165269237937,1.8050541516245486,0.25125628140703515,2.1164021164021163,2.6455026455026456,0.08583690987124463,1.6326530612244898,0.7763975155279503,2.481873954266592,0.0,1.3040901007705987,0.0,0.4792332268370607,0.06872852233676977,2.9962546816479403,2.2049816251531236,3.1717534410532617,1.5706806282722514],\"xaxis\":\"x\",\"y\":[\"Anadia\",\"Arapiraca\",\"Atalaia\",\"Barra de Santo Ant\\u00f4nio\",\"Barra de S\\u00e3o Miguel\",\"Batalha\",\"Belo Monte\",\"Bel\\u00e9m\",\"Boca da Mata\",\"Branquinha\",\"Cacimbinhas\",\"Cajueiro\",\"Campestre\",\"Campo Alegre\",\"Campo Grande\",\"Canapi\",\"Capela\",\"Carneiros\",\"Ch\\u00e3 Preta\",\"Coit\\u00e9 do N\\u00f3ia\",\"Col\\u00f4nia Leopoldina\",\"Coqueiro Seco\",\"Coruripe\",\"Cra\\u00edbas\",\"Delmiro Gouveia\",\"Dois Riachos\",\"Estrela de Alagoas\",\"Feira Grande\",\"Feliz Deserto\",\"Flexeiras\",\"Girau do Ponciano\",\"Ibateguara\",\"Igaci\",\"Igreja Nova\",\"Inhapi\",\"Jacar\\u00e9 dos Homens\",\"Jacu\\u00edpe\",\"Japaratinga\",\"Jaramataia\",\"Jequi\\u00e1 da Praia\",\"Joaquim Gomes\",\"Jundi\\u00e1\",\"Junqueiro\",\"Lagoa da Canoa\",\"Limoeiro de Anadia\",\"Maceio\",\"Macei\\u00f3\",\"Major Isidoro\",\"Mar Vermelho\",\"Maragogi\",\"Maravilha\",\"Marechal Deodoro\",\"Maribondo\",\"Mata Grande\",\"Matriz de Camaragibe\",\"Messias\",\"Minador do Negr\\u00e3o\",\"Monteir\\u00f3polis\",\"Murici\",\"Novo Lino\",\"Olho d'\\u00c1gua Grande\",\"Olho d'\\u00c1gua das Flores\",\"Olho d'\\u00c1gua do Casado\",\"Oliven\\u00e7a\",\"Ouro Branco\",\"Palestina\",\"Palmeira dos \\u00cdndios\",\"Pariconha\",\"Paripueira\",\"Passo de Camaragibe\",\"Paulo Jacinto\",\"Penedo\",\"Pia\\u00e7abu\\u00e7u\",\"Pilar\",\"Pindoba\",\"Piranhas\",\"Porto Calvo\",\"Porto Real do Col\\u00e9gio\",\"Porto de Pedras\",\"Po\\u00e7o das Trincheiras\",\"P\\u00e3o de A\\u00e7\\u00facar\",\"Quebrangulo\",\"Rio Largo\",\"Roteiro\",\"Santa Luzia do Norte\",\"Santana do Ipanema\",\"Santana do Munda\\u00fa\",\"Satuba\",\"Senador Rui Palmeira\",\"S\\u00e3o Br\\u00e1s\",\"S\\u00e3o Jos\\u00e9 da Laje\",\"S\\u00e3o Jos\\u00e9 da Tapera\",\"S\\u00e3o Lu\\u00eds do Quitunde\",\"S\\u00e3o Miguel dos Campos\",\"S\\u00e3o Miguel dos Milagres\",\"S\\u00e3o Sebasti\\u00e3o\",\"Tanque d'Arca\",\"Taquarana\",\"Teot\\u00f4nio Vilela\",\"Traipu\",\"Uni\\u00e3o dos Palmares\",\"Vi\\u00e7osa\",\"\\u00c1gua Branca\"],\"yaxis\":\"y\"}],                        {\"barmode\":\"relative\",\"coloraxis\":{\"colorbar\":{\"title\":{\"text\":\"color\"}},\"colorscale\":[[0.0,\"#0d0887\"],[0.1111111111111111,\"#46039f\"],[0.2222222222222222,\"#7201a8\"],[0.3333333333333333,\"#9c179e\"],[0.4444444444444444,\"#bd3786\"],[0.5555555555555556,\"#d8576b\"],[0.6666666666666666,\"#ed7953\"],[0.7777777777777778,\"#fb9f3a\"],[0.8888888888888888,\"#fdca26\"],[1.0,\"#f0f921\"]]},\"height\":2000,\"legend\":{\"tracegroupgap\":0},\"template\":{\"data\":{\"bar\":[{\"error_x\":{\"color\":\"#2a3f5f\"},\"error_y\":{\"color\":\"#2a3f5f\"},\"marker\":{\"line\":{\"color\":\"#E5ECF6\",\"width\":0.5},\"pattern\":{\"fillmode\":\"overlay\",\"size\":10,\"solidity\":0.2}},\"type\":\"bar\"}],\"barpolar\":[{\"marker\":{\"line\":{\"color\":\"#E5ECF6\",\"width\":0.5},\"pattern\":{\"fillmode\":\"overlay\",\"size\":10,\"solidity\":0.2}},\"type\":\"barpolar\"}],\"carpet\":[{\"aaxis\":{\"endlinecolor\":\"#2a3f5f\",\"gridcolor\":\"white\",\"linecolor\":\"white\",\"minorgridcolor\":\"white\",\"startlinecolor\":\"#2a3f5f\"},\"baxis\":{\"endlinecolor\":\"#2a3f5f\",\"gridcolor\":\"white\",\"linecolor\":\"white\",\"minorgridcolor\":\"white\",\"startlinecolor\":\"#2a3f5f\"},\"type\":\"carpet\"}],\"choropleth\":[{\"colorbar\":{\"outlinewidth\":0,\"ticks\":\"\"},\"type\":\"choropleth\"}],\"contour\":[{\"colorbar\":{\"outlinewidth\":0,\"ticks\":\"\"},\"colorscale\":[[0.0,\"#0d0887\"],[0.1111111111111111,\"#46039f\"],[0.2222222222222222,\"#7201a8\"],[0.3333333333333333,\"#9c179e\"],[0.4444444444444444,\"#bd3786\"],[0.5555555555555556,\"#d8576b\"],[0.6666666666666666,\"#ed7953\"],[0.7777777777777778,\"#fb9f3a\"],[0.8888888888888888,\"#fdca26\"],[1.0,\"#f0f921\"]],\"type\":\"contour\"}],\"contourcarpet\":[{\"colorbar\":{\"outlinewidth\":0,\"ticks\":\"\"},\"type\":\"contourcarpet\"}],\"heatmap\":[{\"colorbar\":{\"outlinewidth\":0,\"ticks\":\"\"},\"colorscale\":[[0.0,\"#0d0887\"],[0.1111111111111111,\"#46039f\"],[0.2222222222222222,\"#7201a8\"],[0.3333333333333333,\"#9c179e\"],[0.4444444444444444,\"#bd3786\"],[0.5555555555555556,\"#d8576b\"],[0.6666666666666666,\"#ed7953\"],[0.7777777777777778,\"#fb9f3a\"],[0.8888888888888888,\"#fdca26\"],[1.0,\"#f0f921\"]],\"type\":\"heatmap\"}],\"heatmapgl\":[{\"colorbar\":{\"outlinewidth\":0,\"ticks\":\"\"},\"colorscale\":[[0.0,\"#0d0887\"],[0.1111111111111111,\"#46039f\"],[0.2222222222222222,\"#7201a8\"],[0.3333333333333333,\"#9c179e\"],[0.4444444444444444,\"#bd3786\"],[0.5555555555555556,\"#d8576b\"],[0.6666666666666666,\"#ed7953\"],[0.7777777777777778,\"#fb9f3a\"],[0.8888888888888888,\"#fdca26\"],[1.0,\"#f0f921\"]],\"type\":\"heatmapgl\"}],\"histogram\":[{\"marker\":{\"pattern\":{\"fillmode\":\"overlay\",\"size\":10,\"solidity\":0.2}},\"type\":\"histogram\"}],\"histogram2d\":[{\"colorbar\":{\"outlinewidth\":0,\"ticks\":\"\"},\"colorscale\":[[0.0,\"#0d0887\"],[0.1111111111111111,\"#46039f\"],[0.2222222222222222,\"#7201a8\"],[0.3333333333333333,\"#9c179e\"],[0.4444444444444444,\"#bd3786\"],[0.5555555555555556,\"#d8576b\"],[0.6666666666666666,\"#ed7953\"],[0.7777777777777778,\"#fb9f3a\"],[0.8888888888888888,\"#fdca26\"],[1.0,\"#f0f921\"]],\"type\":\"histogram2d\"}],\"histogram2dcontour\":[{\"colorbar\":{\"outlinewidth\":0,\"ticks\":\"\"},\"colorscale\":[[0.0,\"#0d0887\"],[0.1111111111111111,\"#46039f\"],[0.2222222222222222,\"#7201a8\"],[0.3333333333333333,\"#9c179e\"],[0.4444444444444444,\"#bd3786\"],[0.5555555555555556,\"#d8576b\"],[0.6666666666666666,\"#ed7953\"],[0.7777777777777778,\"#fb9f3a\"],[0.8888888888888888,\"#fdca26\"],[1.0,\"#f0f921\"]],\"type\":\"histogram2dcontour\"}],\"mesh3d\":[{\"colorbar\":{\"outlinewidth\":0,\"ticks\":\"\"},\"type\":\"mesh3d\"}],\"parcoords\":[{\"line\":{\"colorbar\":{\"outlinewidth\":0,\"ticks\":\"\"}},\"type\":\"parcoords\"}],\"pie\":[{\"automargin\":true,\"type\":\"pie\"}],\"scatter\":[{\"marker\":{\"colorbar\":{\"outlinewidth\":0,\"ticks\":\"\"}},\"type\":\"scatter\"}],\"scatter3d\":[{\"line\":{\"colorbar\":{\"outlinewidth\":0,\"ticks\":\"\"}},\"marker\":{\"colorbar\":{\"outlinewidth\":0,\"ticks\":\"\"}},\"type\":\"scatter3d\"}],\"scattercarpet\":[{\"marker\":{\"colorbar\":{\"outlinewidth\":0,\"ticks\":\"\"}},\"type\":\"scattercarpet\"}],\"scattergeo\":[{\"marker\":{\"colorbar\":{\"outlinewidth\":0,\"ticks\":\"\"}},\"type\":\"scattergeo\"}],\"scattergl\":[{\"marker\":{\"colorbar\":{\"outlinewidth\":0,\"ticks\":\"\"}},\"type\":\"scattergl\"}],\"scattermapbox\":[{\"marker\":{\"colorbar\":{\"outlinewidth\":0,\"ticks\":\"\"}},\"type\":\"scattermapbox\"}],\"scatterpolar\":[{\"marker\":{\"colorbar\":{\"outlinewidth\":0,\"ticks\":\"\"}},\"type\":\"scatterpolar\"}],\"scatterpolargl\":[{\"marker\":{\"colorbar\":{\"outlinewidth\":0,\"ticks\":\"\"}},\"type\":\"scatterpolargl\"}],\"scatterternary\":[{\"marker\":{\"colorbar\":{\"outlinewidth\":0,\"ticks\":\"\"}},\"type\":\"scatterternary\"}],\"surface\":[{\"colorbar\":{\"outlinewidth\":0,\"ticks\":\"\"},\"colorscale\":[[0.0,\"#0d0887\"],[0.1111111111111111,\"#46039f\"],[0.2222222222222222,\"#7201a8\"],[0.3333333333333333,\"#9c179e\"],[0.4444444444444444,\"#bd3786\"],[0.5555555555555556,\"#d8576b\"],[0.6666666666666666,\"#ed7953\"],[0.7777777777777778,\"#fb9f3a\"],[0.8888888888888888,\"#fdca26\"],[1.0,\"#f0f921\"]],\"type\":\"surface\"}],\"table\":[{\"cells\":{\"fill\":{\"color\":\"#EBF0F8\"},\"line\":{\"color\":\"white\"}},\"header\":{\"fill\":{\"color\":\"#C8D4E3\"},\"line\":{\"color\":\"white\"}},\"type\":\"table\"}]},\"layout\":{\"annotationdefaults\":{\"arrowcolor\":\"#2a3f5f\",\"arrowhead\":0,\"arrowwidth\":1},\"autotypenumbers\":\"strict\",\"coloraxis\":{\"colorbar\":{\"outlinewidth\":0,\"ticks\":\"\"}},\"colorscale\":{\"diverging\":[[0,\"#8e0152\"],[0.1,\"#c51b7d\"],[0.2,\"#de77ae\"],[0.3,\"#f1b6da\"],[0.4,\"#fde0ef\"],[0.5,\"#f7f7f7\"],[0.6,\"#e6f5d0\"],[0.7,\"#b8e186\"],[0.8,\"#7fbc41\"],[0.9,\"#4d9221\"],[1,\"#276419\"]],\"sequential\":[[0.0,\"#0d0887\"],[0.1111111111111111,\"#46039f\"],[0.2222222222222222,\"#7201a8\"],[0.3333333333333333,\"#9c179e\"],[0.4444444444444444,\"#bd3786\"],[0.5555555555555556,\"#d8576b\"],[0.6666666666666666,\"#ed7953\"],[0.7777777777777778,\"#fb9f3a\"],[0.8888888888888888,\"#fdca26\"],[1.0,\"#f0f921\"]],\"sequentialminus\":[[0.0,\"#0d0887\"],[0.1111111111111111,\"#46039f\"],[0.2222222222222222,\"#7201a8\"],[0.3333333333333333,\"#9c179e\"],[0.4444444444444444,\"#bd3786\"],[0.5555555555555556,\"#d8576b\"],[0.6666666666666666,\"#ed7953\"],[0.7777777777777778,\"#fb9f3a\"],[0.8888888888888888,\"#fdca26\"],[1.0,\"#f0f921\"]]},\"colorway\":[\"#636efa\",\"#EF553B\",\"#00cc96\",\"#ab63fa\",\"#FFA15A\",\"#19d3f3\",\"#FF6692\",\"#B6E880\",\"#FF97FF\",\"#FECB52\"],\"font\":{\"color\":\"#2a3f5f\"},\"geo\":{\"bgcolor\":\"white\",\"lakecolor\":\"white\",\"landcolor\":\"#E5ECF6\",\"showlakes\":true,\"showland\":true,\"subunitcolor\":\"white\"},\"hoverlabel\":{\"align\":\"left\"},\"hovermode\":\"closest\",\"mapbox\":{\"style\":\"light\"},\"paper_bgcolor\":\"white\",\"plot_bgcolor\":\"#E5ECF6\",\"polar\":{\"angularaxis\":{\"gridcolor\":\"white\",\"linecolor\":\"white\",\"ticks\":\"\"},\"bgcolor\":\"#E5ECF6\",\"radialaxis\":{\"gridcolor\":\"white\",\"linecolor\":\"white\",\"ticks\":\"\"}},\"scene\":{\"xaxis\":{\"backgroundcolor\":\"#E5ECF6\",\"gridcolor\":\"white\",\"gridwidth\":2,\"linecolor\":\"white\",\"showbackground\":true,\"ticks\":\"\",\"zerolinecolor\":\"white\"},\"yaxis\":{\"backgroundcolor\":\"#E5ECF6\",\"gridcolor\":\"white\",\"gridwidth\":2,\"linecolor\":\"white\",\"showbackground\":true,\"ticks\":\"\",\"zerolinecolor\":\"white\"},\"zaxis\":{\"backgroundcolor\":\"#E5ECF6\",\"gridcolor\":\"white\",\"gridwidth\":2,\"linecolor\":\"white\",\"showbackground\":true,\"ticks\":\"\",\"zerolinecolor\":\"white\"}},\"shapedefaults\":{\"line\":{\"color\":\"#2a3f5f\"}},\"ternary\":{\"aaxis\":{\"gridcolor\":\"white\",\"linecolor\":\"white\",\"ticks\":\"\"},\"baxis\":{\"gridcolor\":\"white\",\"linecolor\":\"white\",\"ticks\":\"\"},\"bgcolor\":\"#E5ECF6\",\"caxis\":{\"gridcolor\":\"white\",\"linecolor\":\"white\",\"ticks\":\"\"}},\"title\":{\"x\":0.05},\"xaxis\":{\"automargin\":true,\"gridcolor\":\"white\",\"linecolor\":\"white\",\"ticks\":\"\",\"title\":{\"standoff\":15},\"zerolinecolor\":\"white\",\"zerolinewidth\":2},\"yaxis\":{\"automargin\":true,\"gridcolor\":\"white\",\"linecolor\":\"white\",\"ticks\":\"\",\"title\":{\"standoff\":15},\"zerolinecolor\":\"white\",\"zerolinewidth\":2}}},\"title\":{\"text\":\"Taxa de Mortalidade\"},\"width\":1000,\"xaxis\":{\"anchor\":\"y\",\"domain\":[0.0,1.0],\"title\":{\"text\":\"Taxa de Mortalidade %\"}},\"yaxis\":{\"anchor\":\"x\",\"domain\":[0.0,1.0],\"title\":{\"text\":\"Munic\\u00edpios\"}}},                        {\"responsive\": true}                    ).then(function(){\n",
       "                            \n",
       "var gd = document.getElementById('ee9f380f-2e98-4f18-a09d-d02c2bd87500');\n",
       "var x = new MutationObserver(function (mutations, observer) {{\n",
       "        var display = window.getComputedStyle(gd).display;\n",
       "        if (!display || display === 'none') {{\n",
       "            console.log([gd, 'removed!']);\n",
       "            Plotly.purge(gd);\n",
       "            observer.disconnect();\n",
       "        }}\n",
       "}});\n",
       "\n",
       "// Listen for the removal of the full notebook cells\n",
       "var notebookContainer = gd.closest('#notebook-container');\n",
       "if (notebookContainer) {{\n",
       "    x.observe(notebookContainer, {childList: true});\n",
       "}}\n",
       "\n",
       "// Listen for the clearing of the current output cell\n",
       "var outputEl = gd.closest('.output');\n",
       "if (outputEl) {{\n",
       "    x.observe(outputEl, {childList: true});\n",
       "}}\n",
       "\n",
       "                        })                };                });            </script>        </div>"
      ]
     },
     "metadata": {},
     "output_type": "display_data"
    }
   ],
   "source": [
    "#Maiores taxa da mortalidade\n",
    "#Imagem no feed do github caso não carregue no git\n",
    "fig = px.bar(df, x=(df[(df['evolucaoCaso']=='Óbito')].groupby('municipioNotificacao').count()*100/df[df['resultadoTeste']=='Positivo'].groupby('municipioNotificacao').count()).dropna()['id'], \n",
    "             y=(df[(df['evolucaoCaso']=='Óbito')].groupby('municipioNotificacao').count()*100/df[df['resultadoTeste']=='Positivo'].groupby('municipioNotificacao').count()).dropna()['id'].index, \n",
    "             color=(df[(df['evolucaoCaso']=='Óbito')].groupby('municipioNotificacao').count()*100/df[df['resultadoTeste']=='Positivo'].groupby('municipioNotificacao').count()).dropna()['id'],\n",
    "                 title=\"Taxa de Mortalidade\",width=1000, height=2000) \n",
    "\n",
    "fig.update_layout(\n",
    "    xaxis_title=\"Taxa de Mortalidade %\",\n",
    "    yaxis_title=\"Municípios\"\n",
    "\n",
    "    )\n",
    "fig.show()\n"
   ]
  },
  {
   "cell_type": "markdown",
   "id": "b97dacb7",
   "metadata": {},
   "source": [
    "**Taxa de testes realizado e casos positivos.**"
   ]
  },
  {
   "cell_type": "code",
   "execution_count": 432,
   "id": "cd17d1e9",
   "metadata": {},
   "outputs": [
    {
     "data": {
      "text/plain": [
       "<AxesSubplot:xlabel='resultadoTeste', ylabel='count'>"
      ]
     },
     "execution_count": 432,
     "metadata": {},
     "output_type": "execute_result"
    },
    {
     "data": {
      "image/png": "[encoded data removed]",
      "text/plain": [
       "<Figure size 432x288 with 1 Axes>"
      ]
     },
     "metadata": {
      "needs_background": "light"
     },
     "output_type": "display_data"
    }
   ],
   "source": [
    "sns.countplot(x = df['resultadoTeste'])"
   ]
  },
  {
   "cell_type": "markdown",
   "id": "88d88559",
   "metadata": {},
   "source": [
    "Para cada teste feito com resultado positivo, temos que a por volta de 40% de chance de ser positivo. \n",
    "\n",
    "Para cada 2.5 testes para covid feito 1 vai ser positivo.\n",
    "\n",
    "Basicamente só é testado quem está com Covid."
   ]
  },
  {
   "cell_type": "code",
   "execution_count": 433,
   "id": "6777d219",
   "metadata": {},
   "outputs": [
    {
     "data": {
      "text/plain": [
       "38.79"
      ]
     },
     "execution_count": 433,
     "metadata": {},
     "output_type": "execute_result"
    }
   ],
   "source": [
    "round((df[df['resultadoTeste']=='Positivo'].shape[0]/df.shape[0])*100,2)"
   ]
  },
  {
   "cell_type": "markdown",
   "id": "1c85b788",
   "metadata": {},
   "source": [
    "**Principais Sintomas**"
   ]
  },
  {
   "cell_type": "markdown",
   "id": "17b3a710",
   "metadata": {},
   "source": [
    "Porcetagem da ocorrência dos Sintomas em casos Positivos."
   ]
  },
  {
   "cell_type": "code",
   "execution_count": 434,
   "id": "7e83ecae",
   "metadata": {},
   "outputs": [
    {
     "data": {
      "image/png": "[encoded data removed]",
      "text/plain": [
       "<Figure size 1080x576 with 1 Axes>"
      ]
     },
     "metadata": {
      "needs_background": "light"
     },
     "output_type": "display_data"
    }
   ],
   "source": [
    "#Separando os sintomas mais presentes em casos positivos\n",
    "dic={}\n",
    "for i in df[df['resultadoTeste']=='Positivo']['sintomas'].str.split(','):\n",
    "    for j in i:\n",
    "        if j.strip() in dic.keys():\n",
    "            dic[j.strip()]=dic[j.strip()]+1\n",
    "        else:\n",
    "            dic[j.strip()] = 1\n",
    "        \n",
    "dfAux = pd.DataFrame.from_dict(dic, orient='index',columns=[\"Recorrência\"])\n",
    "dfAux = dfAux.sort_values(by=[\"Recorrência\"], ascending=False)\n",
    "plt.figure(figsize=(15,8))\n",
    "ax = sns.barplot(x=dfAux[\"Recorrência\"]*100/dfAux[\"Recorrência\"].sum(), y=dfAux.index);\n",
    "ax.set(xlabel=\"Recorrência %\")\n",
    "plt.show()"
   ]
  },
  {
   "cell_type": "markdown",
   "id": "b6c8e3d8",
   "metadata": {},
   "source": [
    "**Principais sintomas em caso de Óbito**"
   ]
  },
  {
   "cell_type": "code",
   "execution_count": 435,
   "id": "b70f2d31",
   "metadata": {},
   "outputs": [
    {
     "data": {
      "image/png": "[encoded data removed]",
      "text/plain": [
       "<Figure size 1080x576 with 1 Axes>"
      ]
     },
     "metadata": {
      "needs_background": "light"
     },
     "output_type": "display_data"
    }
   ],
   "source": [
    "\n",
    "#Separando os sintomas mais presentes em casos positivos\n",
    "dic={}\n",
    "for i in df[df['evolucaoCaso']=='Óbito']['sintomas'].str.split(','):\n",
    "    for j in i:\n",
    "        if j.strip() in dic.keys():\n",
    "            dic[j.strip()]=dic[j.strip()]+1\n",
    "        else:\n",
    "            dic[j.strip()] = 1\n",
    "        \n",
    "dfAux = pd.DataFrame.from_dict(dic, orient='index',columns=[\"Recorrência\"])\n",
    "dfAux = dfAux.sort_values(by=[\"Recorrência\"], ascending=False)\n",
    "plt.figure(figsize=(15,8))\n",
    "ax = sns.barplot(x=dfAux[\"Recorrência\"]*100/dfAux[\"Recorrência\"].sum(), y=dfAux.index);\n",
    "ax.set(xlabel=\"Recorrência %\")\n",
    "plt.show()"
   ]
  },
  {
   "cell_type": "markdown",
   "id": "740ea927",
   "metadata": {},
   "source": [
    "Mortalidade por sexo"
   ]
  },
  {
   "cell_type": "code",
   "execution_count": 456,
   "id": "5c0f73df",
   "metadata": {},
   "outputs": [
    {
     "data": {
      "image/png": "[encoded data removed]",
      "text/plain": [
       "<Figure size 432x288 with 1 Axes>"
      ]
     },
     "metadata": {
      "needs_background": "light"
     },
     "output_type": "display_data"
    }
   ],
   "source": [
    "df[df['evolucaoCaso']=='Óbito'].groupby('sexo').count()['id'].plot.bar();"
   ]
  }
 ],
 "metadata": {
  "kernelspec": {
   "display_name": "Python 3 (ipykernel)",
   "language": "python",
   "name": "python3"
  },
  "language_info": {
   "codemirror_mode": {
    "name": "ipython",
    "version": 3
   },
   "file_extension": ".py",
   "mimetype": "text/x-python",
   "name": "python",
   "nbconvert_exporter": "python",
   "pygments_lexer": "ipython3",
   "version": "3.9.12"
  }
 },
 "nbformat": 4,
 "nbformat_minor": 5
}
