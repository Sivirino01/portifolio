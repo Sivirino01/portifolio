{
 "cells": [
  {
   "cell_type": "markdown",
   "id": "8c5a1f2e",
   "metadata": {},
   "source": [
    "TODO:<br>\n",
    "- Refatorar código<br>\n",
    "- Usar um Rede FCN"
   ]
  },
  {
   "cell_type": "markdown",
   "id": "7853564e",
   "metadata": {},
   "source": [
    "#### Baseando em:\n",
    "\n",
    "- https://www.kaggle.com/code/vbookshelf/simple-cell-segmentation-with-keras-and-u-net/notebook"
   ]
  },
  {
   "cell_type": "code",
   "execution_count": 1,
   "id": "3d91795e",
   "metadata": {},
   "outputs": [],
   "source": [
    "import pandas as pd\n",
    "import cv2"
   ]
  },
  {
   "cell_type": "code",
   "execution_count": 2,
   "id": "5821c37c",
   "metadata": {},
   "outputs": [],
   "source": [
    "import os\n",
    "\n",
    "pasta = \"dataset_todo/\"\n",
    "\n",
    "def files_path04(path):\n",
    "    infos =[]\n",
    "    for p, _, files in os.walk(os.path.abspath(path)):\n",
    "        for file in files:\n",
    "            infos.append(os.path.join(p, file))\n",
    "    return infos\n",
    "\n",
    "dados = files_path04(pasta)\n",
    "tipo = [i.split(\"\\\\\")[-3] for i in dados]\n",
    "subgroup = [i.split(\"\\\\\")[-2] for i in dados]\n",
    "filename = [i.split(\"\\\\\")[-1] for i in dados]\n",
    "classe = [0 if x == \"benigno\" else 1 for x in tipo  ]\n",
    "df = pd.DataFrame()\n",
    "df['filename'] = filename\n",
    "df['subgroup'] = subgroup\n",
    "df['tipo'] = tipo\n",
    "df['classe'] = classe"
   ]
  },
  {
   "cell_type": "code",
   "execution_count": 3,
   "id": "95bbf4d7",
   "metadata": {},
   "outputs": [
    {
     "data": {
      "text/html": [
       "<div>\n",
       "<style scoped>\n",
       "    .dataframe tbody tr th:only-of-type {\n",
       "        vertical-align: middle;\n",
       "    }\n",
       "\n",
       "    .dataframe tbody tr th {\n",
       "        vertical-align: top;\n",
       "    }\n",
       "\n",
       "    .dataframe thead th {\n",
       "        text-align: right;\n",
       "    }\n",
       "</style>\n",
       "<table border=\"1\" class=\"dataframe\">\n",
       "  <thead>\n",
       "    <tr style=\"text-align: right;\">\n",
       "      <th></th>\n",
       "      <th>filename</th>\n",
       "      <th>subgroup</th>\n",
       "      <th>tipo</th>\n",
       "      <th>classe</th>\n",
       "    </tr>\n",
       "  </thead>\n",
       "  <tbody>\n",
       "    <tr>\n",
       "      <th>0</th>\n",
       "      <td>benigno10.png</td>\n",
       "      <td>53453eb2e4b05911cd6db1378</td>\n",
       "      <td>benigno</td>\n",
       "      <td>0</td>\n",
       "    </tr>\n",
       "    <tr>\n",
       "      <th>1</th>\n",
       "      <td>benigno11.png</td>\n",
       "      <td>53453eb2e4b05911cd6db1378</td>\n",
       "      <td>benigno</td>\n",
       "      <td>0</td>\n",
       "    </tr>\n",
       "    <tr>\n",
       "      <th>2</th>\n",
       "      <td>benigno12.png</td>\n",
       "      <td>53453eb2e4b05911cd6db1378</td>\n",
       "      <td>benigno</td>\n",
       "      <td>0</td>\n",
       "    </tr>\n",
       "    <tr>\n",
       "      <th>3</th>\n",
       "      <td>benigno13.png</td>\n",
       "      <td>53453eb2e4b05911cd6db1378</td>\n",
       "      <td>benigno</td>\n",
       "      <td>0</td>\n",
       "    </tr>\n",
       "    <tr>\n",
       "      <th>4</th>\n",
       "      <td>benigno210.png</td>\n",
       "      <td>53453eb2e4b05911cd6db1379</td>\n",
       "      <td>benigno</td>\n",
       "      <td>0</td>\n",
       "    </tr>\n",
       "    <tr>\n",
       "      <th>...</th>\n",
       "      <td>...</td>\n",
       "      <td>...</td>\n",
       "      <td>...</td>\n",
       "      <td>...</td>\n",
       "    </tr>\n",
       "    <tr>\n",
       "      <th>5620</th>\n",
       "      <td>maligno3077.png</td>\n",
       "      <td>53454d61e4b05911cd6db51aNodule 005</td>\n",
       "      <td>maligno</td>\n",
       "      <td>1</td>\n",
       "    </tr>\n",
       "    <tr>\n",
       "      <th>5621</th>\n",
       "      <td>maligno3078.png</td>\n",
       "      <td>53454d61e4b05911cd6db51aNodule 005</td>\n",
       "      <td>maligno</td>\n",
       "      <td>1</td>\n",
       "    </tr>\n",
       "    <tr>\n",
       "      <th>5622</th>\n",
       "      <td>maligno3079.png</td>\n",
       "      <td>53454d61e4b05911cd6db51aNodule 005</td>\n",
       "      <td>maligno</td>\n",
       "      <td>1</td>\n",
       "    </tr>\n",
       "    <tr>\n",
       "      <th>5623</th>\n",
       "      <td>maligno3080.png</td>\n",
       "      <td>53454d72e4b05911cd6db51dNodule 002</td>\n",
       "      <td>maligno</td>\n",
       "      <td>1</td>\n",
       "    </tr>\n",
       "    <tr>\n",
       "      <th>5624</th>\n",
       "      <td>maligno3081.png</td>\n",
       "      <td>53454d72e4b05911cd6db51dNodule 002</td>\n",
       "      <td>maligno</td>\n",
       "      <td>1</td>\n",
       "    </tr>\n",
       "  </tbody>\n",
       "</table>\n",
       "<p>5625 rows × 4 columns</p>\n",
       "</div>"
      ],
      "text/plain": [
       "             filename                            subgroup     tipo  classe\n",
       "0       benigno10.png           53453eb2e4b05911cd6db1378  benigno       0\n",
       "1       benigno11.png           53453eb2e4b05911cd6db1378  benigno       0\n",
       "2       benigno12.png           53453eb2e4b05911cd6db1378  benigno       0\n",
       "3       benigno13.png           53453eb2e4b05911cd6db1378  benigno       0\n",
       "4      benigno210.png           53453eb2e4b05911cd6db1379  benigno       0\n",
       "...               ...                                 ...      ...     ...\n",
       "5620  maligno3077.png  53454d61e4b05911cd6db51aNodule 005  maligno       1\n",
       "5621  maligno3078.png  53454d61e4b05911cd6db51aNodule 005  maligno       1\n",
       "5622  maligno3079.png  53454d61e4b05911cd6db51aNodule 005  maligno       1\n",
       "5623  maligno3080.png  53454d72e4b05911cd6db51dNodule 002  maligno       1\n",
       "5624  maligno3081.png  53454d72e4b05911cd6db51dNodule 002  maligno       1\n",
       "\n",
       "[5625 rows x 4 columns]"
      ]
     },
     "execution_count": 3,
     "metadata": {},
     "output_type": "execute_result"
    }
   ],
   "source": [
    "df"
   ]
  },
  {
   "cell_type": "code",
   "execution_count": 4,
   "id": "c650b978",
   "metadata": {},
   "outputs": [],
   "source": [
    "pasta = \"dataset_seg/\"\n",
    "\n",
    "def files_path04(path):\n",
    "    infos =[]\n",
    "    for p, _, files in os.walk(os.path.abspath(path)):\n",
    "        for file in files:\n",
    "            infos.append(os.path.join(p, file))\n",
    "    return infos\n",
    "\n",
    "dados = files_path04(pasta)\n",
    "tipo = [i.split(\"\\\\\")[-3] for i in dados]\n",
    "subgroup = [i.split(\"\\\\\")[-2] for i in dados]\n",
    "filename = [i.split(\"\\\\\")[-1] for i in dados]\n",
    "classe = [0 if x == \"benigno\" else 1 for x in tipo  ]\n",
    "df_seg = pd.DataFrame()\n",
    "df_seg['filename'] = filename\n",
    "df_seg['subgroup'] = subgroup\n",
    "df_seg['tipo'] = tipo\n",
    "df_seg['classe'] = classe"
   ]
  },
  {
   "cell_type": "code",
   "execution_count": 5,
   "id": "30ca3d91",
   "metadata": {},
   "outputs": [
    {
     "data": {
      "text/html": [
       "<div>\n",
       "<style scoped>\n",
       "    .dataframe tbody tr th:only-of-type {\n",
       "        vertical-align: middle;\n",
       "    }\n",
       "\n",
       "    .dataframe tbody tr th {\n",
       "        vertical-align: top;\n",
       "    }\n",
       "\n",
       "    .dataframe thead th {\n",
       "        text-align: right;\n",
       "    }\n",
       "</style>\n",
       "<table border=\"1\" class=\"dataframe\">\n",
       "  <thead>\n",
       "    <tr style=\"text-align: right;\">\n",
       "      <th></th>\n",
       "      <th>filename</th>\n",
       "      <th>subgroup</th>\n",
       "      <th>tipo</th>\n",
       "      <th>classe</th>\n",
       "    </tr>\n",
       "  </thead>\n",
       "  <tbody>\n",
       "    <tr>\n",
       "      <th>0</th>\n",
       "      <td>benigno10.png</td>\n",
       "      <td>1</td>\n",
       "      <td>benigno</td>\n",
       "      <td>0</td>\n",
       "    </tr>\n",
       "    <tr>\n",
       "      <th>1</th>\n",
       "      <td>benigno11.png</td>\n",
       "      <td>1</td>\n",
       "      <td>benigno</td>\n",
       "      <td>0</td>\n",
       "    </tr>\n",
       "    <tr>\n",
       "      <th>2</th>\n",
       "      <td>benigno12.png</td>\n",
       "      <td>1</td>\n",
       "      <td>benigno</td>\n",
       "      <td>0</td>\n",
       "    </tr>\n",
       "    <tr>\n",
       "      <th>3</th>\n",
       "      <td>benigno13.png</td>\n",
       "      <td>1</td>\n",
       "      <td>benigno</td>\n",
       "      <td>0</td>\n",
       "    </tr>\n",
       "    <tr>\n",
       "      <th>4</th>\n",
       "      <td>benigno1040.png</td>\n",
       "      <td>10</td>\n",
       "      <td>benigno</td>\n",
       "      <td>0</td>\n",
       "    </tr>\n",
       "    <tr>\n",
       "      <th>...</th>\n",
       "      <td>...</td>\n",
       "      <td>...</td>\n",
       "      <td>...</td>\n",
       "      <td>...</td>\n",
       "    </tr>\n",
       "    <tr>\n",
       "      <th>5620</th>\n",
       "      <td>maligno993.png</td>\n",
       "      <td>99</td>\n",
       "      <td>maligno</td>\n",
       "      <td>1</td>\n",
       "    </tr>\n",
       "    <tr>\n",
       "      <th>5621</th>\n",
       "      <td>maligno994.png</td>\n",
       "      <td>99</td>\n",
       "      <td>maligno</td>\n",
       "      <td>1</td>\n",
       "    </tr>\n",
       "    <tr>\n",
       "      <th>5622</th>\n",
       "      <td>maligno995.png</td>\n",
       "      <td>99</td>\n",
       "      <td>maligno</td>\n",
       "      <td>1</td>\n",
       "    </tr>\n",
       "    <tr>\n",
       "      <th>5623</th>\n",
       "      <td>maligno996.png</td>\n",
       "      <td>99</td>\n",
       "      <td>maligno</td>\n",
       "      <td>1</td>\n",
       "    </tr>\n",
       "    <tr>\n",
       "      <th>5624</th>\n",
       "      <td>maligno997.png</td>\n",
       "      <td>99</td>\n",
       "      <td>maligno</td>\n",
       "      <td>1</td>\n",
       "    </tr>\n",
       "  </tbody>\n",
       "</table>\n",
       "<p>5625 rows × 4 columns</p>\n",
       "</div>"
      ],
      "text/plain": [
       "             filename subgroup     tipo  classe\n",
       "0       benigno10.png        1  benigno       0\n",
       "1       benigno11.png        1  benigno       0\n",
       "2       benigno12.png        1  benigno       0\n",
       "3       benigno13.png        1  benigno       0\n",
       "4     benigno1040.png       10  benigno       0\n",
       "...               ...      ...      ...     ...\n",
       "5620   maligno993.png       99  maligno       1\n",
       "5621   maligno994.png       99  maligno       1\n",
       "5622   maligno995.png       99  maligno       1\n",
       "5623   maligno996.png       99  maligno       1\n",
       "5624   maligno997.png       99  maligno       1\n",
       "\n",
       "[5625 rows x 4 columns]"
      ]
     },
     "execution_count": 5,
     "metadata": {},
     "output_type": "execute_result"
    }
   ],
   "source": [
    "df_seg"
   ]
  },
  {
   "cell_type": "code",
   "execution_count": 6,
   "id": "c84eb2eb",
   "metadata": {},
   "outputs": [],
   "source": [
    "subgroup_todo = []\n",
    "for i in df_seg['filename']:\n",
    "    subgroup_todo.append(df[df['filename']==i]['subgroup'].values[0])\n",
    "    "
   ]
  },
  {
   "cell_type": "code",
   "execution_count": 7,
   "id": "4d9fab96",
   "metadata": {},
   "outputs": [],
   "source": [
    "df_seg['subgroup_todo'] = subgroup_todo"
   ]
  },
  {
   "cell_type": "code",
   "execution_count": 8,
   "id": "0e0f035e",
   "metadata": {},
   "outputs": [],
   "source": [
    "import matplotlib.pyplot as plt"
   ]
  },
  {
   "cell_type": "code",
   "execution_count": 9,
   "id": "a28e5bd3",
   "metadata": {},
   "outputs": [],
   "source": [
    "import cv2"
   ]
  },
  {
   "cell_type": "code",
   "execution_count": 10,
   "id": "038e2ab6",
   "metadata": {},
   "outputs": [
    {
     "data": {
      "text/html": [
       "<div>\n",
       "<style scoped>\n",
       "    .dataframe tbody tr th:only-of-type {\n",
       "        vertical-align: middle;\n",
       "    }\n",
       "\n",
       "    .dataframe tbody tr th {\n",
       "        vertical-align: top;\n",
       "    }\n",
       "\n",
       "    .dataframe thead th {\n",
       "        text-align: right;\n",
       "    }\n",
       "</style>\n",
       "<table border=\"1\" class=\"dataframe\">\n",
       "  <thead>\n",
       "    <tr style=\"text-align: right;\">\n",
       "      <th></th>\n",
       "      <th>filename</th>\n",
       "      <th>subgroup</th>\n",
       "      <th>tipo</th>\n",
       "      <th>classe</th>\n",
       "      <th>subgroup_todo</th>\n",
       "    </tr>\n",
       "  </thead>\n",
       "  <tbody>\n",
       "    <tr>\n",
       "      <th>0</th>\n",
       "      <td>benigno10.png</td>\n",
       "      <td>1</td>\n",
       "      <td>benigno</td>\n",
       "      <td>0</td>\n",
       "      <td>53453eb2e4b05911cd6db1378</td>\n",
       "    </tr>\n",
       "    <tr>\n",
       "      <th>1</th>\n",
       "      <td>benigno11.png</td>\n",
       "      <td>1</td>\n",
       "      <td>benigno</td>\n",
       "      <td>0</td>\n",
       "      <td>53453eb2e4b05911cd6db1378</td>\n",
       "    </tr>\n",
       "    <tr>\n",
       "      <th>2</th>\n",
       "      <td>benigno12.png</td>\n",
       "      <td>1</td>\n",
       "      <td>benigno</td>\n",
       "      <td>0</td>\n",
       "      <td>53453eb2e4b05911cd6db1378</td>\n",
       "    </tr>\n",
       "    <tr>\n",
       "      <th>3</th>\n",
       "      <td>benigno13.png</td>\n",
       "      <td>1</td>\n",
       "      <td>benigno</td>\n",
       "      <td>0</td>\n",
       "      <td>53453eb2e4b05911cd6db1378</td>\n",
       "    </tr>\n",
       "    <tr>\n",
       "      <th>4</th>\n",
       "      <td>benigno1040.png</td>\n",
       "      <td>10</td>\n",
       "      <td>benigno</td>\n",
       "      <td>0</td>\n",
       "      <td>53453ec7e4b05911cd6db13f2</td>\n",
       "    </tr>\n",
       "    <tr>\n",
       "      <th>...</th>\n",
       "      <td>...</td>\n",
       "      <td>...</td>\n",
       "      <td>...</td>\n",
       "      <td>...</td>\n",
       "      <td>...</td>\n",
       "    </tr>\n",
       "    <tr>\n",
       "      <th>5620</th>\n",
       "      <td>maligno993.png</td>\n",
       "      <td>99</td>\n",
       "      <td>maligno</td>\n",
       "      <td>1</td>\n",
       "      <td>53454085e4b05911cd6db2058066</td>\n",
       "    </tr>\n",
       "    <tr>\n",
       "      <th>5621</th>\n",
       "      <td>maligno994.png</td>\n",
       "      <td>99</td>\n",
       "      <td>maligno</td>\n",
       "      <td>1</td>\n",
       "      <td>53454085e4b05911cd6db2058066</td>\n",
       "    </tr>\n",
       "    <tr>\n",
       "      <th>5622</th>\n",
       "      <td>maligno995.png</td>\n",
       "      <td>99</td>\n",
       "      <td>maligno</td>\n",
       "      <td>1</td>\n",
       "      <td>53454085e4b05911cd6db2058066</td>\n",
       "    </tr>\n",
       "    <tr>\n",
       "      <th>5623</th>\n",
       "      <td>maligno996.png</td>\n",
       "      <td>99</td>\n",
       "      <td>maligno</td>\n",
       "      <td>1</td>\n",
       "      <td>53454085e4b05911cd6db2058066</td>\n",
       "    </tr>\n",
       "    <tr>\n",
       "      <th>5624</th>\n",
       "      <td>maligno997.png</td>\n",
       "      <td>99</td>\n",
       "      <td>maligno</td>\n",
       "      <td>1</td>\n",
       "      <td>53454085e4b05911cd6db2058066</td>\n",
       "    </tr>\n",
       "  </tbody>\n",
       "</table>\n",
       "<p>5625 rows × 5 columns</p>\n",
       "</div>"
      ],
      "text/plain": [
       "             filename subgroup     tipo  classe                 subgroup_todo\n",
       "0       benigno10.png        1  benigno       0     53453eb2e4b05911cd6db1378\n",
       "1       benigno11.png        1  benigno       0     53453eb2e4b05911cd6db1378\n",
       "2       benigno12.png        1  benigno       0     53453eb2e4b05911cd6db1378\n",
       "3       benigno13.png        1  benigno       0     53453eb2e4b05911cd6db1378\n",
       "4     benigno1040.png       10  benigno       0     53453ec7e4b05911cd6db13f2\n",
       "...               ...      ...      ...     ...                           ...\n",
       "5620   maligno993.png       99  maligno       1  53454085e4b05911cd6db2058066\n",
       "5621   maligno994.png       99  maligno       1  53454085e4b05911cd6db2058066\n",
       "5622   maligno995.png       99  maligno       1  53454085e4b05911cd6db2058066\n",
       "5623   maligno996.png       99  maligno       1  53454085e4b05911cd6db2058066\n",
       "5624   maligno997.png       99  maligno       1  53454085e4b05911cd6db2058066\n",
       "\n",
       "[5625 rows x 5 columns]"
      ]
     },
     "execution_count": 10,
     "metadata": {},
     "output_type": "execute_result"
    }
   ],
   "source": [
    "df_seg"
   ]
  },
  {
   "cell_type": "code",
   "execution_count": 11,
   "id": "d7182e33",
   "metadata": {},
   "outputs": [],
   "source": [
    "loc = 987"
   ]
  },
  {
   "cell_type": "code",
   "execution_count": 12,
   "id": "e73b421a",
   "metadata": {},
   "outputs": [
    {
     "data": {
      "text/plain": [
       "<matplotlib.image.AxesImage at 0x27af28d9220>"
      ]
     },
     "execution_count": 12,
     "metadata": {},
     "output_type": "execute_result"
    },
    {
     "data": {
      "image/png": "[encoded data removed]",
      "text/plain": [
       "<Figure size 432x288 with 1 Axes>"
      ]
     },
     "metadata": {
      "needs_background": "light"
     },
     "output_type": "display_data"
    }
   ],
   "source": [
    "plt.imshow(cv2.imread(\"dataset_todo/\"+df_seg.iloc[loc]['tipo']+\"/\"+df_seg.iloc[loc]['subgroup_todo']+\"/\"+df_seg.iloc[loc]['filename']))"
   ]
  },
  {
   "cell_type": "code",
   "execution_count": 13,
   "id": "11ffedfa",
   "metadata": {},
   "outputs": [
    {
     "data": {
      "text/plain": [
       "<matplotlib.image.AxesImage at 0x27af39a5130>"
      ]
     },
     "execution_count": 13,
     "metadata": {},
     "output_type": "execute_result"
    },
    {
     "data": {
      "image/png": "[encoded data removed]",
      "text/plain": [
       "<Figure size 432x288 with 1 Axes>"
      ]
     },
     "metadata": {
      "needs_background": "light"
     },
     "output_type": "display_data"
    }
   ],
   "source": [
    "plt.imshow(cv2.imread(\"dataset_seg/\"+df_seg.iloc[loc]['tipo']+\"/\"+df_seg.iloc[loc]['subgroup']+\"/\"+df_seg.iloc[loc]['filename']))"
   ]
  },
  {
   "cell_type": "markdown",
   "id": "4b4b3044",
   "metadata": {},
   "source": [
    "Criar auto encoder pra transformação"
   ]
  },
  {
   "cell_type": "code",
   "execution_count": 14,
   "id": "81ec318d",
   "metadata": {},
   "outputs": [
    {
     "data": {
      "text/html": [
       "<div>\n",
       "<style scoped>\n",
       "    .dataframe tbody tr th:only-of-type {\n",
       "        vertical-align: middle;\n",
       "    }\n",
       "\n",
       "    .dataframe tbody tr th {\n",
       "        vertical-align: top;\n",
       "    }\n",
       "\n",
       "    .dataframe thead th {\n",
       "        text-align: right;\n",
       "    }\n",
       "</style>\n",
       "<table border=\"1\" class=\"dataframe\">\n",
       "  <thead>\n",
       "    <tr style=\"text-align: right;\">\n",
       "      <th></th>\n",
       "      <th>filename</th>\n",
       "      <th>subgroup</th>\n",
       "      <th>tipo</th>\n",
       "      <th>classe</th>\n",
       "      <th>subgroup_todo</th>\n",
       "    </tr>\n",
       "  </thead>\n",
       "  <tbody>\n",
       "    <tr>\n",
       "      <th>1889</th>\n",
       "      <td>benigno4952105.png</td>\n",
       "      <td>495</td>\n",
       "      <td>benigno</td>\n",
       "      <td>0</td>\n",
       "      <td>53454779e4b05911cd6db3f60</td>\n",
       "    </tr>\n",
       "    <tr>\n",
       "      <th>138</th>\n",
       "      <td>benigno129487.png</td>\n",
       "      <td>129</td>\n",
       "      <td>benigno</td>\n",
       "      <td>0</td>\n",
       "      <td>5345403ee4b05911cd6db1d55</td>\n",
       "    </tr>\n",
       "    <tr>\n",
       "      <th>3006</th>\n",
       "      <td>benigno74261.png</td>\n",
       "      <td>74</td>\n",
       "      <td>benigno</td>\n",
       "      <td>0</td>\n",
       "      <td>53453f87e4b05911cd6db18f114176</td>\n",
       "    </tr>\n",
       "    <tr>\n",
       "      <th>2398</th>\n",
       "      <td>benigno5942558.png</td>\n",
       "      <td>594</td>\n",
       "      <td>benigno</td>\n",
       "      <td>0</td>\n",
       "      <td>53454a4fe4b05911cd6db47f56093</td>\n",
       "    </tr>\n",
       "    <tr>\n",
       "      <th>949</th>\n",
       "      <td>benigno3081226.png</td>\n",
       "      <td>308</td>\n",
       "      <td>benigno</td>\n",
       "      <td>0</td>\n",
       "      <td>5345422be4b05911cd6db2e6141143</td>\n",
       "    </tr>\n",
       "    <tr>\n",
       "      <th>...</th>\n",
       "      <td>...</td>\n",
       "      <td>...</td>\n",
       "      <td>...</td>\n",
       "      <td>...</td>\n",
       "      <td>...</td>\n",
       "    </tr>\n",
       "    <tr>\n",
       "      <th>5464</th>\n",
       "      <td>maligno7513.png</td>\n",
       "      <td>75</td>\n",
       "      <td>maligno</td>\n",
       "      <td>1</td>\n",
       "      <td>5345402fe4b05911cd6db1c8Nodule 001</td>\n",
       "    </tr>\n",
       "    <tr>\n",
       "      <th>2377</th>\n",
       "      <td>benigno5902537.png</td>\n",
       "      <td>590</td>\n",
       "      <td>benigno</td>\n",
       "      <td>0</td>\n",
       "      <td>53454a21e4b05911cd6db47977353</td>\n",
       "    </tr>\n",
       "    <tr>\n",
       "      <th>45</th>\n",
       "      <td>benigno110397.png</td>\n",
       "      <td>110</td>\n",
       "      <td>benigno</td>\n",
       "      <td>0</td>\n",
       "      <td>53454002e4b05911cd6db1be16930</td>\n",
       "    </tr>\n",
       "    <tr>\n",
       "      <th>1019</th>\n",
       "      <td>benigno3191294.png</td>\n",
       "      <td>319</td>\n",
       "      <td>benigno</td>\n",
       "      <td>0</td>\n",
       "      <td>53454253e4b05911cd6db2f0Nodule 003</td>\n",
       "    </tr>\n",
       "    <tr>\n",
       "      <th>2921</th>\n",
       "      <td>benigno6833053.png</td>\n",
       "      <td>683</td>\n",
       "      <td>benigno</td>\n",
       "      <td>0</td>\n",
       "      <td>53454cf4e4b05911cd6db50914783</td>\n",
       "    </tr>\n",
       "  </tbody>\n",
       "</table>\n",
       "<p>5625 rows × 5 columns</p>\n",
       "</div>"
      ],
      "text/plain": [
       "                filename subgroup     tipo  classe  \\\n",
       "1889  benigno4952105.png      495  benigno       0   \n",
       "138    benigno129487.png      129  benigno       0   \n",
       "3006    benigno74261.png       74  benigno       0   \n",
       "2398  benigno5942558.png      594  benigno       0   \n",
       "949   benigno3081226.png      308  benigno       0   \n",
       "...                  ...      ...      ...     ...   \n",
       "5464     maligno7513.png       75  maligno       1   \n",
       "2377  benigno5902537.png      590  benigno       0   \n",
       "45     benigno110397.png      110  benigno       0   \n",
       "1019  benigno3191294.png      319  benigno       0   \n",
       "2921  benigno6833053.png      683  benigno       0   \n",
       "\n",
       "                           subgroup_todo  \n",
       "1889           53454779e4b05911cd6db3f60  \n",
       "138            5345403ee4b05911cd6db1d55  \n",
       "3006      53453f87e4b05911cd6db18f114176  \n",
       "2398       53454a4fe4b05911cd6db47f56093  \n",
       "949       5345422be4b05911cd6db2e6141143  \n",
       "...                                  ...  \n",
       "5464  5345402fe4b05911cd6db1c8Nodule 001  \n",
       "2377       53454a21e4b05911cd6db47977353  \n",
       "45         53454002e4b05911cd6db1be16930  \n",
       "1019  53454253e4b05911cd6db2f0Nodule 003  \n",
       "2921       53454cf4e4b05911cd6db50914783  \n",
       "\n",
       "[5625 rows x 5 columns]"
      ]
     },
     "execution_count": 14,
     "metadata": {},
     "output_type": "execute_result"
    }
   ],
   "source": [
    "df_exp = df_seg.sample(frac=1)\n",
    "df_exp"
   ]
  },
  {
   "cell_type": "code",
   "execution_count": 15,
   "id": "392c688f",
   "metadata": {},
   "outputs": [],
   "source": [
    "tam_df = len(df_exp)\n",
    "df_train = df_exp.iloc[:int(tam_df*0.9)]\n",
    "df_teste = df_exp.iloc[int(tam_df*0.9):]"
   ]
  },
  {
   "cell_type": "code",
   "execution_count": 16,
   "id": "991557fc",
   "metadata": {},
   "outputs": [],
   "source": [
    "path_treino_X = []\n",
    "path_treino_Y = []\n",
    "for index, row in df_train.iterrows():\n",
    "    completo = \"dataset_todo/\"+row['tipo']+\"/\"+row['subgroup_todo']+\"/\"+row['filename']\n",
    "    segmentado = \"dataset_seg/\"+row['tipo']+\"/\"+row['subgroup']+\"/\"+row['filename']\n",
    "    path_treino_X.append(completo)\n",
    "    path_treino_Y.append(segmentado)"
   ]
  },
  {
   "cell_type": "code",
   "execution_count": 17,
   "id": "191dac42",
   "metadata": {},
   "outputs": [],
   "source": [
    "from keras.models import Model, load_model\n",
    "from keras.layers import Input\n",
    "from keras.layers.core import Dropout, Lambda\n",
    "from keras.layers.convolutional import Conv2D, Conv2DTranspose\n",
    "from keras.layers.pooling import MaxPooling2D\n",
    "from keras.layers.merge import concatenate\n",
    "from keras.callbacks import EarlyStopping, ModelCheckpoint\n",
    "from keras import backend as K\n",
    "from tensorflow import keras\n",
    "\n",
    "import numpy as np\n",
    "\n",
    "import tensorflow as tf"
   ]
  },
  {
   "cell_type": "code",
   "execution_count": 18,
   "id": "f888a087",
   "metadata": {},
   "outputs": [],
   "source": [
    "IMG_HEIGHT = 64\n",
    "IMG_WIDTH = 64\n",
    "IMG_CHANNELS = 1\n",
    "BATCH_SIZE = 32\n",
    "AUTOTUNE = tf.data.experimental.AUTOTUNE"
   ]
  },
  {
   "cell_type": "code",
   "execution_count": null,
   "id": "dda4628b",
   "metadata": {},
   "outputs": [],
   "source": []
  },
  {
   "cell_type": "code",
   "execution_count": 19,
   "id": "426de536",
   "metadata": {},
   "outputs": [],
   "source": [
    "from tensorflow.python.ops.numpy_ops import np_config\n",
    "np_config.enable_numpy_behavior()"
   ]
  },
  {
   "cell_type": "code",
   "execution_count": 42,
   "id": "cac56ea9",
   "metadata": {},
   "outputs": [],
   "source": [
    "def decode_and_resize(img_path):\n",
    "    img = tf.io.read_file(img_path)\n",
    "    img = tf.image.decode_jpeg(img, channels=1)\n",
    "    img = tf.image.resize(img, (IMG_WIDTH,IMG_HEIGHT))\n",
    "    img = tf.image.convert_image_dtype(img, tf.float32)/255\n",
    "    return img\n",
    "\n",
    "def decode_and_resize_mask(img_path):\n",
    "    img = tf.io.read_file(img_path)\n",
    "    img = tf.image.decode_jpeg(img, channels=1)\n",
    "    img = tf.image.resize(img, (IMG_WIDTH,IMG_HEIGHT))\n",
    "    img = tf.image.convert_image_dtype(img, tf.float32)/255\n",
    "    img = (img >= 0.5).astype(np.uint8)\n",
    "    img_inv = (img < 0.5).astype(np.uint8)\n",
    "    return tf.concat(values=[img, img_inv],axis=-1)\n",
    "\n",
    "\n",
    "def process_input(img_path_x, img_path_y):\n",
    "    return decode_and_resize(img_path_x), decode_and_resize_mask(img_path_y)\n",
    "\n",
    "def make_dataset(x_image, y_image):\n",
    "    dataset = tf.data.Dataset.from_tensor_slices((x_image, y_image))\n",
    "    dataset = dataset.shuffle(len(x_image))\n",
    "    dataset = dataset.map(process_input)\n",
    "    dataset = dataset.batch(BATCH_SIZE).prefetch(AUTOTUNE)\n",
    "    return dataset\n",
    "\n",
    "quebra_validacao = int(len(path_treino_X)*0.9)\n",
    "\n",
    "dataset = make_dataset(path_treino_X[:quebra_validacao], path_treino_Y[:quebra_validacao])\n",
    "valid_dataset = make_dataset(path_treino_X[quebra_validacao:], path_treino_Y[quebra_validacao:])"
   ]
  },
  {
   "cell_type": "code",
   "execution_count": 53,
   "id": "8703b883",
   "metadata": {},
   "outputs": [
    {
     "name": "stdout",
     "output_type": "stream",
     "text": [
      "(64, 64)\n"
     ]
    },
    {
     "data": {
      "image/png": "[encoded data removed]",
      "text/plain": [
       "<Figure size 432x288 with 1 Axes>"
      ]
     },
     "metadata": {
      "needs_background": "light"
     },
     "output_type": "display_data"
    }
   ],
   "source": [
    "for i,j in dataset:\n",
    "    print(j[0][:, :, 0 ].shape)\n",
    "    plt.imshow(j[0][:, :, 1 ],cmap = \"gray\")\n",
    "    break"
   ]
  },
  {
   "cell_type": "markdown",
   "id": "febf5eac",
   "metadata": {},
   "source": [
    "## UNET"
   ]
  },
  {
   "cell_type": "code",
   "execution_count": 56,
   "id": "cee3555b",
   "metadata": {},
   "outputs": [
    {
     "name": "stdout",
     "output_type": "stream",
     "text": [
      "Model: \"model_2\"\n",
      "__________________________________________________________________________________________________\n",
      " Layer (type)                   Output Shape         Param #     Connected to                     \n",
      "==================================================================================================\n",
      " input_3 (InputLayer)           [(None, 64, 64, 1)]  0           []                               \n",
      "                                                                                                  \n",
      " conv2d_38 (Conv2D)             (None, 64, 64, 16)   160         ['input_3[0][0]']                \n",
      "                                                                                                  \n",
      " dropout_18 (Dropout)           (None, 64, 64, 16)   0           ['conv2d_38[0][0]']              \n",
      "                                                                                                  \n",
      " conv2d_39 (Conv2D)             (None, 64, 64, 16)   2320        ['dropout_18[0][0]']             \n",
      "                                                                                                  \n",
      " max_pooling2d_8 (MaxPooling2D)  (None, 32, 32, 16)  0           ['conv2d_39[0][0]']              \n",
      "                                                                                                  \n",
      " conv2d_40 (Conv2D)             (None, 32, 32, 32)   4640        ['max_pooling2d_8[0][0]']        \n",
      "                                                                                                  \n",
      " dropout_19 (Dropout)           (None, 32, 32, 32)   0           ['conv2d_40[0][0]']              \n",
      "                                                                                                  \n",
      " conv2d_41 (Conv2D)             (None, 32, 32, 32)   9248        ['dropout_19[0][0]']             \n",
      "                                                                                                  \n",
      " max_pooling2d_9 (MaxPooling2D)  (None, 16, 16, 32)  0           ['conv2d_41[0][0]']              \n",
      "                                                                                                  \n",
      " conv2d_42 (Conv2D)             (None, 16, 16, 64)   18496       ['max_pooling2d_9[0][0]']        \n",
      "                                                                                                  \n",
      " dropout_20 (Dropout)           (None, 16, 16, 64)   0           ['conv2d_42[0][0]']              \n",
      "                                                                                                  \n",
      " conv2d_43 (Conv2D)             (None, 16, 16, 64)   36928       ['dropout_20[0][0]']             \n",
      "                                                                                                  \n",
      " max_pooling2d_10 (MaxPooling2D  (None, 8, 8, 64)    0           ['conv2d_43[0][0]']              \n",
      " )                                                                                                \n",
      "                                                                                                  \n",
      " conv2d_44 (Conv2D)             (None, 8, 8, 128)    73856       ['max_pooling2d_10[0][0]']       \n",
      "                                                                                                  \n",
      " dropout_21 (Dropout)           (None, 8, 8, 128)    0           ['conv2d_44[0][0]']              \n",
      "                                                                                                  \n",
      " conv2d_45 (Conv2D)             (None, 8, 8, 128)    147584      ['dropout_21[0][0]']             \n",
      "                                                                                                  \n",
      " max_pooling2d_11 (MaxPooling2D  (None, 4, 4, 128)   0           ['conv2d_45[0][0]']              \n",
      " )                                                                                                \n",
      "                                                                                                  \n",
      " conv2d_46 (Conv2D)             (None, 4, 4, 256)    295168      ['max_pooling2d_11[0][0]']       \n",
      "                                                                                                  \n",
      " dropout_22 (Dropout)           (None, 4, 4, 256)    0           ['conv2d_46[0][0]']              \n",
      "                                                                                                  \n",
      " conv2d_47 (Conv2D)             (None, 4, 4, 256)    590080      ['dropout_22[0][0]']             \n",
      "                                                                                                  \n",
      " conv2d_transpose_8 (Conv2DTran  (None, 8, 8, 128)   131200      ['conv2d_47[0][0]']              \n",
      " spose)                                                                                           \n",
      "                                                                                                  \n",
      " concatenate_8 (Concatenate)    (None, 8, 8, 256)    0           ['conv2d_transpose_8[0][0]',     \n",
      "                                                                  'conv2d_45[0][0]']              \n",
      "                                                                                                  \n",
      " conv2d_48 (Conv2D)             (None, 8, 8, 128)    295040      ['concatenate_8[0][0]']          \n",
      "                                                                                                  \n",
      " dropout_23 (Dropout)           (None, 8, 8, 128)    0           ['conv2d_48[0][0]']              \n",
      "                                                                                                  \n",
      " conv2d_49 (Conv2D)             (None, 8, 8, 128)    147584      ['dropout_23[0][0]']             \n",
      "                                                                                                  \n",
      " conv2d_transpose_9 (Conv2DTran  (None, 16, 16, 64)  32832       ['conv2d_49[0][0]']              \n",
      " spose)                                                                                           \n",
      "                                                                                                  \n",
      " concatenate_9 (Concatenate)    (None, 16, 16, 128)  0           ['conv2d_transpose_9[0][0]',     \n",
      "                                                                  'conv2d_43[0][0]']              \n",
      "                                                                                                  \n",
      " conv2d_50 (Conv2D)             (None, 16, 16, 64)   73792       ['concatenate_9[0][0]']          \n",
      "                                                                                                  \n",
      " dropout_24 (Dropout)           (None, 16, 16, 64)   0           ['conv2d_50[0][0]']              \n",
      "                                                                                                  \n",
      " conv2d_51 (Conv2D)             (None, 16, 16, 64)   36928       ['dropout_24[0][0]']             \n",
      "                                                                                                  \n",
      " conv2d_transpose_10 (Conv2DTra  (None, 32, 32, 32)  8224        ['conv2d_51[0][0]']              \n",
      " nspose)                                                                                          \n",
      "                                                                                                  \n",
      " concatenate_10 (Concatenate)   (None, 32, 32, 64)   0           ['conv2d_transpose_10[0][0]',    \n",
      "                                                                  'conv2d_41[0][0]']              \n",
      "                                                                                                  \n",
      " conv2d_52 (Conv2D)             (None, 32, 32, 32)   18464       ['concatenate_10[0][0]']         \n",
      "                                                                                                  \n",
      " dropout_25 (Dropout)           (None, 32, 32, 32)   0           ['conv2d_52[0][0]']              \n",
      "                                                                                                  \n",
      " conv2d_53 (Conv2D)             (None, 32, 32, 32)   9248        ['dropout_25[0][0]']             \n",
      "                                                                                                  \n",
      " conv2d_transpose_11 (Conv2DTra  (None, 64, 64, 16)  2064        ['conv2d_53[0][0]']              \n",
      " nspose)                                                                                          \n"
     ]
    },
    {
     "name": "stdout",
     "output_type": "stream",
     "text": [
      "                                                                                                  \n",
      " concatenate_11 (Concatenate)   (None, 64, 64, 32)   0           ['conv2d_transpose_11[0][0]',    \n",
      "                                                                  'conv2d_39[0][0]']              \n",
      "                                                                                                  \n",
      " conv2d_54 (Conv2D)             (None, 64, 64, 16)   4624        ['concatenate_11[0][0]']         \n",
      "                                                                                                  \n",
      " dropout_26 (Dropout)           (None, 64, 64, 16)   0           ['conv2d_54[0][0]']              \n",
      "                                                                                                  \n",
      " conv2d_55 (Conv2D)             (None, 64, 64, 16)   2320        ['dropout_26[0][0]']             \n",
      "                                                                                                  \n",
      " conv2d_56 (Conv2D)             (None, 64, 64, 2)    34          ['conv2d_55[0][0]']              \n",
      "                                                                                                  \n",
      "==================================================================================================\n",
      "Total params: 1,940,834\n",
      "Trainable params: 1,940,834\n",
      "Non-trainable params: 0\n",
      "__________________________________________________________________________________________________\n"
     ]
    }
   ],
   "source": [
    "#https://www.kaggle.com/code/vbookshelf/simple-cell-segmentation-with-keras-and-u-net/notebook\n",
    "\n",
    "inputs = Input((IMG_HEIGHT, IMG_WIDTH, IMG_CHANNELS))\n",
    "\n",
    "c1 = Conv2D(16, (3, 3), activation='elu', kernel_initializer='he_normal', padding='same') (inputs)\n",
    "c1 = Dropout(0.1) (c1)\n",
    "c1 = Conv2D(16, (3, 3), activation='elu', kernel_initializer='he_normal', padding='same') (c1)\n",
    "p1 = MaxPooling2D((2, 2)) (c1)\n",
    "\n",
    "c2 = Conv2D(32, (3, 3), activation='elu', kernel_initializer='he_normal', padding='same') (p1)\n",
    "c2 = Dropout(0.1) (c2)\n",
    "c2 = Conv2D(32, (3, 3), activation='elu', kernel_initializer='he_normal', padding='same') (c2)\n",
    "p2 = MaxPooling2D((2, 2)) (c2)\n",
    "\n",
    "c3 = Conv2D(64, (3, 3), activation='elu', kernel_initializer='he_normal', padding='same') (p2)\n",
    "c3 = Dropout(0.2) (c3)\n",
    "c3 = Conv2D(64, (3, 3), activation='elu', kernel_initializer='he_normal', padding='same') (c3)\n",
    "p3 = MaxPooling2D((2, 2)) (c3)\n",
    "\n",
    "c4 = Conv2D(128, (3, 3), activation='elu', kernel_initializer='he_normal', padding='same') (p3)\n",
    "c4 = Dropout(0.2) (c4)\n",
    "c4 = Conv2D(128, (3, 3), activation='elu', kernel_initializer='he_normal', padding='same') (c4)\n",
    "p4 = MaxPooling2D(pool_size=(2, 2)) (c4)\n",
    "\n",
    "c5 = Conv2D(256, (3, 3), activation='elu', kernel_initializer='he_normal', padding='same') (p4)\n",
    "c5 = Dropout(0.3) (c5)\n",
    "c5 = Conv2D(256, (3, 3), activation='elu', kernel_initializer='he_normal', padding='same') (c5)\n",
    "\n",
    "u6 = Conv2DTranspose(128, (2, 2), strides=(2, 2), padding='same') (c5)\n",
    "u6 = concatenate([u6, c4])\n",
    "c6 = Conv2D(128, (3, 3), activation='elu', kernel_initializer='he_normal', padding='same') (u6)\n",
    "c6 = Dropout(0.2) (c6)\n",
    "c6 = Conv2D(128, (3, 3), activation='elu', kernel_initializer='he_normal', padding='same') (c6)\n",
    "\n",
    "u7 = Conv2DTranspose(64, (2, 2), strides=(2, 2), padding='same') (c6)\n",
    "u7 = concatenate([u7, c3])\n",
    "c7 = Conv2D(64, (3, 3), activation='elu', kernel_initializer='he_normal', padding='same') (u7)\n",
    "c7 = Dropout(0.2) (c7)\n",
    "c7 = Conv2D(64, (3, 3), activation='elu', kernel_initializer='he_normal', padding='same') (c7)\n",
    "\n",
    "u8 = Conv2DTranspose(32, (2, 2), strides=(2, 2), padding='same') (c7)\n",
    "u8 = concatenate([u8, c2])\n",
    "c8 = Conv2D(32, (3, 3), activation='elu', kernel_initializer='he_normal', padding='same') (u8)\n",
    "c8 = Dropout(0.1) (c8)\n",
    "c8 = Conv2D(32, (3, 3), activation='elu', kernel_initializer='he_normal', padding='same') (c8)\n",
    "\n",
    "u9 = Conv2DTranspose(16, (2, 2), strides=(2, 2), padding='same') (c8)\n",
    "u9 = concatenate([u9, c1], axis=3)\n",
    "c9 = Conv2D(16, (3, 3), activation='elu', kernel_initializer='he_normal', padding='same') (u9)\n",
    "c9 = Dropout(0.1) (c9)\n",
    "c9 = Conv2D(16, (3, 3), activation='elu', kernel_initializer='he_normal', padding='same') (c9)\n",
    "\n",
    "outputs = Conv2D(2, (1, 1), activation='sigmoid') (c9)\n",
    "\n",
    "model = Model(inputs=[inputs], outputs=[outputs])\n",
    "\n",
    "model.compile(optimizer='adam', loss='binary_crossentropy')\n",
    "\n",
    "model.summary()"
   ]
  },
  {
   "cell_type": "code",
   "execution_count": 57,
   "id": "067057e4",
   "metadata": {},
   "outputs": [
    {
     "name": "stdout",
     "output_type": "stream",
     "text": [
      "Epoch 1/500\n",
      "143/143 [==============================] - ETA: 0s - loss: 0.1125\n",
      "Epoch 1: val_loss improved from inf to 0.06430, saving model to model_seg_tutorial_unet.h5\n",
      "143/143 [==============================] - 14s 35ms/step - loss: 0.1125 - val_loss: 0.0643\n",
      "Epoch 2/500\n",
      "142/143 [============================>.] - ETA: 0s - loss: 0.0521\n",
      "Epoch 2: val_loss improved from 0.06430 to 0.05002, saving model to model_seg_tutorial_unet.h5\n",
      "143/143 [==============================] - 4s 26ms/step - loss: 0.0520 - val_loss: 0.0500\n",
      "Epoch 3/500\n",
      "141/143 [============================>.] - ETA: 0s - loss: 0.0449\n",
      "Epoch 3: val_loss improved from 0.05002 to 0.04320, saving model to model_seg_tutorial_unet.h5\n",
      "143/143 [==============================] - 4s 26ms/step - loss: 0.0449 - val_loss: 0.0432\n",
      "Epoch 4/500\n",
      "142/143 [============================>.] - ETA: 0s - loss: 0.0433\n",
      "Epoch 4: val_loss did not improve from 0.04320\n",
      "143/143 [==============================] - 4s 25ms/step - loss: 0.0433 - val_loss: 0.0435\n",
      "Epoch 5/500\n",
      "142/143 [============================>.] - ETA: 0s - loss: 0.0408\n",
      "Epoch 5: val_loss did not improve from 0.04320\n",
      "143/143 [==============================] - 4s 25ms/step - loss: 0.0408 - val_loss: 0.0496\n",
      "Epoch 6/500\n",
      "142/143 [============================>.] - ETA: 0s - loss: 0.0397\n",
      "Epoch 6: val_loss improved from 0.04320 to 0.04016, saving model to model_seg_tutorial_unet.h5\n",
      "143/143 [==============================] - 4s 26ms/step - loss: 0.0397 - val_loss: 0.0402\n",
      "Epoch 7/500\n",
      "143/143 [==============================] - ETA: 0s - loss: 0.0382\n",
      "Epoch 7: val_loss did not improve from 0.04016\n",
      "143/143 [==============================] - 4s 25ms/step - loss: 0.0382 - val_loss: 0.0406\n",
      "Epoch 8/500\n",
      "141/143 [============================>.] - ETA: 0s - loss: 0.0379\n",
      "Epoch 8: val_loss improved from 0.04016 to 0.03826, saving model to model_seg_tutorial_unet.h5\n",
      "143/143 [==============================] - 4s 26ms/step - loss: 0.0378 - val_loss: 0.0383\n",
      "Epoch 9/500\n",
      "142/143 [============================>.] - ETA: 0s - loss: 0.0356\n",
      "Epoch 9: val_loss improved from 0.03826 to 0.03652, saving model to model_seg_tutorial_unet.h5\n",
      "143/143 [==============================] - 4s 26ms/step - loss: 0.0355 - val_loss: 0.0365\n",
      "Epoch 10/500\n",
      "142/143 [============================>.] - ETA: 0s - loss: 0.0342\n",
      "Epoch 10: val_loss improved from 0.03652 to 0.03538, saving model to model_seg_tutorial_unet.h5\n",
      "143/143 [==============================] - 4s 26ms/step - loss: 0.0342 - val_loss: 0.0354\n",
      "Epoch 11/500\n",
      "142/143 [============================>.] - ETA: 0s - loss: 0.0340\n",
      "Epoch 11: val_loss improved from 0.03538 to 0.03474, saving model to model_seg_tutorial_unet.h5\n",
      "143/143 [==============================] - 4s 26ms/step - loss: 0.0340 - val_loss: 0.0347\n",
      "Epoch 12/500\n",
      "142/143 [============================>.] - ETA: 0s - loss: 0.0323\n",
      "Epoch 12: val_loss improved from 0.03474 to 0.03420, saving model to model_seg_tutorial_unet.h5\n",
      "143/143 [==============================] - 4s 27ms/step - loss: 0.0323 - val_loss: 0.0342\n",
      "Epoch 13/500\n",
      "142/143 [============================>.] - ETA: 0s - loss: 0.0309\n",
      "Epoch 13: val_loss improved from 0.03420 to 0.03381, saving model to model_seg_tutorial_unet.h5\n",
      "143/143 [==============================] - 4s 26ms/step - loss: 0.0309 - val_loss: 0.0338\n",
      "Epoch 14/500\n",
      "143/143 [==============================] - ETA: 0s - loss: 0.0298\n",
      "Epoch 14: val_loss improved from 0.03381 to 0.03239, saving model to model_seg_tutorial_unet.h5\n",
      "143/143 [==============================] - 4s 26ms/step - loss: 0.0298 - val_loss: 0.0324\n",
      "Epoch 15/500\n",
      "143/143 [==============================] - ETA: 0s - loss: 0.0291\n",
      "Epoch 15: val_loss did not improve from 0.03239\n",
      "143/143 [==============================] - 4s 26ms/step - loss: 0.0291 - val_loss: 0.0332\n",
      "Epoch 16/500\n",
      "141/143 [============================>.] - ETA: 0s - loss: 0.0281\n",
      "Epoch 16: val_loss improved from 0.03239 to 0.03087, saving model to model_seg_tutorial_unet.h5\n",
      "143/143 [==============================] - 4s 27ms/step - loss: 0.0281 - val_loss: 0.0309\n",
      "Epoch 17/500\n",
      "142/143 [============================>.] - ETA: 0s - loss: 0.0271\n",
      "Epoch 17: val_loss did not improve from 0.03087\n",
      "143/143 [==============================] - 4s 26ms/step - loss: 0.0271 - val_loss: 0.0316\n",
      "Epoch 18/500\n",
      "141/143 [============================>.] - ETA: 0s - loss: 0.0262\n",
      "Epoch 18: val_loss improved from 0.03087 to 0.03047, saving model to model_seg_tutorial_unet.h5\n",
      "143/143 [==============================] - 4s 27ms/step - loss: 0.0261 - val_loss: 0.0305\n",
      "Epoch 19/500\n",
      "143/143 [==============================] - ETA: 0s - loss: 0.0253\n",
      "Epoch 19: val_loss did not improve from 0.03047\n",
      "143/143 [==============================] - 4s 26ms/step - loss: 0.0253 - val_loss: 0.0309\n",
      "Epoch 20/500\n",
      "141/143 [============================>.] - ETA: 0s - loss: 0.0245\n",
      "Epoch 20: val_loss did not improve from 0.03047\n",
      "143/143 [==============================] - 4s 26ms/step - loss: 0.0245 - val_loss: 0.0316\n",
      "Epoch 21/500\n",
      "142/143 [============================>.] - ETA: 0s - loss: 0.0238\n",
      "Epoch 21: val_loss improved from 0.03047 to 0.03023, saving model to model_seg_tutorial_unet.h5\n",
      "143/143 [==============================] - 4s 27ms/step - loss: 0.0238 - val_loss: 0.0302\n",
      "Epoch 22/500\n",
      "142/143 [============================>.] - ETA: 0s - loss: 0.0241\n",
      "Epoch 22: val_loss did not improve from 0.03023\n",
      "143/143 [==============================] - 4s 26ms/step - loss: 0.0241 - val_loss: 0.0303\n",
      "Epoch 23/500\n",
      "143/143 [==============================] - ETA: 0s - loss: 0.0231\n",
      "Epoch 23: val_loss improved from 0.03023 to 0.02955, saving model to model_seg_tutorial_unet.h5\n",
      "143/143 [==============================] - 4s 27ms/step - loss: 0.0231 - val_loss: 0.0296\n",
      "Epoch 24/500\n",
      "141/143 [============================>.] - ETA: 0s - loss: 0.0221\n",
      "Epoch 24: val_loss improved from 0.02955 to 0.02858, saving model to model_seg_tutorial_unet.h5\n",
      "143/143 [==============================] - 4s 27ms/step - loss: 0.0220 - val_loss: 0.0286\n",
      "Epoch 25/500\n",
      "143/143 [==============================] - ETA: 0s - loss: 0.0215\n",
      "Epoch 25: val_loss did not improve from 0.02858\n",
      "143/143 [==============================] - 4s 27ms/step - loss: 0.0215 - val_loss: 0.0290\n",
      "Epoch 26/500\n",
      "141/143 [============================>.] - ETA: 0s - loss: 0.0212\n",
      "Epoch 26: val_loss did not improve from 0.02858\n",
      "143/143 [==============================] - 4s 27ms/step - loss: 0.0211 - val_loss: 0.0303\n",
      "Epoch 27/500\n",
      "141/143 [============================>.] - ETA: 0s - loss: 0.0207\n",
      "Epoch 27: val_loss did not improve from 0.02858\n",
      "143/143 [==============================] - 4s 26ms/step - loss: 0.0207 - val_loss: 0.0287\n",
      "Epoch 28/500\n",
      "141/143 [============================>.] - ETA: 0s - loss: 0.0201\n",
      "Epoch 28: val_loss improved from 0.02858 to 0.02756, saving model to model_seg_tutorial_unet.h5\n",
      "143/143 [==============================] - 4s 27ms/step - loss: 0.0201 - val_loss: 0.0276\n",
      "Epoch 29/500\n",
      "141/143 [============================>.] - ETA: 0s - loss: 0.0207\n",
      "Epoch 29: val_loss did not improve from 0.02756\n",
      "143/143 [==============================] - 4s 27ms/step - loss: 0.0206 - val_loss: 0.0305\n",
      "Epoch 30/500\n",
      "143/143 [==============================] - ETA: 0s - loss: 0.0201\n",
      "Epoch 30: val_loss did not improve from 0.02756\n",
      "143/143 [==============================] - 4s 27ms/step - loss: 0.0201 - val_loss: 0.0284\n",
      "Epoch 31/500\n",
      "143/143 [==============================] - ETA: 0s - loss: 0.0193\n",
      "Epoch 31: val_loss did not improve from 0.02756\n",
      "143/143 [==============================] - 4s 27ms/step - loss: 0.0193 - val_loss: 0.0283\n",
      "Epoch 32/500\n",
      "142/143 [============================>.] - ETA: 0s - loss: 0.0192\n",
      "Epoch 32: val_loss did not improve from 0.02756\n",
      "143/143 [==============================] - 4s 27ms/step - loss: 0.0192 - val_loss: 0.0279\n",
      "Epoch 33/500\n",
      "141/143 [============================>.] - ETA: 0s - loss: 0.0187\n",
      "Epoch 33: val_loss did not improve from 0.02756\n",
      "143/143 [==============================] - 4s 27ms/step - loss: 0.0187 - val_loss: 0.0297\n",
      "Epoch 33: early stopping\n"
     ]
    }
   ],
   "source": [
    "filepath = \"model_seg_tutorial_unet.h5\"\n",
    "\n",
    "earlystopper = EarlyStopping(patience=5, verbose=1)\n",
    "\n",
    "checkpoint = ModelCheckpoint(filepath, monitor='val_loss', verbose=1, \n",
    "                             save_best_only=True, mode='min')\n",
    "\n",
    "callbacks_list = [earlystopper, checkpoint]\n",
    "\n",
    "history = model.fit(dataset, validation_data=valid_dataset, batch_size=16, epochs=500, \n",
    "                    callbacks=callbacks_list)\n"
   ]
  },
  {
   "cell_type": "markdown",
   "id": "959bd9f0",
   "metadata": {},
   "source": [
    "Teste"
   ]
  },
  {
   "cell_type": "code",
   "execution_count": 58,
   "id": "612c5a7e",
   "metadata": {},
   "outputs": [],
   "source": [
    "path_teste_X = []\n",
    "path_teste_Y = []\n",
    "for index, row in df_teste.iterrows():\n",
    "    completo = \"dataset_todo/\"+row['tipo']+\"/\"+row['subgroup_todo']+\"/\"+row['filename']\n",
    "    segmentado = \"dataset_seg/\"+row['tipo']+\"/\"+row['subgroup']+\"/\"+row['filename']\n",
    "    path_teste_X.append(completo)\n",
    "    path_teste_Y.append(segmentado)"
   ]
  },
  {
   "cell_type": "code",
   "execution_count": 59,
   "id": "dc80ff94",
   "metadata": {},
   "outputs": [],
   "source": [
    "model.load_weights(filepath)"
   ]
  },
  {
   "cell_type": "code",
   "execution_count": 60,
   "id": "72191c5e",
   "metadata": {},
   "outputs": [],
   "source": [
    "dataset_teste = make_dataset(path_teste_X, path_teste_Y)"
   ]
  },
  {
   "cell_type": "code",
   "execution_count": 61,
   "id": "70d5a0f2",
   "metadata": {},
   "outputs": [],
   "source": [
    "imagem_y =[]\n",
    "imagem_x =[]\n",
    "for x, y in dataset_teste:\n",
    "    imagem_x.append(x)\n",
    "    imagem_y.append(y)\n",
    "    \n",
    "    "
   ]
  },
  {
   "cell_type": "code",
   "execution_count": 94,
   "id": "bc01995a",
   "metadata": {},
   "outputs": [],
   "source": [
    "batch_teste = 1\n",
    "image_no_bacht_teste = 15\n",
    "label_seg = 0"
   ]
  },
  {
   "cell_type": "code",
   "execution_count": 95,
   "id": "7da9fb5e",
   "metadata": {},
   "outputs": [],
   "source": [
    "test_preds = model.predict(imagem_x[batch_teste])"
   ]
  },
  {
   "cell_type": "code",
   "execution_count": 96,
   "id": "c802e0e9",
   "metadata": {},
   "outputs": [],
   "source": [
    "#preds_test_thresh = (test_preds[:,:,0] >= 0.5).astype(np.uint8)\n",
    "preds_test_thresh = test_preds[image_no_bacht_teste][:,:,label_seg]"
   ]
  },
  {
   "cell_type": "code",
   "execution_count": 97,
   "id": "45f8ab9f",
   "metadata": {},
   "outputs": [
    {
     "data": {
      "text/plain": [
       "(64, 64)"
      ]
     },
     "execution_count": 97,
     "metadata": {},
     "output_type": "execute_result"
    }
   ],
   "source": [
    "preds_test_thresh.shape"
   ]
  },
  {
   "cell_type": "code",
   "execution_count": 98,
   "id": "96161de2",
   "metadata": {},
   "outputs": [
    {
     "data": {
      "text/plain": [
       "<matplotlib.image.AxesImage at 0x27ba976d850>"
      ]
     },
     "execution_count": 98,
     "metadata": {},
     "output_type": "execute_result"
    },
    {
     "data": {
      "image/png": "[encoded data removed]",
      "text/plain": [
       "<Figure size 432x288 with 1 Axes>"
      ]
     },
     "metadata": {
      "needs_background": "light"
     },
     "output_type": "display_data"
    }
   ],
   "source": [
    "plt.imshow(imagem_y[batch_teste][image_no_bacht_teste][:,:,label_seg], cmap='gray')"
   ]
  },
  {
   "cell_type": "code",
   "execution_count": 99,
   "id": "4d19046a",
   "metadata": {},
   "outputs": [
    {
     "data": {
      "text/plain": [
       "<matplotlib.image.AxesImage at 0x27ba96ee460>"
      ]
     },
     "execution_count": 99,
     "metadata": {},
     "output_type": "execute_result"
    },
    {
     "data": {
      "image/png": "[encoded data removed]",
      "text/plain": [
       "<Figure size 432x288 with 1 Axes>"
      ]
     },
     "metadata": {
      "needs_background": "light"
     },
     "output_type": "display_data"
    }
   ],
   "source": [
    "plt.imshow(preds_test_thresh, cmap='gray')"
   ]
  },
  {
   "cell_type": "code",
   "execution_count": null,
   "id": "03a17082",
   "metadata": {},
   "outputs": [],
   "source": []
  }
 ],
 "metadata": {
  "kernelspec": {
   "display_name": "Python 3 (ipykernel)",
   "language": "python",
   "name": "python3"
  },
  "language_info": {
   "codemirror_mode": {
    "name": "ipython",
    "version": 3
   },
   "file_extension": ".py",
   "mimetype": "text/x-python",
   "name": "python",
   "nbconvert_exporter": "python",
   "pygments_lexer": "ipython3",
   "version": "3.9.12"
  }
 },
 "nbformat": 4,
 "nbformat_minor": 5
}
