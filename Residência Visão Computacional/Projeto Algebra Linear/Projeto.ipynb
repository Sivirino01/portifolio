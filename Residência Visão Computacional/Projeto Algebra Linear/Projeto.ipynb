{
 "cells": [
  {
   "cell_type": "markdown",
   "id": "a021f722",
   "metadata": {},
   "source": [
    "Classificação utilizando MLP e KNN na base:\n",
    "* https://www.kaggle.com/fedesoriano/heart-failure-prediction\n",
    "* Foi utilizado uma comparação entre métodos de otimização de hiperparamentros"
   ]
  },
  {
   "cell_type": "code",
   "execution_count": 31,
   "id": "32bc9ae6",
   "metadata": {},
   "outputs": [],
   "source": [
    "#Imports\n",
    "import pandas as pd\n",
    "import seaborn as sns\n",
    "import random\n",
    "import matplotlib.pyplot as plt\n",
    "from sklearn.preprocessing import LabelEncoder \n",
    "from sklearn.model_selection import train_test_split\n",
    "from sklearn.neighbors import KNeighborsClassifier\n",
    "from sklearn.metrics import classification_report\n",
    "from sklearn.model_selection import GridSearchCV\n",
    "from sklearn.neural_network import MLPClassifier\n",
    "import numpy as np\n",
    "\n",
    "import pyswarms as ps\n",
    "from pyswarms.single.global_best import GlobalBestPSO\n"
   ]
  },
  {
   "cell_type": "code",
   "execution_count": 2,
   "id": "5b33136c",
   "metadata": {},
   "outputs": [
    {
     "data": {
      "text/html": [
       "<div>\n",
       "<style scoped>\n",
       "    .dataframe tbody tr th:only-of-type {\n",
       "        vertical-align: middle;\n",
       "    }\n",
       "\n",
       "    .dataframe tbody tr th {\n",
       "        vertical-align: top;\n",
       "    }\n",
       "\n",
       "    .dataframe thead th {\n",
       "        text-align: right;\n",
       "    }\n",
       "</style>\n",
       "<table border=\"1\" class=\"dataframe\">\n",
       "  <thead>\n",
       "    <tr style=\"text-align: right;\">\n",
       "      <th></th>\n",
       "      <th>Age</th>\n",
       "      <th>Sex</th>\n",
       "      <th>ChestPainType</th>\n",
       "      <th>RestingBP</th>\n",
       "      <th>Cholesterol</th>\n",
       "      <th>FastingBS</th>\n",
       "      <th>RestingECG</th>\n",
       "      <th>MaxHR</th>\n",
       "      <th>ExerciseAngina</th>\n",
       "      <th>Oldpeak</th>\n",
       "      <th>ST_Slope</th>\n",
       "      <th>HeartDisease</th>\n",
       "    </tr>\n",
       "  </thead>\n",
       "  <tbody>\n",
       "    <tr>\n",
       "      <th>0</th>\n",
       "      <td>40</td>\n",
       "      <td>M</td>\n",
       "      <td>ATA</td>\n",
       "      <td>140</td>\n",
       "      <td>289</td>\n",
       "      <td>0</td>\n",
       "      <td>Normal</td>\n",
       "      <td>172</td>\n",
       "      <td>N</td>\n",
       "      <td>0.0</td>\n",
       "      <td>Up</td>\n",
       "      <td>0</td>\n",
       "    </tr>\n",
       "    <tr>\n",
       "      <th>1</th>\n",
       "      <td>49</td>\n",
       "      <td>F</td>\n",
       "      <td>NAP</td>\n",
       "      <td>160</td>\n",
       "      <td>180</td>\n",
       "      <td>0</td>\n",
       "      <td>Normal</td>\n",
       "      <td>156</td>\n",
       "      <td>N</td>\n",
       "      <td>1.0</td>\n",
       "      <td>Flat</td>\n",
       "      <td>1</td>\n",
       "    </tr>\n",
       "    <tr>\n",
       "      <th>2</th>\n",
       "      <td>37</td>\n",
       "      <td>M</td>\n",
       "      <td>ATA</td>\n",
       "      <td>130</td>\n",
       "      <td>283</td>\n",
       "      <td>0</td>\n",
       "      <td>ST</td>\n",
       "      <td>98</td>\n",
       "      <td>N</td>\n",
       "      <td>0.0</td>\n",
       "      <td>Up</td>\n",
       "      <td>0</td>\n",
       "    </tr>\n",
       "    <tr>\n",
       "      <th>3</th>\n",
       "      <td>48</td>\n",
       "      <td>F</td>\n",
       "      <td>ASY</td>\n",
       "      <td>138</td>\n",
       "      <td>214</td>\n",
       "      <td>0</td>\n",
       "      <td>Normal</td>\n",
       "      <td>108</td>\n",
       "      <td>Y</td>\n",
       "      <td>1.5</td>\n",
       "      <td>Flat</td>\n",
       "      <td>1</td>\n",
       "    </tr>\n",
       "    <tr>\n",
       "      <th>4</th>\n",
       "      <td>54</td>\n",
       "      <td>M</td>\n",
       "      <td>NAP</td>\n",
       "      <td>150</td>\n",
       "      <td>195</td>\n",
       "      <td>0</td>\n",
       "      <td>Normal</td>\n",
       "      <td>122</td>\n",
       "      <td>N</td>\n",
       "      <td>0.0</td>\n",
       "      <td>Up</td>\n",
       "      <td>0</td>\n",
       "    </tr>\n",
       "    <tr>\n",
       "      <th>...</th>\n",
       "      <td>...</td>\n",
       "      <td>...</td>\n",
       "      <td>...</td>\n",
       "      <td>...</td>\n",
       "      <td>...</td>\n",
       "      <td>...</td>\n",
       "      <td>...</td>\n",
       "      <td>...</td>\n",
       "      <td>...</td>\n",
       "      <td>...</td>\n",
       "      <td>...</td>\n",
       "      <td>...</td>\n",
       "    </tr>\n",
       "    <tr>\n",
       "      <th>913</th>\n",
       "      <td>45</td>\n",
       "      <td>M</td>\n",
       "      <td>TA</td>\n",
       "      <td>110</td>\n",
       "      <td>264</td>\n",
       "      <td>0</td>\n",
       "      <td>Normal</td>\n",
       "      <td>132</td>\n",
       "      <td>N</td>\n",
       "      <td>1.2</td>\n",
       "      <td>Flat</td>\n",
       "      <td>1</td>\n",
       "    </tr>\n",
       "    <tr>\n",
       "      <th>914</th>\n",
       "      <td>68</td>\n",
       "      <td>M</td>\n",
       "      <td>ASY</td>\n",
       "      <td>144</td>\n",
       "      <td>193</td>\n",
       "      <td>1</td>\n",
       "      <td>Normal</td>\n",
       "      <td>141</td>\n",
       "      <td>N</td>\n",
       "      <td>3.4</td>\n",
       "      <td>Flat</td>\n",
       "      <td>1</td>\n",
       "    </tr>\n",
       "    <tr>\n",
       "      <th>915</th>\n",
       "      <td>57</td>\n",
       "      <td>M</td>\n",
       "      <td>ASY</td>\n",
       "      <td>130</td>\n",
       "      <td>131</td>\n",
       "      <td>0</td>\n",
       "      <td>Normal</td>\n",
       "      <td>115</td>\n",
       "      <td>Y</td>\n",
       "      <td>1.2</td>\n",
       "      <td>Flat</td>\n",
       "      <td>1</td>\n",
       "    </tr>\n",
       "    <tr>\n",
       "      <th>916</th>\n",
       "      <td>57</td>\n",
       "      <td>F</td>\n",
       "      <td>ATA</td>\n",
       "      <td>130</td>\n",
       "      <td>236</td>\n",
       "      <td>0</td>\n",
       "      <td>LVH</td>\n",
       "      <td>174</td>\n",
       "      <td>N</td>\n",
       "      <td>0.0</td>\n",
       "      <td>Flat</td>\n",
       "      <td>1</td>\n",
       "    </tr>\n",
       "    <tr>\n",
       "      <th>917</th>\n",
       "      <td>38</td>\n",
       "      <td>M</td>\n",
       "      <td>NAP</td>\n",
       "      <td>138</td>\n",
       "      <td>175</td>\n",
       "      <td>0</td>\n",
       "      <td>Normal</td>\n",
       "      <td>173</td>\n",
       "      <td>N</td>\n",
       "      <td>0.0</td>\n",
       "      <td>Up</td>\n",
       "      <td>0</td>\n",
       "    </tr>\n",
       "  </tbody>\n",
       "</table>\n",
       "<p>918 rows × 12 columns</p>\n",
       "</div>"
      ],
      "text/plain": [
       "     Age Sex ChestPainType  RestingBP  Cholesterol  FastingBS RestingECG  \\\n",
       "0     40   M           ATA        140          289          0     Normal   \n",
       "1     49   F           NAP        160          180          0     Normal   \n",
       "2     37   M           ATA        130          283          0         ST   \n",
       "3     48   F           ASY        138          214          0     Normal   \n",
       "4     54   M           NAP        150          195          0     Normal   \n",
       "..   ...  ..           ...        ...          ...        ...        ...   \n",
       "913   45   M            TA        110          264          0     Normal   \n",
       "914   68   M           ASY        144          193          1     Normal   \n",
       "915   57   M           ASY        130          131          0     Normal   \n",
       "916   57   F           ATA        130          236          0        LVH   \n",
       "917   38   M           NAP        138          175          0     Normal   \n",
       "\n",
       "     MaxHR ExerciseAngina  Oldpeak ST_Slope  HeartDisease  \n",
       "0      172              N      0.0       Up             0  \n",
       "1      156              N      1.0     Flat             1  \n",
       "2       98              N      0.0       Up             0  \n",
       "3      108              Y      1.5     Flat             1  \n",
       "4      122              N      0.0       Up             0  \n",
       "..     ...            ...      ...      ...           ...  \n",
       "913    132              N      1.2     Flat             1  \n",
       "914    141              N      3.4     Flat             1  \n",
       "915    115              Y      1.2     Flat             1  \n",
       "916    174              N      0.0     Flat             1  \n",
       "917    173              N      0.0       Up             0  \n",
       "\n",
       "[918 rows x 12 columns]"
      ]
     },
     "execution_count": 2,
     "metadata": {},
     "output_type": "execute_result"
    }
   ],
   "source": [
    "#https://www.kaggle.com/fedesoriano/heart-failure-prediction\n",
    "df = pd.read_csv ('heart.csv')\n",
    "df"
   ]
  },
  {
   "cell_type": "markdown",
   "id": "4d06412b",
   "metadata": {},
   "source": [
    "**Dataset com 918 linhas e 12 colunas.**"
   ]
  },
  {
   "cell_type": "code",
   "execution_count": 3,
   "id": "1bed9b93",
   "metadata": {},
   "outputs": [
    {
     "name": "stdout",
     "output_type": "stream",
     "text": [
      "<class 'pandas.core.frame.DataFrame'>\n",
      "RangeIndex: 918 entries, 0 to 917\n",
      "Data columns (total 12 columns):\n",
      " #   Column          Non-Null Count  Dtype  \n",
      "---  ------          --------------  -----  \n",
      " 0   Age             918 non-null    int64  \n",
      " 1   Sex             918 non-null    object \n",
      " 2   ChestPainType   918 non-null    object \n",
      " 3   RestingBP       918 non-null    int64  \n",
      " 4   Cholesterol     918 non-null    int64  \n",
      " 5   FastingBS       918 non-null    int64  \n",
      " 6   RestingECG      918 non-null    object \n",
      " 7   MaxHR           918 non-null    int64  \n",
      " 8   ExerciseAngina  918 non-null    object \n",
      " 9   Oldpeak         918 non-null    float64\n",
      " 10  ST_Slope        918 non-null    object \n",
      " 11  HeartDisease    918 non-null    int64  \n",
      "dtypes: float64(1), int64(6), object(5)\n",
      "memory usage: 86.2+ KB\n",
      "\n",
      "\n",
      "(918, 12)\n",
      "\n",
      "\n",
      "Qunatidade de dados duplicados 0\n",
      "Qunatidade de dados 'NA': 0\n",
      "\n",
      "\n"
     ]
    }
   ],
   "source": [
    "#Checar status e tipos de variáveis\n",
    "df.info()\n",
    "print('\\n')\n",
    "print(df.shape)\n",
    "print('\\n')\n",
    "#Chegar se existe observações duplicadas. Não existem observações duplicadas.\n",
    "print(\"Qunatidade de dados duplicados\", len(df[df.duplicated()]))\n",
    "#Não existe dados ausentes\n",
    "print(\"Qunatidade de dados 'NA':\", df.isna().sum().sum())\n",
    "print('\\n')"
   ]
  },
  {
   "cell_type": "markdown",
   "id": "08c436c9",
   "metadata": {},
   "source": [
    "**Sem valores faltantes**"
   ]
  },
  {
   "cell_type": "code",
   "execution_count": 4,
   "id": "61f1a834",
   "metadata": {},
   "outputs": [
    {
     "data": {
      "text/html": [
       "<div>\n",
       "<style scoped>\n",
       "    .dataframe tbody tr th:only-of-type {\n",
       "        vertical-align: middle;\n",
       "    }\n",
       "\n",
       "    .dataframe tbody tr th {\n",
       "        vertical-align: top;\n",
       "    }\n",
       "\n",
       "    .dataframe thead th {\n",
       "        text-align: right;\n",
       "    }\n",
       "</style>\n",
       "<table border=\"1\" class=\"dataframe\">\n",
       "  <thead>\n",
       "    <tr style=\"text-align: right;\">\n",
       "      <th></th>\n",
       "      <th>Age</th>\n",
       "      <th>RestingBP</th>\n",
       "      <th>Cholesterol</th>\n",
       "      <th>FastingBS</th>\n",
       "      <th>MaxHR</th>\n",
       "      <th>Oldpeak</th>\n",
       "      <th>HeartDisease</th>\n",
       "    </tr>\n",
       "  </thead>\n",
       "  <tbody>\n",
       "    <tr>\n",
       "      <th>count</th>\n",
       "      <td>918.000000</td>\n",
       "      <td>918.000000</td>\n",
       "      <td>918.000000</td>\n",
       "      <td>918.000000</td>\n",
       "      <td>918.000000</td>\n",
       "      <td>918.000000</td>\n",
       "      <td>918.000000</td>\n",
       "    </tr>\n",
       "    <tr>\n",
       "      <th>mean</th>\n",
       "      <td>53.510893</td>\n",
       "      <td>132.396514</td>\n",
       "      <td>198.799564</td>\n",
       "      <td>0.233115</td>\n",
       "      <td>136.809368</td>\n",
       "      <td>0.887364</td>\n",
       "      <td>0.553377</td>\n",
       "    </tr>\n",
       "    <tr>\n",
       "      <th>std</th>\n",
       "      <td>9.432617</td>\n",
       "      <td>18.514154</td>\n",
       "      <td>109.384145</td>\n",
       "      <td>0.423046</td>\n",
       "      <td>25.460334</td>\n",
       "      <td>1.066570</td>\n",
       "      <td>0.497414</td>\n",
       "    </tr>\n",
       "    <tr>\n",
       "      <th>min</th>\n",
       "      <td>28.000000</td>\n",
       "      <td>0.000000</td>\n",
       "      <td>0.000000</td>\n",
       "      <td>0.000000</td>\n",
       "      <td>60.000000</td>\n",
       "      <td>-2.600000</td>\n",
       "      <td>0.000000</td>\n",
       "    </tr>\n",
       "    <tr>\n",
       "      <th>25%</th>\n",
       "      <td>47.000000</td>\n",
       "      <td>120.000000</td>\n",
       "      <td>173.250000</td>\n",
       "      <td>0.000000</td>\n",
       "      <td>120.000000</td>\n",
       "      <td>0.000000</td>\n",
       "      <td>0.000000</td>\n",
       "    </tr>\n",
       "    <tr>\n",
       "      <th>50%</th>\n",
       "      <td>54.000000</td>\n",
       "      <td>130.000000</td>\n",
       "      <td>223.000000</td>\n",
       "      <td>0.000000</td>\n",
       "      <td>138.000000</td>\n",
       "      <td>0.600000</td>\n",
       "      <td>1.000000</td>\n",
       "    </tr>\n",
       "    <tr>\n",
       "      <th>75%</th>\n",
       "      <td>60.000000</td>\n",
       "      <td>140.000000</td>\n",
       "      <td>267.000000</td>\n",
       "      <td>0.000000</td>\n",
       "      <td>156.000000</td>\n",
       "      <td>1.500000</td>\n",
       "      <td>1.000000</td>\n",
       "    </tr>\n",
       "    <tr>\n",
       "      <th>max</th>\n",
       "      <td>77.000000</td>\n",
       "      <td>200.000000</td>\n",
       "      <td>603.000000</td>\n",
       "      <td>1.000000</td>\n",
       "      <td>202.000000</td>\n",
       "      <td>6.200000</td>\n",
       "      <td>1.000000</td>\n",
       "    </tr>\n",
       "  </tbody>\n",
       "</table>\n",
       "</div>"
      ],
      "text/plain": [
       "              Age   RestingBP  Cholesterol   FastingBS       MaxHR  \\\n",
       "count  918.000000  918.000000   918.000000  918.000000  918.000000   \n",
       "mean    53.510893  132.396514   198.799564    0.233115  136.809368   \n",
       "std      9.432617   18.514154   109.384145    0.423046   25.460334   \n",
       "min     28.000000    0.000000     0.000000    0.000000   60.000000   \n",
       "25%     47.000000  120.000000   173.250000    0.000000  120.000000   \n",
       "50%     54.000000  130.000000   223.000000    0.000000  138.000000   \n",
       "75%     60.000000  140.000000   267.000000    0.000000  156.000000   \n",
       "max     77.000000  200.000000   603.000000    1.000000  202.000000   \n",
       "\n",
       "          Oldpeak  HeartDisease  \n",
       "count  918.000000    918.000000  \n",
       "mean     0.887364      0.553377  \n",
       "std      1.066570      0.497414  \n",
       "min     -2.600000      0.000000  \n",
       "25%      0.000000      0.000000  \n",
       "50%      0.600000      1.000000  \n",
       "75%      1.500000      1.000000  \n",
       "max      6.200000      1.000000  "
      ]
     },
     "execution_count": 4,
     "metadata": {},
     "output_type": "execute_result"
    }
   ],
   "source": [
    "# Descrição dos dados não-string\n",
    "df.describe()"
   ]
  },
  {
   "cell_type": "code",
   "execution_count": 5,
   "id": "aa8de4a0",
   "metadata": {},
   "outputs": [],
   "source": [
    "\n",
    "\n",
    "# A transformação acima apenas foi usada para separar os nomes das colunas entre numéricas não-categóricas \n",
    "# e categóricas (apenas no formato string - objeto)\n",
    "num_cols = [col for col in df.columns if df[col].dtype != \"object\"]\n",
    "cat_cols = [col for col in df.columns if col not in num_cols]"
   ]
  },
  {
   "cell_type": "code",
   "execution_count": 6,
   "id": "310d9ecc",
   "metadata": {},
   "outputs": [
    {
     "data": {
      "image/png": "[encoded data removed]",
      "text/plain": [
       "<Figure size 432x288 with 1 Axes>"
      ]
     },
     "metadata": {
      "needs_background": "light"
     },
     "output_type": "display_data"
    },
    {
     "data": {
      "image/png": "[encoded data removed]",
      "text/plain": [
       "<Figure size 432x288 with 1 Axes>"
      ]
     },
     "metadata": {
      "needs_background": "light"
     },
     "output_type": "display_data"
    },
    {
     "data": {
      "image/png": "[encoded data removed]",
      "text/plain": [
       "<Figure size 432x288 with 1 Axes>"
      ]
     },
     "metadata": {
      "needs_background": "light"
     },
     "output_type": "display_data"
    },
    {
     "data": {
      "image/png": "[encoded data removed]",
      "text/plain": [
       "<Figure size 432x288 with 1 Axes>"
      ]
     },
     "metadata": {
      "needs_background": "light"
     },
     "output_type": "display_data"
    },
    {
     "data": {
      "image/png": "[encoded data removed]",
      "text/plain": [
       "<Figure size 432x288 with 1 Axes>"
      ]
     },
     "metadata": {
      "needs_background": "light"
     },
     "output_type": "display_data"
    },
    {
     "data": {
      "image/png": "[encoded data removed]",
      "text/plain": [
       "<Figure size 432x288 with 1 Axes>"
      ]
     },
     "metadata": {
      "needs_background": "light"
     },
     "output_type": "display_data"
    },
    {
     "data": {
      "image/png": "[encoded data removed]",
      "text/plain": [
       "<Figure size 432x288 with 1 Axes>"
      ]
     },
     "metadata": {
      "needs_background": "light"
     },
     "output_type": "display_data"
    }
   ],
   "source": [
    "for col in num_cols:\n",
    "    sns.boxplot(y = col , data = df)\n",
    "    plt.show()"
   ]
  },
  {
   "cell_type": "markdown",
   "id": "3d8fbce8",
   "metadata": {},
   "source": [
    "**Verificar colunas do tipo object e converter para o tipo necessario**\n"
   ]
  },
  {
   "cell_type": "code",
   "execution_count": 7,
   "id": "85f9ed04",
   "metadata": {},
   "outputs": [
    {
     "data": {
      "text/plain": [
       "array(['M', 'F'], dtype=object)"
      ]
     },
     "execution_count": 7,
     "metadata": {},
     "output_type": "execute_result"
    }
   ],
   "source": [
    "#Verificando Possiveis valores estranho\n",
    "df['Sex'].unique()"
   ]
  },
  {
   "cell_type": "code",
   "execution_count": 8,
   "id": "efbed085",
   "metadata": {},
   "outputs": [
    {
     "data": {
      "text/plain": [
       "array(['ATA', 'NAP', 'ASY', 'TA'], dtype=object)"
      ]
     },
     "execution_count": 8,
     "metadata": {},
     "output_type": "execute_result"
    }
   ],
   "source": [
    "#Verificando Possiveis valores estranho\n",
    "df['ChestPainType'].unique()"
   ]
  },
  {
   "cell_type": "code",
   "execution_count": 9,
   "id": "8a7c44a6",
   "metadata": {},
   "outputs": [
    {
     "data": {
      "text/plain": [
       "array(['Normal', 'ST', 'LVH'], dtype=object)"
      ]
     },
     "execution_count": 9,
     "metadata": {},
     "output_type": "execute_result"
    }
   ],
   "source": [
    "#Verificando Possiveis valores estranho\n",
    "df['RestingECG'].unique()"
   ]
  },
  {
   "cell_type": "code",
   "execution_count": 10,
   "id": "5366cd8e",
   "metadata": {},
   "outputs": [
    {
     "data": {
      "text/plain": [
       "array(['N', 'Y'], dtype=object)"
      ]
     },
     "execution_count": 10,
     "metadata": {},
     "output_type": "execute_result"
    }
   ],
   "source": [
    "#Verificando Possiveis valores estranho\n",
    "df['ExerciseAngina'].unique()"
   ]
  },
  {
   "cell_type": "code",
   "execution_count": 11,
   "id": "3ca00062",
   "metadata": {},
   "outputs": [
    {
     "data": {
      "text/plain": [
       "array(['Up', 'Flat', 'Down'], dtype=object)"
      ]
     },
     "execution_count": 11,
     "metadata": {},
     "output_type": "execute_result"
    }
   ],
   "source": [
    "#Verificando Possiveis valores estranho\n",
    "df['ST_Slope'].unique()"
   ]
  },
  {
   "cell_type": "code",
   "execution_count": 12,
   "id": "8b27b9fa",
   "metadata": {},
   "outputs": [
    {
     "name": "stdout",
     "output_type": "stream",
     "text": [
      "<class 'pandas.core.frame.DataFrame'>\n",
      "RangeIndex: 918 entries, 0 to 917\n",
      "Data columns (total 12 columns):\n",
      " #   Column          Non-Null Count  Dtype   \n",
      "---  ------          --------------  -----   \n",
      " 0   Age             918 non-null    int64   \n",
      " 1   Sex             918 non-null    category\n",
      " 2   ChestPainType   918 non-null    category\n",
      " 3   RestingBP       918 non-null    int64   \n",
      " 4   Cholesterol     918 non-null    int64   \n",
      " 5   FastingBS       918 non-null    int64   \n",
      " 6   RestingECG      918 non-null    category\n",
      " 7   MaxHR           918 non-null    int64   \n",
      " 8   ExerciseAngina  918 non-null    category\n",
      " 9   Oldpeak         918 non-null    float64 \n",
      " 10  ST_Slope        918 non-null    category\n",
      " 11  HeartDisease    918 non-null    int32   \n",
      "dtypes: category(5), float64(1), int32(1), int64(5)\n",
      "memory usage: 51.9 KB\n"
     ]
    }
   ],
   "source": [
    "#Mudando para categorico\n",
    "df['Sex'] = df['Sex'].astype('category')\n",
    "df['ChestPainType'] = df['ChestPainType'].astype('category')\n",
    "df['RestingECG'] = df['RestingECG'].astype('category')\n",
    "df['ExerciseAngina'] = df['ExerciseAngina'].astype('category')\n",
    "df['ST_Slope'] = df['ST_Slope'].astype('category')\n",
    "df['HeartDisease'] = df['HeartDisease'].astype(int)\n",
    "df.info()"
   ]
  },
  {
   "cell_type": "markdown",
   "id": "899c15e9",
   "metadata": {},
   "source": [
    "## Análise de Outliers e Imputação de Dados"
   ]
  },
  {
   "cell_type": "markdown",
   "id": "219b5aaf",
   "metadata": {},
   "source": [
    "**As variáveis não-categóricas 'RestingBP' e 'Cholesterol' apresentam outliers \"estranhos\".**"
   ]
  },
  {
   "cell_type": "code",
   "execution_count": 13,
   "id": "d98dfba4",
   "metadata": {},
   "outputs": [],
   "source": [
    "# A variável 'RestingBP', que guarda dados sobre pressão sanguínea, possui um valor com pressão zero\n",
    "# Esse valor não faz sentido\n",
    "\n",
    "row = df[df['RestingBP']==0].index\n",
    "df = df.drop(df.index[row])"
   ]
  },
  {
   "cell_type": "code",
   "execution_count": 14,
   "id": "26d527c8",
   "metadata": {},
   "outputs": [],
   "source": [
    "# Muitos dados da variável 'Cholesterol' apresentam valor de colesterol zero.\n",
    "# É estranho esse dado. Alguma pessoa viva tem colesterol zero? \n",
    "\n",
    "IQR = np.percentile(df[\"Cholesterol\"],75) - np.percentile(df[\"Cholesterol\"],25)\n",
    "lower_bound = np.percentile(df[\"Cholesterol\"],25) - 1.5 * IQR\n",
    "upper_bound = np.percentile(df[\"Cholesterol\"],75) + 1.5 * IQR\n",
    "median_cholesterol = np.median(df[\"Cholesterol\"])\n",
    "\n",
    "df[\"Cholesterol\"] = np.where(((df[\"Cholesterol\"] > upper_bound) | (df[\"Cholesterol\"] < lower_bound)) \n",
    "                                 ,random.randint(int(np.percentile(df[\"Cholesterol\"],25)),\n",
    "                                                 int(np.percentile(df[\"Cholesterol\"],75))),df[\"Cholesterol\"])\n",
    "\n"
   ]
  },
  {
   "cell_type": "markdown",
   "id": "473bcd92",
   "metadata": {},
   "source": [
    "A inputção dos dados aqui ta meio confusa, não entendi por que você escolheu usar dessa forma"
   ]
  },
  {
   "cell_type": "markdown",
   "id": "2e84a120",
   "metadata": {},
   "source": [
    "### Enconding "
   ]
  },
  {
   "cell_type": "code",
   "execution_count": 15,
   "id": "a70d324a",
   "metadata": {},
   "outputs": [
    {
     "data": {
      "text/html": [
       "<div>\n",
       "<style scoped>\n",
       "    .dataframe tbody tr th:only-of-type {\n",
       "        vertical-align: middle;\n",
       "    }\n",
       "\n",
       "    .dataframe tbody tr th {\n",
       "        vertical-align: top;\n",
       "    }\n",
       "\n",
       "    .dataframe thead th {\n",
       "        text-align: right;\n",
       "    }\n",
       "</style>\n",
       "<table border=\"1\" class=\"dataframe\">\n",
       "  <thead>\n",
       "    <tr style=\"text-align: right;\">\n",
       "      <th></th>\n",
       "      <th>Age</th>\n",
       "      <th>Sex</th>\n",
       "      <th>ChestPainType</th>\n",
       "      <th>RestingBP</th>\n",
       "      <th>Cholesterol</th>\n",
       "      <th>FastingBS</th>\n",
       "      <th>RestingECG</th>\n",
       "      <th>MaxHR</th>\n",
       "      <th>ExerciseAngina</th>\n",
       "      <th>Oldpeak</th>\n",
       "      <th>ST_Slope</th>\n",
       "      <th>HeartDisease</th>\n",
       "    </tr>\n",
       "  </thead>\n",
       "  <tbody>\n",
       "    <tr>\n",
       "      <th>0</th>\n",
       "      <td>40</td>\n",
       "      <td>1</td>\n",
       "      <td>1</td>\n",
       "      <td>140</td>\n",
       "      <td>289</td>\n",
       "      <td>0</td>\n",
       "      <td>1</td>\n",
       "      <td>172</td>\n",
       "      <td>0</td>\n",
       "      <td>0.0</td>\n",
       "      <td>2</td>\n",
       "      <td>0</td>\n",
       "    </tr>\n",
       "    <tr>\n",
       "      <th>1</th>\n",
       "      <td>49</td>\n",
       "      <td>0</td>\n",
       "      <td>2</td>\n",
       "      <td>160</td>\n",
       "      <td>180</td>\n",
       "      <td>0</td>\n",
       "      <td>1</td>\n",
       "      <td>156</td>\n",
       "      <td>0</td>\n",
       "      <td>1.0</td>\n",
       "      <td>1</td>\n",
       "      <td>1</td>\n",
       "    </tr>\n",
       "    <tr>\n",
       "      <th>2</th>\n",
       "      <td>37</td>\n",
       "      <td>1</td>\n",
       "      <td>1</td>\n",
       "      <td>130</td>\n",
       "      <td>283</td>\n",
       "      <td>0</td>\n",
       "      <td>2</td>\n",
       "      <td>98</td>\n",
       "      <td>0</td>\n",
       "      <td>0.0</td>\n",
       "      <td>2</td>\n",
       "      <td>0</td>\n",
       "    </tr>\n",
       "    <tr>\n",
       "      <th>3</th>\n",
       "      <td>48</td>\n",
       "      <td>0</td>\n",
       "      <td>0</td>\n",
       "      <td>138</td>\n",
       "      <td>214</td>\n",
       "      <td>0</td>\n",
       "      <td>1</td>\n",
       "      <td>108</td>\n",
       "      <td>1</td>\n",
       "      <td>1.5</td>\n",
       "      <td>1</td>\n",
       "      <td>1</td>\n",
       "    </tr>\n",
       "    <tr>\n",
       "      <th>4</th>\n",
       "      <td>54</td>\n",
       "      <td>1</td>\n",
       "      <td>2</td>\n",
       "      <td>150</td>\n",
       "      <td>195</td>\n",
       "      <td>0</td>\n",
       "      <td>1</td>\n",
       "      <td>122</td>\n",
       "      <td>0</td>\n",
       "      <td>0.0</td>\n",
       "      <td>2</td>\n",
       "      <td>0</td>\n",
       "    </tr>\n",
       "    <tr>\n",
       "      <th>...</th>\n",
       "      <td>...</td>\n",
       "      <td>...</td>\n",
       "      <td>...</td>\n",
       "      <td>...</td>\n",
       "      <td>...</td>\n",
       "      <td>...</td>\n",
       "      <td>...</td>\n",
       "      <td>...</td>\n",
       "      <td>...</td>\n",
       "      <td>...</td>\n",
       "      <td>...</td>\n",
       "      <td>...</td>\n",
       "    </tr>\n",
       "    <tr>\n",
       "      <th>913</th>\n",
       "      <td>45</td>\n",
       "      <td>1</td>\n",
       "      <td>3</td>\n",
       "      <td>110</td>\n",
       "      <td>264</td>\n",
       "      <td>0</td>\n",
       "      <td>1</td>\n",
       "      <td>132</td>\n",
       "      <td>0</td>\n",
       "      <td>1.2</td>\n",
       "      <td>1</td>\n",
       "      <td>1</td>\n",
       "    </tr>\n",
       "    <tr>\n",
       "      <th>914</th>\n",
       "      <td>68</td>\n",
       "      <td>1</td>\n",
       "      <td>0</td>\n",
       "      <td>144</td>\n",
       "      <td>193</td>\n",
       "      <td>1</td>\n",
       "      <td>1</td>\n",
       "      <td>141</td>\n",
       "      <td>0</td>\n",
       "      <td>3.4</td>\n",
       "      <td>1</td>\n",
       "      <td>1</td>\n",
       "    </tr>\n",
       "    <tr>\n",
       "      <th>915</th>\n",
       "      <td>57</td>\n",
       "      <td>1</td>\n",
       "      <td>0</td>\n",
       "      <td>130</td>\n",
       "      <td>131</td>\n",
       "      <td>0</td>\n",
       "      <td>1</td>\n",
       "      <td>115</td>\n",
       "      <td>1</td>\n",
       "      <td>1.2</td>\n",
       "      <td>1</td>\n",
       "      <td>1</td>\n",
       "    </tr>\n",
       "    <tr>\n",
       "      <th>916</th>\n",
       "      <td>57</td>\n",
       "      <td>0</td>\n",
       "      <td>1</td>\n",
       "      <td>130</td>\n",
       "      <td>236</td>\n",
       "      <td>0</td>\n",
       "      <td>0</td>\n",
       "      <td>174</td>\n",
       "      <td>0</td>\n",
       "      <td>0.0</td>\n",
       "      <td>1</td>\n",
       "      <td>1</td>\n",
       "    </tr>\n",
       "    <tr>\n",
       "      <th>917</th>\n",
       "      <td>38</td>\n",
       "      <td>1</td>\n",
       "      <td>2</td>\n",
       "      <td>138</td>\n",
       "      <td>175</td>\n",
       "      <td>0</td>\n",
       "      <td>1</td>\n",
       "      <td>173</td>\n",
       "      <td>0</td>\n",
       "      <td>0.0</td>\n",
       "      <td>2</td>\n",
       "      <td>0</td>\n",
       "    </tr>\n",
       "  </tbody>\n",
       "</table>\n",
       "<p>917 rows × 12 columns</p>\n",
       "</div>"
      ],
      "text/plain": [
       "     Age  Sex  ChestPainType  RestingBP  Cholesterol  FastingBS  RestingECG  \\\n",
       "0     40    1              1        140          289          0           1   \n",
       "1     49    0              2        160          180          0           1   \n",
       "2     37    1              1        130          283          0           2   \n",
       "3     48    0              0        138          214          0           1   \n",
       "4     54    1              2        150          195          0           1   \n",
       "..   ...  ...            ...        ...          ...        ...         ...   \n",
       "913   45    1              3        110          264          0           1   \n",
       "914   68    1              0        144          193          1           1   \n",
       "915   57    1              0        130          131          0           1   \n",
       "916   57    0              1        130          236          0           0   \n",
       "917   38    1              2        138          175          0           1   \n",
       "\n",
       "     MaxHR  ExerciseAngina  Oldpeak  ST_Slope  HeartDisease  \n",
       "0      172               0      0.0         2             0  \n",
       "1      156               0      1.0         1             1  \n",
       "2       98               0      0.0         2             0  \n",
       "3      108               1      1.5         1             1  \n",
       "4      122               0      0.0         2             0  \n",
       "..     ...             ...      ...       ...           ...  \n",
       "913    132               0      1.2         1             1  \n",
       "914    141               0      3.4         1             1  \n",
       "915    115               1      1.2         1             1  \n",
       "916    174               0      0.0         1             1  \n",
       "917    173               0      0.0         2             0  \n",
       "\n",
       "[917 rows x 12 columns]"
      ]
     },
     "execution_count": 15,
     "metadata": {},
     "output_type": "execute_result"
    }
   ],
   "source": [
    "#utilizando a biblioteca LabelEncoder  do sklearn para fazer o cadificação dos tipos categoricos.\n",
    "for i in df:\n",
    "    #instânciando o codificador\n",
    "    labelencoder= LabelEncoder()\n",
    "    \n",
    "    if df[i].dtype.name == \"category\":\n",
    "        #codificando e substituindo\n",
    "        df[i] = labelencoder.fit_transform(df[i])\n",
    "df\n",
    "    \n",
    "    "
   ]
  },
  {
   "cell_type": "code",
   "execution_count": 16,
   "id": "15af2b14",
   "metadata": {},
   "outputs": [],
   "source": [
    "#normalizando pelo min max\n",
    "df=(df-df.min())/(df.max()-df.min())"
   ]
  },
  {
   "cell_type": "code",
   "execution_count": 17,
   "id": "682dc61f",
   "metadata": {},
   "outputs": [
    {
     "data": {
      "text/plain": [
       "<AxesSubplot:>"
      ]
     },
     "execution_count": 17,
     "metadata": {},
     "output_type": "execute_result"
    },
    {
     "data": {
      "image/png": "[encoded data removed]",
      "text/plain": [
       "<Figure size 842.4x595.44 with 2 Axes>"
      ]
     },
     "metadata": {},
     "output_type": "display_data"
    }
   ],
   "source": [
    "#Verificando se o encoding levou a alguma correlação indesejada\n",
    "corr = df.corr()\n",
    "sns.set(rc={'figure.figsize':(11.7,8.27)})\n",
    "sns.heatmap(corr, \n",
    "        xticklabels=corr.columns,\n",
    "        yticklabels=corr.columns, annot=True)"
   ]
  },
  {
   "cell_type": "markdown",
   "id": "91ec6bfb",
   "metadata": {},
   "source": [
    "**Nenhuma correlação das colunas transformadas chega até acima de |0.5|**"
   ]
  },
  {
   "cell_type": "markdown",
   "id": "906b2069",
   "metadata": {},
   "source": [
    "## Pré processamento para a base de dados."
   ]
  },
  {
   "cell_type": "code",
   "execution_count": 18,
   "id": "19baedf0",
   "metadata": {},
   "outputs": [],
   "source": [
    "#Pegando todas as colunas menos a coluna target da classificação\n",
    "#e transformando no formato numpy\n",
    "x_data = df.loc[:, df.columns != 'HeartDisease'].to_numpy() \n",
    "#Pegando a coluna target e transformando em numpy\n",
    "y_data = df['HeartDisease'].to_numpy()"
   ]
  },
  {
   "cell_type": "code",
   "execution_count": 19,
   "id": "d9fdcb50",
   "metadata": {},
   "outputs": [
    {
     "data": {
      "text/plain": [
       "1.0    507\n",
       "0.0    410\n",
       "Name: HeartDisease, dtype: int64"
      ]
     },
     "execution_count": 19,
     "metadata": {},
     "output_type": "execute_result"
    }
   ],
   "source": [
    "#distribuição dos target\n",
    "df['HeartDisease'].value_counts()"
   ]
  },
  {
   "cell_type": "code",
   "execution_count": 26,
   "id": "6ec91012",
   "metadata": {},
   "outputs": [
    {
     "name": "stdout",
     "output_type": "stream",
     "text": [
      "(687, 11) (687,) (230, 11) (230,)\n",
      "(458, 11) (458,) (229, 11) (229,)\n"
     ]
    }
   ],
   "source": [
    "#Utilizando apenas treino e testo, já que para o knn não faz sentindo ter validação.\n",
    "#25% para teste\n",
    "X_train, X_test, y_train, y_test =  train_test_split(x_data, y_data , random_state=1, test_size=.25)\n",
    "#50% treino, 25% teste\n",
    "X_train_o, X_test_o, y_train_o, y_test_o =  train_test_split(X_train, y_train , random_state=1, test_size=.3333)\n",
    "print(X_train.shape, y_train.shape, X_test.shape, y_test.shape )\n",
    "print(X_train_o.shape, y_train_o.shape, X_test_o.shape, y_test_o.shape )"
   ]
  },
  {
   "cell_type": "markdown",
   "id": "e8ea870c",
   "metadata": {},
   "source": [
    "## GridSearch"
   ]
  },
  {
   "cell_type": "code",
   "execution_count": 27,
   "id": "32d8a0da",
   "metadata": {},
   "outputs": [
    {
     "data": {
      "text/plain": [
       "{'metric': 'manhattan', 'n_neighbors': 15}"
      ]
     },
     "execution_count": 27,
     "metadata": {},
     "output_type": "execute_result"
    }
   ],
   "source": [
    "#definindo os limites de k\n",
    "limite_superior = 100\n",
    "limite_inferior = 1 \n",
    "limite = list(range(limite_inferior,limite_superior))\n",
    "#Parametros a serem escolhidos\n",
    "params = {'n_neighbors':limite, 'metric':['euclidean','manhattan']}\n",
    "#istanciando \n",
    "gridS = GridSearchCV(KNeighborsClassifier(),params,cv=10 )\n",
    "#treinando o grid \n",
    "grid_result = gridS.fit(X_train,y_train)\n",
    "\n",
    "grid_result.best_params_\n"
   ]
  },
  {
   "cell_type": "code",
   "execution_count": 28,
   "id": "27c3c9db",
   "metadata": {},
   "outputs": [
    {
     "name": "stdout",
     "output_type": "stream",
     "text": [
      "              precision    recall  f1-score   support\n",
      "\n",
      "         0.0       0.80      0.81      0.81        97\n",
      "         1.0       0.86      0.85      0.86       133\n",
      "\n",
      "    accuracy                           0.83       230\n",
      "   macro avg       0.83      0.83      0.83       230\n",
      "weighted avg       0.84      0.83      0.83       230\n",
      "\n"
     ]
    }
   ],
   "source": [
    "#instanciando o knn com os parametros encontrados\n",
    "clf = KNeighborsClassifier(metric = grid_result.best_params_['metric'], n_neighbors = grid_result.best_params_['n_neighbors']  )\n",
    "#treinando o knn\n",
    "clf.fit(X_train, y_train)\n",
    "#print do resultados\n",
    "print(classification_report(y_test, clf.predict(X_test)))"
   ]
  },
  {
   "cell_type": "markdown",
   "id": "ed49b9ad",
   "metadata": {},
   "source": [
    "## PSO"
   ]
  },
  {
   "cell_type": "code",
   "execution_count": 29,
   "id": "466d541a",
   "metadata": {},
   "outputs": [
    {
     "name": "stderr",
     "output_type": "stream",
     "text": [
      "2021-11-07 19:48:27,963 - pyswarms.single.global_best - INFO - Optimize for 1000 iters with {'c1': 0.3, 'c2': 0.3, 'w': 0.5}\n",
      "pyswarms.single.global_best: 100%|███████████████████████████████████████████████████████████|1000/1000, best_cost=0.14\n",
      "2021-11-07 19:48:47,353 - pyswarms.single.global_best - INFO - Optimization finished | best cost: 0.13973799126637554, best pos: [29.74294182  1.12187183]\n"
     ]
    }
   ],
   "source": [
    "#função fitness\n",
    "def fitness(k,X_train,y_train,X_test,y_test):\n",
    "    #escolha do tipo de calculo de distância\n",
    "    if int(k[0,1])==1:\n",
    "        metric = 'euclidean'\n",
    "    else:\n",
    "        metric = 'manhattan'\n",
    "    #instanciando o knn\n",
    "    clf = KNeighborsClassifier(n_neighbors = int(k[0,0]), metric = metric)\n",
    "    #treinando\n",
    "    clf.fit(X_train, y_train)\n",
    "    #buscando a acc\n",
    "    acc = classification_report(y_test, clf.predict(X_test), output_dict=True)['accuracy']\n",
    "    #maximizando a acc\n",
    "    return 1-acc \n",
    "#limites\n",
    "#maior valor de k 100 \n",
    "max_bound = np.array([101,3])\n",
    "#menor valor de k 1\n",
    "min_bound = np.array([1,1])\n",
    "bounds = (min_bound, max_bound)\n",
    "\n",
    "#hiperparametros do PSO\n",
    "options = {'c1': 0.3, 'c2': 0.3, 'w': 0.5}\n",
    "#otimizador do PSO\n",
    "optimizer = GlobalBestPSO(n_particles=10, dimensions=2, options=options, bounds = bounds )\n",
    "#moendo\n",
    "cost, pos = optimizer.optimize(fitness, iters = 1000, X_train=X_train_o ,y_train=y_train_o,X_test=X_test_o,y_test=y_test_o)"
   ]
  },
  {
   "cell_type": "code",
   "execution_count": 30,
   "id": "6be3ffc4",
   "metadata": {},
   "outputs": [
    {
     "name": "stdout",
     "output_type": "stream",
     "text": [
      "              precision    recall  f1-score   support\n",
      "\n",
      "         0.0       0.81      0.81      0.81        97\n",
      "         1.0       0.86      0.86      0.86       133\n",
      "\n",
      "    accuracy                           0.84       230\n",
      "   macro avg       0.83      0.84      0.84       230\n",
      "weighted avg       0.84      0.84      0.84       230\n",
      "\n"
     ]
    }
   ],
   "source": [
    "#buscando a metrica de distancia escolhida\n",
    "if int(pos[1])==1:\n",
    "    metric = 'euclidean'\n",
    "else:\n",
    "    metric = 'manhattan'\n",
    "#instanciando o knn com as metricas encontradas no PSO\n",
    "clf = KNeighborsClassifier(metric = metric, n_neighbors = int(pos[0])  )\n",
    "#treinando o knn\n",
    "clf.fit(X_train, y_train)\n",
    "#print do resultados\n",
    "print(classification_report(y_test, clf.predict(X_test)))"
   ]
  },
  {
   "cell_type": "markdown",
   "id": "40e69acd",
   "metadata": {},
   "source": [
    "## MLP"
   ]
  },
  {
   "cell_type": "markdown",
   "id": "7f29b521",
   "metadata": {},
   "source": [
    "## Grid"
   ]
  },
  {
   "cell_type": "code",
   "execution_count": 32,
   "id": "3878640b",
   "metadata": {},
   "outputs": [
    {
     "name": "stderr",
     "output_type": "stream",
     "text": [
      "C:\\Users\\Bruno\\Anaconda3\\envs\\DataScience\\lib\\site-packages\\sklearn\\model_selection\\_search.py:922: UserWarning: One or more of the test scores are non-finite: [       nan        nan 0.83551674 0.82678311        nan        nan\n",
      " 0.83988355 0.84570597        nan        nan 0.84425036 0.83988355\n",
      "        nan        nan 0.84716157 0.85007278        nan        nan\n",
      " 0.85007278 0.83842795        nan        nan 0.82969432 0.85152838\n",
      "        nan        nan 0.83842795 0.84425036        nan        nan\n",
      " 0.84279476 0.84861718        nan        nan 0.84570597 0.84716157\n",
      "        nan        nan 0.84425036 0.84279476        nan        nan\n",
      " 0.83406114 0.83551674        nan        nan 0.83988355 0.82532751\n",
      "        nan        nan 0.84570597 0.81804949        nan        nan\n",
      " 0.83697234 0.83114993        nan        nan 0.83697234 0.8224163\n",
      "        nan        nan 0.82532751 0.84861718        nan        nan\n",
      " 0.83842795 0.82532751        nan        nan 0.83988355 0.84425036\n",
      "        nan        nan 0.83988355 0.83260553        nan        nan\n",
      " 0.83988355 0.81659389]\n",
      "  warnings.warn(\n"
     ]
    },
    {
     "data": {
      "text/plain": [
       "{'activation': 'tanh',\n",
       " 'alpha': 0.05,\n",
       " 'hidden_layer_sizes': (8, 8),\n",
       " 'learning_rate': 'adaptive',\n",
       " 'solver': 'adam'}"
      ]
     },
     "execution_count": 32,
     "metadata": {},
     "output_type": "execute_result"
    }
   ],
   "source": [
    "mlp = MLPClassifier(max_iter=1000)\n",
    "\n",
    "params = {\n",
    "    'hidden_layer_sizes': [(8,8),(316,16),(32,32), (32,64), (64,128)],\n",
    "    'activation': ['tanh', 'relu'],\n",
    "    'solver':['sgd','adam'],\n",
    "    'alpha':[0.0001, 0.05],\n",
    "    'learning_rate': ['constante','adaptive'],\n",
    "}\n",
    "\n",
    "gridS = GridSearchCV(mlp,params,n_jobs=-1,cv=3)\n",
    "grid_result = gridS.fit(X_train,y_train)\n",
    "\n",
    "grid_result.best_params_"
   ]
  },
  {
   "cell_type": "code",
   "execution_count": 33,
   "id": "de7fed64",
   "metadata": {},
   "outputs": [
    {
     "name": "stdout",
     "output_type": "stream",
     "text": [
      "              precision    recall  f1-score   support\n",
      "\n",
      "         0.0       0.83      0.86      0.84        97\n",
      "         1.0       0.89      0.87      0.88       133\n",
      "\n",
      "    accuracy                           0.87       230\n",
      "   macro avg       0.86      0.86      0.86       230\n",
      "weighted avg       0.87      0.87      0.87       230\n",
      "\n"
     ]
    }
   ],
   "source": [
    "mlp = MLPClassifier(hidden_layer_sizes=grid_result.best_params_['hidden_layer_sizes'], \n",
    "                    activation=grid_result.best_params_['activation'], solver=grid_result.best_params_['solver'],\n",
    "                    alpha=grid_result.best_params_['alpha'],\n",
    "                    learning_rate=grid_result.best_params_['learning_rate'], max_iter=1000)\n",
    "\n",
    "mlp.fit(X_train, y_train)\n",
    "\n",
    "print(classification_report(y_test, mlp.predict(X_test)))"
   ]
  },
  {
   "cell_type": "markdown",
   "id": "721448ef",
   "metadata": {},
   "source": [
    "## PSO"
   ]
  },
  {
   "cell_type": "code",
   "execution_count": 35,
   "id": "dcdd9932",
   "metadata": {},
   "outputs": [
    {
     "name": "stderr",
     "output_type": "stream",
     "text": [
      "2021-11-07 20:05:30,629 - pyswarms.single.global_best - INFO - Optimize for 1000 iters with {'c1': 0.3, 'c2': 0.3, 'w': 0.5}\n",
      "pyswarms.single.global_best: 100%|█████████████████████████████████████████████████████████|1000/1000, best_cost=0.0917\n",
      "2021-11-07 20:29:25,493 - pyswarms.single.global_best - INFO - Optimization finished | best cost: 0.09170305676855894, best pos: [107.51743943 110.77863818   1.95166735   2.25075714   2.06730753\n",
      "   1.3627953 ]\n"
     ]
    }
   ],
   "source": [
    "# Função fitness\n",
    "def fitness(p,X_train,y_train,X_test,y_test):\n",
    "\n",
    "# p é a matriz com os valores dos bounds\n",
    "    if int(p[0,2])==1:\n",
    "        activation = 'tanh'\n",
    "    else:\n",
    "        activation = 'relu'\n",
    "    \n",
    "    if int(p[0,3])==1:\n",
    "        solver = 'sgd'\n",
    "    else:\n",
    "        solver = 'adam'\n",
    "        \n",
    "    if int(p[0,4])==1:\n",
    "        alpha = 0.0001\n",
    "    else:\n",
    "        alpha = 0.05\n",
    "        \n",
    "    if int(p[0,5])==1:\n",
    "        learning_rate = 'constant'\n",
    "    else:\n",
    "        learning_rate = 'adaptive'\n",
    "        \n",
    "    mlp = MLPClassifier(hidden_layer_sizes=(int(p[0,0]),int(p[0,1])), \n",
    "                    activation=activation, solver=solver,\n",
    "                    alpha=alpha,\n",
    "                    learning_rate=learning_rate, max_iter=1000)\n",
    "    mlp.fit(X_train, y_train)\n",
    "\n",
    "    # Buscando a acurácia\n",
    "    acc = classification_report(y_test, mlp.predict(X_test), output_dict=True)['accuracy']\n",
    "    # A acurácia (acc) é uma função linear que varia de 0% a 100%. Logo o seu mínimo é 0% e o seu mínimo representa o\n",
    "    # pior caso. No entanto, queremos o melhor caso -> tendência para 100%\n",
    "    # Como o PSO trabalha referenciando o mínimo da função como o melhor caso, então temos que retornar 1-acc\n",
    "    # tendência para 100%\n",
    "    return 1-acc \n",
    "\n",
    "# Limites da fronteira do PSO -> são os hiperparâmetros de MLP que serão referênciados na função fitness\n",
    "# Note que na função fitness estamos considerando 5 hiperparâmetros - note a função MLPClassifier()\n",
    "max_bound = np.array([128,128,3,3,3,3])\n",
    "# Menor valor de k 1\n",
    "min_bound = np.array([2,2,1,1,1,1])\n",
    "bounds = (min_bound, max_bound)\n",
    "\n",
    "# Hiperparametros do PSO\n",
    "options = {'c1': 0.3, 'c2': 0.3, 'w': 0.5}\n",
    "# Otimizador do PSO\n",
    "optimizer = GlobalBestPSO(n_particles=10, dimensions=6, options=options, bounds = bounds )\n",
    "# Buscando os melhores valores para os hiperparâmetros da MLP (pos)\n",
    "cost, pos = optimizer.optimize(fitness,iters=1000,X_train=X_train_o ,y_train=y_train_o,X_test=X_test_o,y_test=y_test_o)"
   ]
  },
  {
   "cell_type": "code",
   "execution_count": 36,
   "id": "9ad71a10",
   "metadata": {},
   "outputs": [
    {
     "name": "stdout",
     "output_type": "stream",
     "text": [
      "              precision    recall  f1-score   support\n",
      "\n",
      "         0.0       0.79      0.84      0.81        97\n",
      "         1.0       0.88      0.84      0.86       133\n",
      "\n",
      "    accuracy                           0.84       230\n",
      "   macro avg       0.83      0.84      0.84       230\n",
      "weighted avg       0.84      0.84      0.84       230\n",
      "\n"
     ]
    }
   ],
   "source": [
    "if int(pos[2])==1:\n",
    "    activation = 'tanh'\n",
    "else:\n",
    "    activation = 'relu'\n",
    "    \n",
    "if int(pos[3])==1:\n",
    "    solver = 'sgd'\n",
    "else:\n",
    "    solver = 'adam'\n",
    "        \n",
    "if int(pos[4])==1:\n",
    "    alpha = 0.0001\n",
    "else:\n",
    "    alpha = 0.05\n",
    "        \n",
    "if int(pos[5])==1:\n",
    "    learning_rate = 'constant'\n",
    "else:\n",
    "    learning_rate = 'adaptive'\n",
    "\n",
    "mlp = MLPClassifier(hidden_layer_sizes=(int(pos[0]),int(pos[1])), \n",
    "                    activation=activation, solver=solver,\n",
    "                    alpha=alpha,\n",
    "                    learning_rate=learning_rate, max_iter=1000)\n",
    "\n",
    "mlp.fit(X_train, y_train)\n",
    "\n",
    "print(classification_report(y_test, mlp.predict(X_test)))"
   ]
  },
  {
   "cell_type": "code",
   "execution_count": null,
   "id": "a6afb955",
   "metadata": {},
   "outputs": [],
   "source": []
  }
 ],
 "metadata": {
  "kernelspec": {
   "display_name": "Python 3 (ipykernel)",
   "language": "python",
   "name": "python3"
  },
  "language_info": {
   "codemirror_mode": {
    "name": "ipython",
    "version": 3
   },
   "file_extension": ".py",
   "mimetype": "text/x-python",
   "name": "python",
   "nbconvert_exporter": "python",
   "pygments_lexer": "ipython3",
   "version": "3.9.12"
  }
 },
 "nbformat": 4,
 "nbformat_minor": 5
}
