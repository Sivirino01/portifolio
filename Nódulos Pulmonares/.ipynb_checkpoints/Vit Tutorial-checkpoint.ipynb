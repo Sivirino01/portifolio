{
 "cells": [
  {
   "cell_type": "markdown",
   "id": "d7fc799c",
   "metadata": {},
   "source": [
    "Código adaptador de:\n",
    "* https://keras.io/examples/vision/image_classification_with_vision_transformer/"
   ]
  },
  {
   "cell_type": "code",
   "execution_count": 1,
   "id": "a407fee4",
   "metadata": {},
   "outputs": [],
   "source": [
    "import numpy as np\n",
    "import tensorflow as tf\n",
    "from tensorflow import keras\n",
    "from tensorflow.keras import layers\n",
    "import tensorflow_addons as tfa"
   ]
  },
  {
   "cell_type": "code",
   "execution_count": 2,
   "id": "2e3ed1c4",
   "metadata": {},
   "outputs": [],
   "source": [
    "import pandas as pd"
   ]
  },
  {
   "cell_type": "code",
   "execution_count": 3,
   "id": "8ce9d221",
   "metadata": {},
   "outputs": [],
   "source": [
    "import os\n",
    "\n",
    "pasta = \"dataset/\"\n",
    "\n",
    "def files_path04(path):\n",
    "    infos =[]\n",
    "    for p, _, files in os.walk(os.path.abspath(path)):\n",
    "        for file in files:\n",
    "            infos.append(os.path.join(p, file))\n",
    "    return infos\n",
    "\n",
    "dados = files_path04(pasta)"
   ]
  },
  {
   "cell_type": "code",
   "execution_count": 4,
   "id": "c3b42ae2",
   "metadata": {},
   "outputs": [],
   "source": [
    "tipo = [i.split(\"\\\\\")[-3] for i in dados]\n",
    "subgroup = [i.split(\"\\\\\")[-2] for i in dados]\n",
    "filename = [i.split(\"\\\\\")[-1] for i in dados]\n",
    "classe = [0 if x == \"benigno\" else 1 for x in tipo  ]"
   ]
  },
  {
   "cell_type": "code",
   "execution_count": 5,
   "id": "f6d8b2c2",
   "metadata": {},
   "outputs": [],
   "source": [
    "df = pd.DataFrame()"
   ]
  },
  {
   "cell_type": "code",
   "execution_count": 6,
   "id": "89ed80ee",
   "metadata": {},
   "outputs": [],
   "source": [
    "df['filename'] = filename\n",
    "df['subgroup'] = subgroup\n",
    "df['tipo'] = tipo\n",
    "df['classe'] = classe"
   ]
  },
  {
   "cell_type": "code",
   "execution_count": 7,
   "id": "a239b206",
   "metadata": {},
   "outputs": [
    {
     "data": {
      "text/html": [
       "<div>\n",
       "<style scoped>\n",
       "    .dataframe tbody tr th:only-of-type {\n",
       "        vertical-align: middle;\n",
       "    }\n",
       "\n",
       "    .dataframe tbody tr th {\n",
       "        vertical-align: top;\n",
       "    }\n",
       "\n",
       "    .dataframe thead th {\n",
       "        text-align: right;\n",
       "    }\n",
       "</style>\n",
       "<table border=\"1\" class=\"dataframe\">\n",
       "  <thead>\n",
       "    <tr style=\"text-align: right;\">\n",
       "      <th></th>\n",
       "      <th>filename</th>\n",
       "      <th>subgroup</th>\n",
       "      <th>tipo</th>\n",
       "      <th>classe</th>\n",
       "    </tr>\n",
       "  </thead>\n",
       "  <tbody>\n",
       "    <tr>\n",
       "      <th>0</th>\n",
       "      <td>benigno10.png</td>\n",
       "      <td>1</td>\n",
       "      <td>benigno</td>\n",
       "      <td>0</td>\n",
       "    </tr>\n",
       "    <tr>\n",
       "      <th>1</th>\n",
       "      <td>benigno11.png</td>\n",
       "      <td>1</td>\n",
       "      <td>benigno</td>\n",
       "      <td>0</td>\n",
       "    </tr>\n",
       "    <tr>\n",
       "      <th>2</th>\n",
       "      <td>benigno12.png</td>\n",
       "      <td>1</td>\n",
       "      <td>benigno</td>\n",
       "      <td>0</td>\n",
       "    </tr>\n",
       "    <tr>\n",
       "      <th>3</th>\n",
       "      <td>benigno13.png</td>\n",
       "      <td>1</td>\n",
       "      <td>benigno</td>\n",
       "      <td>0</td>\n",
       "    </tr>\n",
       "    <tr>\n",
       "      <th>4</th>\n",
       "      <td>benigno1046.png</td>\n",
       "      <td>10</td>\n",
       "      <td>benigno</td>\n",
       "      <td>0</td>\n",
       "    </tr>\n",
       "    <tr>\n",
       "      <th>...</th>\n",
       "      <td>...</td>\n",
       "      <td>...</td>\n",
       "      <td>...</td>\n",
       "      <td>...</td>\n",
       "    </tr>\n",
       "    <tr>\n",
       "      <th>2687</th>\n",
       "      <td>maligno982.png</td>\n",
       "      <td>98</td>\n",
       "      <td>maligno</td>\n",
       "      <td>1</td>\n",
       "    </tr>\n",
       "    <tr>\n",
       "      <th>2688</th>\n",
       "      <td>maligno983.png</td>\n",
       "      <td>98</td>\n",
       "      <td>maligno</td>\n",
       "      <td>1</td>\n",
       "    </tr>\n",
       "    <tr>\n",
       "      <th>2689</th>\n",
       "      <td>maligno990.png</td>\n",
       "      <td>99</td>\n",
       "      <td>maligno</td>\n",
       "      <td>1</td>\n",
       "    </tr>\n",
       "    <tr>\n",
       "      <th>2690</th>\n",
       "      <td>maligno991.png</td>\n",
       "      <td>99</td>\n",
       "      <td>maligno</td>\n",
       "      <td>1</td>\n",
       "    </tr>\n",
       "    <tr>\n",
       "      <th>2691</th>\n",
       "      <td>maligno992.png</td>\n",
       "      <td>99</td>\n",
       "      <td>maligno</td>\n",
       "      <td>1</td>\n",
       "    </tr>\n",
       "  </tbody>\n",
       "</table>\n",
       "<p>2692 rows × 4 columns</p>\n",
       "</div>"
      ],
      "text/plain": [
       "             filename subgroup     tipo  classe\n",
       "0       benigno10.png        1  benigno       0\n",
       "1       benigno11.png        1  benigno       0\n",
       "2       benigno12.png        1  benigno       0\n",
       "3       benigno13.png        1  benigno       0\n",
       "4     benigno1046.png       10  benigno       0\n",
       "...               ...      ...      ...     ...\n",
       "2687   maligno982.png       98  maligno       1\n",
       "2688   maligno983.png       98  maligno       1\n",
       "2689   maligno990.png       99  maligno       1\n",
       "2690   maligno991.png       99  maligno       1\n",
       "2691   maligno992.png       99  maligno       1\n",
       "\n",
       "[2692 rows x 4 columns]"
      ]
     },
     "execution_count": 7,
     "metadata": {},
     "output_type": "execute_result"
    }
   ],
   "source": [
    "df"
   ]
  },
  {
   "cell_type": "code",
   "execution_count": 8,
   "id": "e1623e04",
   "metadata": {},
   "outputs": [],
   "source": [
    "benignos_sub = df[df['tipo']=='benigno']['subgroup'].unique()\n",
    "malignos_sub = df[df['tipo']=='maligno']['subgroup'].unique()"
   ]
  },
  {
   "cell_type": "code",
   "execution_count": 9,
   "id": "7a3b162b",
   "metadata": {},
   "outputs": [],
   "source": [
    "import random\n",
    "random.seed(42)"
   ]
  },
  {
   "cell_type": "code",
   "execution_count": 10,
   "id": "b622280c",
   "metadata": {},
   "outputs": [],
   "source": [
    "random.shuffle(benignos_sub)\n",
    "random.shuffle(malignos_sub)"
   ]
  },
  {
   "cell_type": "code",
   "execution_count": 11,
   "id": "be01275d",
   "metadata": {},
   "outputs": [],
   "source": [
    "def split(lista, folds):\n",
    "    index=[]\n",
    "    pivo = int(len(lista)/folds)\n",
    "    for i in range(folds+1):\n",
    "        index.append(lista[i*pivo:pivo*(i+1)])\n",
    "    return index\n",
    "\n",
    "folds = 14\n",
    "index_benignos = split(benignos_sub,folds)\n",
    "index_malignos = split(malignos_sub,folds)"
   ]
  },
  {
   "cell_type": "code",
   "execution_count": 12,
   "id": "9aeff4d2",
   "metadata": {},
   "outputs": [],
   "source": [
    "width = 64\n",
    "height = 64\n",
    "IMAGE_SIZE = (width,height)\n",
    "num_densa = 256\n",
    "channels = 3\n",
    "num_out = 1"
   ]
  },
  {
   "cell_type": "code",
   "execution_count": 13,
   "id": "2e514236",
   "metadata": {},
   "outputs": [],
   "source": [
    "import cv2"
   ]
  },
  {
   "cell_type": "code",
   "execution_count": 14,
   "id": "124d9aa6",
   "metadata": {},
   "outputs": [],
   "source": [
    "import numpy as np"
   ]
  },
  {
   "cell_type": "code",
   "execution_count": 15,
   "id": "d7ffb4b6",
   "metadata": {},
   "outputs": [],
   "source": [
    "\n",
    "def images_labels(indexs,tipo):\n",
    "    first = True\n",
    "    for i in indexs:\n",
    "\n",
    "        imagens = df[(df['subgroup']==i)& (df['tipo']==tipo)]['filename'].values\n",
    "        X_train = np.zeros((len(imagens), width, height, channels))\n",
    "\n",
    "        for idx,j in  enumerate(imagens):\n",
    "            X_train[idx] =  np.asarray(cv2.resize(cv2.imread(pasta+tipo+\"/\"+i+\"/\"+j), (64,64), interpolation = cv2.INTER_AREA))\n",
    "\n",
    "        X_train = X_train.reshape(( X_train.shape[0],) +(width, height,channels)).astype('float32') / 255. \n",
    "        if first:\n",
    "            out = X_train\n",
    "        else:\n",
    "            out = np.concatenate((X_train,out))  \n",
    "        first = False\n",
    "    return out\n",
    "    "
   ]
  },
  {
   "cell_type": "code",
   "execution_count": 16,
   "id": "b4f86886",
   "metadata": {},
   "outputs": [],
   "source": [
    "def concat_treino_idx(accessed_list):\n",
    "    out =[]\n",
    "    for i in accessed_list:\n",
    "        for j in i:\n",
    "            out.append(j)\n",
    "    return out"
   ]
  },
  {
   "cell_type": "code",
   "execution_count": 17,
   "id": "16d5b413",
   "metadata": {},
   "outputs": [],
   "source": [
    "def images_por_fold(index_benignos,treino_idx,teste_idx,val_idx,tipo):\n",
    "    treino_idx.remove(val_idx)\n",
    "    treino_idx.remove(teste_idx)\n",
    "    accessed_mapping = map(index_benignos.__getitem__, treino_idx)\n",
    "    accessed_list = list(accessed_mapping)\n",
    "    treino_idx = concat_treino_idx(accessed_list)\n",
    "    \n",
    "    treino = images_labels(treino_idx,tipo)\n",
    "    val = images_labels(index_benignos[val_idx],tipo)\n",
    "    teste = images_labels(index_benignos[teste_idx],tipo)\n",
    "    return treino,val,teste"
   ]
  },
  {
   "cell_type": "code",
   "execution_count": 18,
   "id": "079135c9",
   "metadata": {},
   "outputs": [],
   "source": [
    "from keras.preprocessing.image import ImageDataGenerator"
   ]
  },
  {
   "cell_type": "code",
   "execution_count": 19,
   "id": "0d934cc7",
   "metadata": {},
   "outputs": [],
   "source": [
    "from tensorflow.keras.applications import efficientnet\n",
    "\n",
    "def get_cnn_efficientnet():\n",
    "    base_model = efficientnet.EfficientNetB0(\n",
    "        input_shape=(*IMAGE_SIZE, channels), include_top=False,\n",
    "    )\n",
    "\n",
    "    base_model.trainable = True\n",
    "    base_model_out = base_model.output\n",
    "    base_model_out = layers.Flatten()(base_model_out)\n",
    "    base_model_out = layers.Dense(num_densa, activation=\"relu\")(base_model_out)\n",
    "    base_model_out = layers.Dense(num_out, activation=\"sigmoid\")(base_model_out)\n",
    "    cnn_model = keras.models.Model(base_model.input, base_model_out)\n",
    "    return cnn_model\n",
    "\n",
    "\n",
    "from tensorflow.keras.applications.vgg19 import VGG19\n",
    "\n",
    "def get_cnn_VGG19():\n",
    "    base_model = VGG19(\n",
    "        input_shape=(*IMAGE_SIZE, channels), include_top=False,\n",
    "    )\n",
    "\n",
    "    base_model.trainable = True\n",
    "    base_model_out = base_model.output\n",
    "    base_model_out = layers.Flatten()(base_model_out)\n",
    "    base_model_out = layers.Dense(num_densa, activation=\"relu\")(base_model_out)\n",
    "    base_model_out = layers.Dense(num_out, activation=\"sigmoid\")(base_model_out)\n",
    "    cnn_model = keras.models.Model(base_model.input, base_model_out)\n",
    "    return cnn_model\n",
    "\n",
    "from tensorflow.keras.applications.resnet50 import ResNet50\n",
    "\n",
    "def get_cnn_ResNet50():\n",
    "    base_model = ResNet50(\n",
    "        input_shape=(*IMAGE_SIZE, channels), include_top=False,\n",
    "    )\n",
    "\n",
    "    base_model.trainable = True\n",
    "    base_model_out = base_model.output\n",
    "    base_model_out = layers.Flatten()(base_model_out)\n",
    "    base_model_out = layers.Dense(num_densa, activation=\"relu\")(base_model_out)\n",
    "    base_model_out = layers.Dense(num_out, activation=\"sigmoid\")(base_model_out)\n",
    "    cnn_model = keras.models.Model(base_model.input, base_model_out)\n",
    "    return cnn_model"
   ]
  },
  {
   "cell_type": "code",
   "execution_count": 20,
   "id": "3ffc818b",
   "metadata": {},
   "outputs": [],
   "source": [
    "from tensorflow.keras.callbacks import EarlyStopping\n",
    "es = EarlyStopping(monitor='val_loss', mode='min', verbose=1, patience=2)"
   ]
  },
  {
   "cell_type": "code",
   "execution_count": 21,
   "id": "d4b14081",
   "metadata": {},
   "outputs": [],
   "source": [
    "val_idx = 1\n",
    "teste_idx = 2\n",
    "\n",
    "for i in range(folds):\n",
    "    #ler dados\n",
    "    tipo = \"benigno\"\n",
    "    treino_idx = [item for item in range(folds)]\n",
    "    treino_b,val_b,teste_b = images_por_fold(index_benignos,treino_idx,teste_idx,val_idx,tipo)\n",
    "    treino_b_label = np.repeat(0, len(treino_b))\n",
    "    val_b_label = np.repeat(0, len(val_b))\n",
    "    teste_b_label = np.repeat(0, len(teste_b))\n",
    "    \n",
    "    tipo = \"maligno\"\n",
    "    treino_idx = [item for item in range(folds)]\n",
    "    treino_m,val_m,teste_m = images_por_fold(index_malignos,treino_idx,teste_idx,val_idx,tipo)\n",
    "    treino_m_label = np.repeat(1, len(treino_m))\n",
    "    val_m_label = np.repeat(1, len(val_m))\n",
    "    teste_m_label = np.repeat(1, len(teste_m))\n",
    "    \n",
    "    X_train = np.concatenate((treino_b,treino_m))\n",
    "    y_train = np.concatenate((treino_b_label,treino_m_label))\n",
    "    \n",
    "    X_val = np.concatenate((val_b,val_m))\n",
    "    y_val = np.concatenate((val_b_label,val_m_label))\n",
    "    \n",
    "    #Cortando o malignos para ficar igual\n",
    "    X_teste = np.concatenate((teste_b,teste_m[:len(teste_b)]))\n",
    "    y_teste = np.concatenate((teste_b_label,teste_m_label[:len(teste_b_label)]))\n",
    "    \n",
    "    datagen = ImageDataGenerator(horizontal_flip=True,rotation_range=30,zoom_range=[0.1,1.0])\n",
    "    it = datagen.flow(X_train, y_train, batch_size=10000)\n",
    "    data = next(it)\n",
    "    \n",
    "    X_train = np.concatenate((X_train,data[0]))\n",
    "    y_train = np.concatenate((y_train,data[1]))\n",
    "    \n",
    "    \n",
    "    #execução modelos um aqui\n",
    "\n",
    "    #função do calculo das métricas\n",
    "    \n",
    "    \n",
    "    #update folds\n",
    "\n",
    "    val_idx = val_idx + 1\n",
    "    if val_idx> folds:\n",
    "        val_idx = 0\n",
    "    teste_idx = teste_idx + 1\n",
    "    if teste_idx> folds:\n",
    "        teste_idx = 0\n",
    "    break"
   ]
  },
  {
   "cell_type": "markdown",
   "id": "9f10c387",
   "metadata": {},
   "source": [
    "# VIT"
   ]
  },
  {
   "cell_type": "code",
   "execution_count": 22,
   "id": "1135939c",
   "metadata": {},
   "outputs": [],
   "source": [
    "num_classes = 2\n",
    "input_shape = (64, 64, 3)"
   ]
  },
  {
   "cell_type": "code",
   "execution_count": 23,
   "id": "30cfff28",
   "metadata": {},
   "outputs": [],
   "source": [
    "learning_rate = 0.001\n",
    "weight_decay = 0.0001\n",
    "batch_size = 16\n",
    "num_epochs = 100\n",
    "image_size = 64  # We'll resize input images to this size\n",
    "patch_size = 6  # Size of the patches to be extract from the input images\n",
    "num_patches = (image_size // patch_size) ** 2\n",
    "projection_dim = 64\n",
    "num_heads = 4\n",
    "transformer_units = [\n",
    "    projection_dim * 2,\n",
    "    projection_dim,\n",
    "]  # Size of the transformer layers\n",
    "transformer_layers = 8\n",
    "mlp_head_units = [2048, 1024]  # Size of the dense layers of the final classifier"
   ]
  },
  {
   "cell_type": "code",
   "execution_count": 24,
   "id": "d23d8727",
   "metadata": {},
   "outputs": [],
   "source": [
    "data_augmentation = keras.Sequential(\n",
    "    [\n",
    "        layers.Normalization(),\n",
    "        layers.Resizing(image_size, image_size),\n",
    "        layers.RandomFlip(\"horizontal\"),\n",
    "        layers.RandomRotation(factor=0.02),\n",
    "        layers.RandomZoom(\n",
    "            height_factor=0.2, width_factor=0.2\n",
    "        ),\n",
    "    ],\n",
    "    name=\"data_augmentation\",\n",
    ")\n",
    "# Compute the mean and the variance of the training data for normalization.\n",
    "data_augmentation.layers[0].adapt(X_train)"
   ]
  },
  {
   "cell_type": "code",
   "execution_count": 25,
   "id": "b267dad6",
   "metadata": {},
   "outputs": [],
   "source": [
    "def mlp(x, hidden_units, dropout_rate):\n",
    "    for units in hidden_units:\n",
    "        x = layers.Dense(units, activation=tf.nn.gelu)(x)\n",
    "        x = layers.Dropout(dropout_rate)(x)\n",
    "    return x"
   ]
  },
  {
   "cell_type": "code",
   "execution_count": 26,
   "id": "c27dc519",
   "metadata": {},
   "outputs": [],
   "source": [
    "class Patches(layers.Layer):\n",
    "    def __init__(self, patch_size):\n",
    "        super(Patches, self).__init__()\n",
    "        self.patch_size = patch_size\n",
    "\n",
    "    def call(self, images):\n",
    "        batch_size = tf.shape(images)[0]\n",
    "        patches = tf.image.extract_patches(\n",
    "            images=images,\n",
    "            sizes=[1, self.patch_size, self.patch_size, 1],\n",
    "            strides=[1, self.patch_size, self.patch_size, 1],\n",
    "            rates=[1, 1, 1, 1],\n",
    "            padding=\"VALID\",\n",
    "        )\n",
    "        patch_dims = patches.shape[-1]\n",
    "        patches = tf.reshape(patches, [batch_size, -1, patch_dims])\n",
    "        return patches"
   ]
  },
  {
   "cell_type": "code",
   "execution_count": 27,
   "id": "939ee4f5",
   "metadata": {},
   "outputs": [],
   "source": [
    "import matplotlib.pyplot as plt"
   ]
  },
  {
   "cell_type": "code",
   "execution_count": 28,
   "id": "b10cedd5",
   "metadata": {
    "scrolled": false
   },
   "outputs": [
    {
     "name": "stdout",
     "output_type": "stream",
     "text": [
      "Image size: 64 X 64\n",
      "Patch size: 6 X 6\n",
      "Patches per image: 100\n",
      "Elements per patch: 108\n"
     ]
    },
    {
     "data": {
      "image/png": "[encoded data removed]",
      "text/plain": [
       "<Figure size 288x288 with 1 Axes>"
      ]
     },
     "metadata": {
      "needs_background": "light"
     },
     "output_type": "display_data"
    },
    {
     "data": {
      "image/png": "[encoded data removed]",
      "text/plain": [
       "<Figure size 288x288 with 100 Axes>"
      ]
     },
     "metadata": {
      "needs_background": "light"
     },
     "output_type": "display_data"
    }
   ],
   "source": [
    "plt.figure(figsize=(4, 4))\n",
    "image = X_train[np.random.choice(range(X_train.shape[0]))]\n",
    "plt.imshow(image)\n",
    "plt.axis(\"off\")\n",
    "\n",
    "resized_image = tf.image.resize(\n",
    "    tf.convert_to_tensor([image]), size=(image_size, image_size)\n",
    ")\n",
    "patches = Patches(patch_size)(resized_image)\n",
    "print(f\"Image size: {image_size} X {image_size}\")\n",
    "print(f\"Patch size: {patch_size} X {patch_size}\")\n",
    "print(f\"Patches per image: {patches.shape[1]}\")\n",
    "print(f\"Elements per patch: {patches.shape[-1]}\")\n",
    "\n",
    "n = int(np.sqrt(patches.shape[1]))\n",
    "plt.figure(figsize=(4, 4))\n",
    "for i, patch in enumerate(patches[0]):\n",
    "    ax = plt.subplot(n, n, i + 1)\n",
    "    patch_img = tf.reshape(patch, (patch_size, patch_size, 3))\n",
    "    plt.imshow(patch_img.numpy())\n",
    "    plt.axis(\"off\")"
   ]
  },
  {
   "cell_type": "code",
   "execution_count": 29,
   "id": "b44b6739",
   "metadata": {},
   "outputs": [],
   "source": [
    "class PatchEncoder(layers.Layer):\n",
    "    def __init__(self, num_patches, projection_dim):\n",
    "        super(PatchEncoder, self).__init__()\n",
    "        self.num_patches = num_patches\n",
    "        self.projection = layers.Dense(units=projection_dim)\n",
    "        self.position_embedding = layers.Embedding(\n",
    "            input_dim=num_patches, output_dim=projection_dim\n",
    "        )\n",
    "\n",
    "    def call(self, patch):\n",
    "        positions = tf.range(start=0, limit=self.num_patches, delta=1)\n",
    "        encoded = self.projection(patch) + self.position_embedding(positions)\n",
    "        return encoded"
   ]
  },
  {
   "cell_type": "code",
   "execution_count": 30,
   "id": "77b844ea",
   "metadata": {},
   "outputs": [],
   "source": [
    "def create_vit_classifier():\n",
    "    inputs = layers.Input(shape=input_shape)\n",
    "    # Augment data.\n",
    "    augmented = data_augmentation(inputs)\n",
    "    # Create patches.\n",
    "    patches = Patches(patch_size)(augmented)\n",
    "    # Encode patches.\n",
    "    encoded_patches = PatchEncoder(num_patches, projection_dim)(patches)\n",
    "\n",
    "    # Create multiple layers of the Transformer block.\n",
    "    for _ in range(transformer_layers):\n",
    "        # Layer normalization 1.\n",
    "        x1 = layers.LayerNormalization(epsilon=1e-6)(encoded_patches)\n",
    "        # Create a multi-head attention layer.\n",
    "        attention_output = layers.MultiHeadAttention(\n",
    "            num_heads=num_heads, key_dim=projection_dim, dropout=0.1\n",
    "        )(x1, x1)\n",
    "        # Skip connection 1.\n",
    "        x2 = layers.Add()([attention_output, encoded_patches])\n",
    "        # Layer normalization 2.\n",
    "        x3 = layers.LayerNormalization(epsilon=1e-6)(x2)\n",
    "        # MLP.\n",
    "        x3 = mlp(x3, hidden_units=transformer_units, dropout_rate=0.1)\n",
    "        # Skip connection 2.\n",
    "        encoded_patches = layers.Add()([x3, x2])\n",
    "\n",
    "    # Create a [batch_size, projection_dim] tensor.\n",
    "    representation = layers.LayerNormalization(epsilon=1e-6)(encoded_patches)\n",
    "    representation = layers.Flatten()(representation)\n",
    "    representation = layers.Dropout(0.5)(representation)\n",
    "    # Add MLP.\n",
    "    features = mlp(representation, hidden_units=mlp_head_units, dropout_rate=0.5)\n",
    "    # Classify outputs.\n",
    "    logits = layers.Dense(1,activation=\"sigmoid\")(features)\n",
    "    # Create the Keras model.\n",
    "    model = keras.Model(inputs=inputs, outputs=logits)\n",
    "    return model"
   ]
  },
  {
   "cell_type": "code",
   "execution_count": 31,
   "id": "b5a65623",
   "metadata": {},
   "outputs": [],
   "source": [
    "def run_experiment(model):\n",
    "    optimizer = tfa.optimizers.AdamW(\n",
    "        learning_rate=learning_rate, weight_decay=weight_decay\n",
    "    )\n",
    "\n",
    "    model.compile(\n",
    "        optimizer=optimizer,\n",
    "        loss='binary_crossentropy',\n",
    "        metrics=['accuracy'],\n",
    "    )\n",
    "\n",
    "   # checkpoint_filepath = \"/tmp/checkpoint\"\n",
    "    #checkpoint_callback = keras.callbacks.ModelCheckpoint(\n",
    "     #   checkpoint_filepath,\n",
    "      #  monitor=\"val_accuracy\",\n",
    "       # save_best_only=True,\n",
    "        #save_weights_only=True,\n",
    "   # )\n",
    "\n",
    "    history = model.fit(\n",
    "        x=X_train,\n",
    "        y=y_train,\n",
    "        batch_size=batch_size,\n",
    "        epochs=num_epochs,\n",
    "        validation_data=(X_val, y_val),\n",
    "        #validation_split=0.1,\n",
    "        callbacks=[es],\n",
    "    )\n",
    "\n",
    "  #  model.load_weights(checkpoint_filepath)\n",
    "   # _, accuracy, top_5_accuracy = model.evaluate(x_test, y_test)\n",
    "    #print(f\"Test accuracy: {round(accuracy * 100, 2)}%\")\n",
    "    #print(f\"Test top 5 accuracy: {round(top_5_accuracy * 100, 2)}%\")\n",
    "\n",
    "    return history"
   ]
  },
  {
   "cell_type": "code",
   "execution_count": 32,
   "id": "eba8d2ff",
   "metadata": {},
   "outputs": [
    {
     "name": "stdout",
     "output_type": "stream",
     "text": [
      "Epoch 1/100\n",
      "18/18 [==============================] - 12s 266ms/step - loss: 1.5338 - accuracy: 0.6645 - val_loss: 0.6248 - val_accuracy: 0.6154\n",
      "Epoch 2/100\n",
      "18/18 [==============================] - 4s 210ms/step - loss: 0.6105 - accuracy: 0.7184 - val_loss: 0.5540 - val_accuracy: 0.8242\n",
      "Epoch 3/100\n",
      "18/18 [==============================] - 4s 209ms/step - loss: 0.5824 - accuracy: 0.7252 - val_loss: 0.5632 - val_accuracy: 0.7527\n",
      "Epoch 4/100\n",
      "18/18 [==============================] - 4s 207ms/step - loss: 0.5815 - accuracy: 0.7301 - val_loss: 0.5640 - val_accuracy: 0.5714\n",
      "Epoch 4: early stopping\n"
     ]
    }
   ],
   "source": [
    "vit_classifier = create_vit_classifier()\n",
    "history = run_experiment(vit_classifier)"
   ]
  },
  {
   "cell_type": "code",
   "execution_count": 33,
   "id": "5b3a30c6",
   "metadata": {},
   "outputs": [],
   "source": [
    "from sklearn.metrics import classification_report\n",
    "from sklearn.metrics import confusion_matrix"
   ]
  },
  {
   "cell_type": "code",
   "execution_count": 34,
   "id": "da6aeaf5",
   "metadata": {},
   "outputs": [
    {
     "name": "stdout",
     "output_type": "stream",
     "text": [
      "              precision    recall  f1-score   support\n",
      "\n",
      "     Benigno       0.82      0.26      0.39        54\n",
      "     Maligno       0.56      0.94      0.70        54\n",
      "\n",
      "    accuracy                           0.60       108\n",
      "   macro avg       0.69      0.60      0.55       108\n",
      "weighted avg       0.69      0.60      0.55       108\n",
      "\n"
     ]
    },
    {
     "data": {
      "text/plain": [
       "<AxesSubplot:>"
      ]
     },
     "execution_count": 34,
     "metadata": {},
     "output_type": "execute_result"
    },
    {
     "data": {
      "image/png": "[encoded data removed]",
      "text/plain": [
       "<Figure size 432x288 with 2 Axes>"
      ]
     },
     "metadata": {
      "needs_background": "light"
     },
     "output_type": "display_data"
    }
   ],
   "source": [
    "threshold =0.5\n",
    "y_pred = np.where(vit_classifier.predict(X_teste)> threshold, 1,0)\n",
    "target_names = ['Benigno', \"Maligno\"]\n",
    "print(classification_report(y_teste, y_pred, target_names=target_names))\n",
    "cf_matrix = confusion_matrix(y_teste, y_pred)\n",
    "import seaborn as sns\n",
    "sns.heatmap(cf_matrix, annot=True,fmt=\"g\")"
   ]
  },
  {
   "cell_type": "code",
   "execution_count": null,
   "id": "2fffd131",
   "metadata": {},
   "outputs": [],
   "source": []
  }
 ],
 "metadata": {
  "kernelspec": {
   "display_name": "Python 3 (ipykernel)",
   "language": "python",
   "name": "python3"
  },
  "language_info": {
   "codemirror_mode": {
    "name": "ipython",
    "version": 3
   },
   "file_extension": ".py",
   "mimetype": "text/x-python",
   "name": "python",
   "nbconvert_exporter": "python",
   "pygments_lexer": "ipython3",
   "version": "3.9.12"
  }
 },
 "nbformat": 4,
 "nbformat_minor": 5
}
